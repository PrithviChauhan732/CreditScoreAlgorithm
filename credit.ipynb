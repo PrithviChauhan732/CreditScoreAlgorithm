{
 "cells": [
  {
   "cell_type": "markdown",
   "metadata": {},
   "source": [
    "# <font color='red'>Credit Score Model\n",
    "---"
   ]
  },
  {
   "cell_type": "code",
   "execution_count": 1,
   "metadata": {},
   "outputs": [],
   "source": [
    "# Importing neccesary libraries \n",
    "import pandas as pd\n",
    "import numpy as np\n",
    "import matplotlib.pyplot as plt\n",
    "import seaborn as sns\n",
    "import math\n",
    "import sys\n",
    "\n",
    "# Library to split data\n",
    "from sklearn.model_selection import train_test_split\n",
    "\n",
    "# Library to remove the mean and scales each feature/variable to unit variance\n",
    "from sklearn.preprocessing import StandardScaler\n",
    "\n",
    "# Libraries and modules for model evaluation\n",
    "from sklearn.metrics import classification_report, confusion_matrix, accuracy_score\n",
    "\n",
    "# Library to measure any distortion in our dataset as a result of Imputation\n",
    "from sklearn.metrics import mean_squared_error"
   ]
  },
  {
   "cell_type": "markdown",
   "metadata": {},
   "source": [
    "### <font color='lightgreen'>Importing Libraries and modules for Machine Learning"
   ]
  },
  {
   "cell_type": "markdown",
   "metadata": {},
   "source": [
    "**Kindly install missingpy if not present**"
   ]
  },
  {
   "cell_type": "code",
   "execution_count": 2,
   "metadata": {},
   "outputs": [],
   "source": [
    "# !pip install missingpy"
   ]
  },
  {
   "cell_type": "code",
   "execution_count": 3,
   "metadata": {},
   "outputs": [],
   "source": [
    "import sklearn.neighbors._base\n",
    "sys.modules['sklearn.neighbors.base'] = sklearn.neighbors._base\n",
    "import joblib\n",
    "sys.modules['sklearn.externals.joblib'] = joblib"
   ]
  },
  {
   "cell_type": "code",
   "execution_count": 4,
   "metadata": {},
   "outputs": [],
   "source": [
    "# Library to fill in missing values in a dataset using the k-Nearest Neighbors method\n",
    "from sklearn.impute import KNNImputer\n",
    "# Importing the SimpleImputer class\n",
    "from sklearn.impute import SimpleImputer\n",
    "# Importing the MissForest class\n",
    "from missingpy import MissForest\n",
    "\n",
    "# Libraries and modules for Machine Learning\n",
    "\n",
    "# For Logistic Regression\n",
    "from sklearn.linear_model import LogisticRegression\n",
    "# For K Nearest Neighbor Algorithm\n",
    "from sklearn.neighbors import KNeighborsClassifier\n",
    "# For Decision Trees\n",
    "from sklearn.tree import DecisionTreeClassifier\n",
    "from sklearn import tree\n",
    "# For Random Forests\n",
    "from sklearn.ensemble import RandomForestClassifier\n",
    "# For forward stepwise selection\n",
    "from mlxtend.feature_selection import SequentialFeatureSelector as sfs\n",
    "# For Deep Learning \n",
    "import tensorflow as tf\n",
    "from tensorflow import keras"
   ]
  },
  {
   "cell_type": "markdown",
   "metadata": {},
   "source": [
    "### <font color='lightgreen'>Reading the Dataset from Excel Sheet\n",
    "**<font color='yellow'>Data Collection** : It is the process of collecting an adequate Dataset to obtain information that can <br>\n",
    "be used to support decision making. <br>\n",
    "Data Collection is a highly context dependent process (depends on the existing systems, databases and their <br>\n",
    "schemas, operating environments etc that hold credit data). <br>\n",
    "Here, we have our data in form of an excel sheet.\n"
   ]
  },
  {
   "cell_type": "code",
   "execution_count": 5,
   "metadata": {},
   "outputs": [],
   "source": [
    "df = pd.read_excel(\"a_Dataset_CreditScoring.xlsx\")"
   ]
  },
  {
   "cell_type": "markdown",
   "metadata": {},
   "source": [
    "## <font color='lightgreen'>Exploratory Data Analysis"
   ]
  },
  {
   "cell_type": "markdown",
   "metadata": {},
   "source": [
    "### <font color='lightgreen'>Data Review\n",
    "**<font color='yellow'>Risk Data Review** denotes a process of systematic analysis of the relevant Risk Data used by an organization towards <br>\n",
    "concrete Risk Management / business objectives or regulatory reporting.<br>\n",
    "Here, we are trying to get a better understanding of our data set and get some insights about our customers\n"
   ]
  },
  {
   "cell_type": "code",
   "execution_count": 6,
   "metadata": {},
   "outputs": [
    {
     "data": {
      "text/html": [
       "<div>\n",
       "<style scoped>\n",
       "    .dataframe tbody tr th:only-of-type {\n",
       "        vertical-align: middle;\n",
       "    }\n",
       "\n",
       "    .dataframe tbody tr th {\n",
       "        vertical-align: top;\n",
       "    }\n",
       "\n",
       "    .dataframe thead th {\n",
       "        text-align: right;\n",
       "    }\n",
       "</style>\n",
       "<table border=\"1\" class=\"dataframe\">\n",
       "  <thead>\n",
       "    <tr style=\"text-align: right;\">\n",
       "      <th></th>\n",
       "      <th>TARGET</th>\n",
       "      <th>ID</th>\n",
       "      <th>DerogCnt</th>\n",
       "      <th>CollectCnt</th>\n",
       "      <th>BanruptcyInd</th>\n",
       "      <th>InqCnt06</th>\n",
       "      <th>InqTimeLast</th>\n",
       "      <th>InqFinanceCnt24</th>\n",
       "      <th>TLTimeFirst</th>\n",
       "      <th>TLTimeLast</th>\n",
       "      <th>...</th>\n",
       "      <th>TL50UtilCnt</th>\n",
       "      <th>TLBalHCPct</th>\n",
       "      <th>TLSatPct</th>\n",
       "      <th>TLDel3060Cnt24</th>\n",
       "      <th>TLDel90Cnt24</th>\n",
       "      <th>TLDel60CntAll</th>\n",
       "      <th>TLOpenPct</th>\n",
       "      <th>TLBadDerogCnt</th>\n",
       "      <th>TLDel60Cnt24</th>\n",
       "      <th>TLOpen24Pct</th>\n",
       "    </tr>\n",
       "  </thead>\n",
       "  <tbody>\n",
       "    <tr>\n",
       "      <th>0</th>\n",
       "      <td>1</td>\n",
       "      <td>582</td>\n",
       "      <td>3</td>\n",
       "      <td>3</td>\n",
       "      <td>0</td>\n",
       "      <td>4</td>\n",
       "      <td>0.0</td>\n",
       "      <td>5</td>\n",
       "      <td>117</td>\n",
       "      <td>27</td>\n",
       "      <td>...</td>\n",
       "      <td>3.0</td>\n",
       "      <td>0.9179</td>\n",
       "      <td>0.2083</td>\n",
       "      <td>2</td>\n",
       "      <td>3</td>\n",
       "      <td>7</td>\n",
       "      <td>0.2083</td>\n",
       "      <td>4</td>\n",
       "      <td>4</td>\n",
       "      <td>0.0000</td>\n",
       "    </tr>\n",
       "    <tr>\n",
       "      <th>1</th>\n",
       "      <td>1</td>\n",
       "      <td>662</td>\n",
       "      <td>15</td>\n",
       "      <td>9</td>\n",
       "      <td>0</td>\n",
       "      <td>3</td>\n",
       "      <td>1.0</td>\n",
       "      <td>3</td>\n",
       "      <td>14</td>\n",
       "      <td>14</td>\n",
       "      <td>...</td>\n",
       "      <td>1.0</td>\n",
       "      <td>0.8000</td>\n",
       "      <td>0.0000</td>\n",
       "      <td>0</td>\n",
       "      <td>0</td>\n",
       "      <td>0</td>\n",
       "      <td>1.0000</td>\n",
       "      <td>12</td>\n",
       "      <td>0</td>\n",
       "      <td>1.0000</td>\n",
       "    </tr>\n",
       "    <tr>\n",
       "      <th>2</th>\n",
       "      <td>1</td>\n",
       "      <td>805</td>\n",
       "      <td>0</td>\n",
       "      <td>0</td>\n",
       "      <td>0</td>\n",
       "      <td>1</td>\n",
       "      <td>5.0</td>\n",
       "      <td>1</td>\n",
       "      <td>354</td>\n",
       "      <td>7</td>\n",
       "      <td>...</td>\n",
       "      <td>5.0</td>\n",
       "      <td>0.3552</td>\n",
       "      <td>0.6538</td>\n",
       "      <td>0</td>\n",
       "      <td>1</td>\n",
       "      <td>1</td>\n",
       "      <td>0.7308</td>\n",
       "      <td>1</td>\n",
       "      <td>1</td>\n",
       "      <td>0.5263</td>\n",
       "    </tr>\n",
       "    <tr>\n",
       "      <th>3</th>\n",
       "      <td>1</td>\n",
       "      <td>1175</td>\n",
       "      <td>8</td>\n",
       "      <td>5</td>\n",
       "      <td>0</td>\n",
       "      <td>6</td>\n",
       "      <td>1.0</td>\n",
       "      <td>10</td>\n",
       "      <td>16</td>\n",
       "      <td>4</td>\n",
       "      <td>...</td>\n",
       "      <td>3.0</td>\n",
       "      <td>0.9127</td>\n",
       "      <td>0.2500</td>\n",
       "      <td>1</td>\n",
       "      <td>1</td>\n",
       "      <td>1</td>\n",
       "      <td>0.7500</td>\n",
       "      <td>7</td>\n",
       "      <td>1</td>\n",
       "      <td>1.3333</td>\n",
       "    </tr>\n",
       "    <tr>\n",
       "      <th>4</th>\n",
       "      <td>1</td>\n",
       "      <td>1373</td>\n",
       "      <td>3</td>\n",
       "      <td>1</td>\n",
       "      <td>0</td>\n",
       "      <td>9</td>\n",
       "      <td>0.0</td>\n",
       "      <td>8</td>\n",
       "      <td>130</td>\n",
       "      <td>52</td>\n",
       "      <td>...</td>\n",
       "      <td>1.0</td>\n",
       "      <td>1.2511</td>\n",
       "      <td>0.0000</td>\n",
       "      <td>0</td>\n",
       "      <td>1</td>\n",
       "      <td>4</td>\n",
       "      <td>0.1429</td>\n",
       "      <td>3</td>\n",
       "      <td>1</td>\n",
       "      <td>0.0000</td>\n",
       "    </tr>\n",
       "  </tbody>\n",
       "</table>\n",
       "<p>5 rows × 30 columns</p>\n",
       "</div>"
      ],
      "text/plain": [
       "   TARGET    ID  DerogCnt  CollectCnt  BanruptcyInd  InqCnt06  InqTimeLast  \\\n",
       "0       1   582         3           3             0         4          0.0   \n",
       "1       1   662        15           9             0         3          1.0   \n",
       "2       1   805         0           0             0         1          5.0   \n",
       "3       1  1175         8           5             0         6          1.0   \n",
       "4       1  1373         3           1             0         9          0.0   \n",
       "\n",
       "   InqFinanceCnt24  TLTimeFirst  TLTimeLast  ...  TL50UtilCnt  TLBalHCPct  \\\n",
       "0                5          117          27  ...          3.0      0.9179   \n",
       "1                3           14          14  ...          1.0      0.8000   \n",
       "2                1          354           7  ...          5.0      0.3552   \n",
       "3               10           16           4  ...          3.0      0.9127   \n",
       "4                8          130          52  ...          1.0      1.2511   \n",
       "\n",
       "   TLSatPct  TLDel3060Cnt24  TLDel90Cnt24  TLDel60CntAll  TLOpenPct  \\\n",
       "0    0.2083               2             3              7     0.2083   \n",
       "1    0.0000               0             0              0     1.0000   \n",
       "2    0.6538               0             1              1     0.7308   \n",
       "3    0.2500               1             1              1     0.7500   \n",
       "4    0.0000               0             1              4     0.1429   \n",
       "\n",
       "   TLBadDerogCnt  TLDel60Cnt24  TLOpen24Pct  \n",
       "0              4             4       0.0000  \n",
       "1             12             0       1.0000  \n",
       "2              1             1       0.5263  \n",
       "3              7             1       1.3333  \n",
       "4              3             1       0.0000  \n",
       "\n",
       "[5 rows x 30 columns]"
      ]
     },
     "execution_count": 6,
     "metadata": {},
     "output_type": "execute_result"
    }
   ],
   "source": [
    "df.head()"
   ]
  },
  {
   "cell_type": "markdown",
   "metadata": {},
   "source": [
    "<font color='yellow'>Our dataset consisting of data for 3000 customers with 28 feature variables for each customer and <br>\n",
    "each of them categorised as \"*Defaulter*\" or \"*Good Loan*\" <br>"
   ]
  },
  {
   "cell_type": "code",
   "execution_count": 7,
   "metadata": {},
   "outputs": [
    {
     "data": {
      "text/plain": [
       "(3000, 30)"
      ]
     },
     "execution_count": 7,
     "metadata": {},
     "output_type": "execute_result"
    }
   ],
   "source": [
    "df.shape"
   ]
  },
  {
   "cell_type": "markdown",
   "metadata": {},
   "source": [
    "<font color='yellow'>List of all the feature variables i.e. different parameters based <br>\n",
    "on which Target Variable is being determined"
   ]
  },
  {
   "cell_type": "code",
   "execution_count": 8,
   "metadata": {},
   "outputs": [
    {
     "data": {
      "text/plain": [
       "Index(['DerogCnt', 'CollectCnt', 'BanruptcyInd', 'InqCnt06', 'InqTimeLast',\n",
       "       'InqFinanceCnt24', 'TLTimeFirst', 'TLTimeLast', 'TLCnt03', 'TLCnt12',\n",
       "       'TLCnt24', 'TLCnt', 'TLSum', 'TLMaxSum', 'TLSatCnt', 'TLDel60Cnt',\n",
       "       'TLBadCnt24', 'TL75UtilCnt', 'TL50UtilCnt', 'TLBalHCPct', 'TLSatPct',\n",
       "       'TLDel3060Cnt24', 'TLDel90Cnt24', 'TLDel60CntAll', 'TLOpenPct',\n",
       "       'TLBadDerogCnt', 'TLDel60Cnt24', 'TLOpen24Pct'],\n",
       "      dtype='object')"
      ]
     },
     "execution_count": 8,
     "metadata": {},
     "output_type": "execute_result"
    }
   ],
   "source": [
    "df.columns[2:]"
   ]
  },
  {
   "cell_type": "markdown",
   "metadata": {},
   "source": [
    "<font color='yellow'>Since, Customer ID should not be impacting whether a customer is a \"*Defaulter*\" or it is a \"*Good Loan*\". <br>\n",
    "So, we drop the variable **ID** from our data set df"
   ]
  },
  {
   "cell_type": "code",
   "execution_count": 9,
   "metadata": {},
   "outputs": [],
   "source": [
    "df.drop(\"ID\", axis = 1, inplace = True)"
   ]
  },
  {
   "cell_type": "code",
   "execution_count": 10,
   "metadata": {},
   "outputs": [
    {
     "name": "stdout",
     "output_type": "stream",
     "text": [
      "Total number of Customers are 3000\n",
      "Number of Normal Customers are 2500\n",
      "Number of fraudulent Customers are 500\n",
      "Percentage of fraud Customers is 20.0\n"
     ]
    }
   ],
   "source": [
    "Total_customers = len(df)\n",
    "normal = len(df[df[\"TARGET\"] == 0])\n",
    "fraudulent = len(df[df[\"TARGET\"] == 1])\n",
    "fraud_percentage = round(fraudulent/normal*100, 2)\n",
    "print(('Total number of Customers are {}'.format(Total_customers)))\n",
    "print(('Number of Normal Customers are {}'.format(normal)))\n",
    "print(('Number of fraudulent Customers are {}'.format(fraudulent)))\n",
    "print(('Percentage of fraud Customers is {}'.format(fraud_percentage)))"
   ]
  },
  {
   "cell_type": "markdown",
   "metadata": {},
   "source": [
    "<font color='yellow'>In an attempt to know our data set better, we extract info about it. <br>\n",
    "It is clear that we have missing data or *Null Entries* in our data set which can be a result of <br>\n",
    "unavailability of *Significant Credit History*"
   ]
  },
  {
   "cell_type": "code",
   "execution_count": 11,
   "metadata": {},
   "outputs": [
    {
     "name": "stdout",
     "output_type": "stream",
     "text": [
      "<class 'pandas.core.frame.DataFrame'>\n",
      "RangeIndex: 3000 entries, 0 to 2999\n",
      "Data columns (total 29 columns):\n",
      " #   Column           Non-Null Count  Dtype  \n",
      "---  ------           --------------  -----  \n",
      " 0   TARGET           3000 non-null   int64  \n",
      " 1   DerogCnt         3000 non-null   int64  \n",
      " 2   CollectCnt       3000 non-null   int64  \n",
      " 3   BanruptcyInd     3000 non-null   int64  \n",
      " 4   InqCnt06         3000 non-null   int64  \n",
      " 5   InqTimeLast      2812 non-null   float64\n",
      " 6   InqFinanceCnt24  3000 non-null   int64  \n",
      " 7   TLTimeFirst      3000 non-null   int64  \n",
      " 8   TLTimeLast       3000 non-null   int64  \n",
      " 9   TLCnt03          3000 non-null   int64  \n",
      " 10  TLCnt12          3000 non-null   int64  \n",
      " 11  TLCnt24          3000 non-null   int64  \n",
      " 12  TLCnt            2997 non-null   float64\n",
      " 13  TLSum            2960 non-null   float64\n",
      " 14  TLMaxSum         2960 non-null   float64\n",
      " 15  TLSatCnt         2996 non-null   float64\n",
      " 16  TLDel60Cnt       3000 non-null   int64  \n",
      " 17  TLBadCnt24       3000 non-null   int64  \n",
      " 18  TL75UtilCnt      2901 non-null   float64\n",
      " 19  TL50UtilCnt      2901 non-null   float64\n",
      " 20  TLBalHCPct       2959 non-null   float64\n",
      " 21  TLSatPct         2996 non-null   float64\n",
      " 22  TLDel3060Cnt24   3000 non-null   int64  \n",
      " 23  TLDel90Cnt24     3000 non-null   int64  \n",
      " 24  TLDel60CntAll    3000 non-null   int64  \n",
      " 25  TLOpenPct        2997 non-null   float64\n",
      " 26  TLBadDerogCnt    3000 non-null   int64  \n",
      " 27  TLDel60Cnt24     3000 non-null   int64  \n",
      " 28  TLOpen24Pct      2997 non-null   float64\n",
      "dtypes: float64(11), int64(18)\n",
      "memory usage: 679.8 KB\n"
     ]
    }
   ],
   "source": [
    "df.info()"
   ]
  },
  {
   "cell_type": "code",
   "execution_count": 12,
   "metadata": {},
   "outputs": [
    {
     "data": {
      "text/html": [
       "<div>\n",
       "<style scoped>\n",
       "    .dataframe tbody tr th:only-of-type {\n",
       "        vertical-align: middle;\n",
       "    }\n",
       "\n",
       "    .dataframe tbody tr th {\n",
       "        vertical-align: top;\n",
       "    }\n",
       "\n",
       "    .dataframe thead th {\n",
       "        text-align: right;\n",
       "    }\n",
       "</style>\n",
       "<table border=\"1\" class=\"dataframe\">\n",
       "  <thead>\n",
       "    <tr style=\"text-align: right;\">\n",
       "      <th></th>\n",
       "      <th>TARGET</th>\n",
       "      <th>DerogCnt</th>\n",
       "      <th>CollectCnt</th>\n",
       "      <th>BanruptcyInd</th>\n",
       "      <th>InqCnt06</th>\n",
       "      <th>InqTimeLast</th>\n",
       "      <th>InqFinanceCnt24</th>\n",
       "      <th>TLTimeFirst</th>\n",
       "      <th>TLTimeLast</th>\n",
       "      <th>TLCnt03</th>\n",
       "      <th>...</th>\n",
       "      <th>TL50UtilCnt</th>\n",
       "      <th>TLBalHCPct</th>\n",
       "      <th>TLSatPct</th>\n",
       "      <th>TLDel3060Cnt24</th>\n",
       "      <th>TLDel90Cnt24</th>\n",
       "      <th>TLDel60CntAll</th>\n",
       "      <th>TLOpenPct</th>\n",
       "      <th>TLBadDerogCnt</th>\n",
       "      <th>TLDel60Cnt24</th>\n",
       "      <th>TLOpen24Pct</th>\n",
       "    </tr>\n",
       "  </thead>\n",
       "  <tbody>\n",
       "    <tr>\n",
       "      <th>count</th>\n",
       "      <td>3000.000000</td>\n",
       "      <td>3000.000000</td>\n",
       "      <td>3000.000000</td>\n",
       "      <td>3000.000000</td>\n",
       "      <td>3000.000000</td>\n",
       "      <td>2812.000000</td>\n",
       "      <td>3000.000000</td>\n",
       "      <td>3000.000000</td>\n",
       "      <td>3000.000000</td>\n",
       "      <td>3000.000000</td>\n",
       "      <td>...</td>\n",
       "      <td>2901.000000</td>\n",
       "      <td>2959.000000</td>\n",
       "      <td>2996.000000</td>\n",
       "      <td>3000.000000</td>\n",
       "      <td>3000.000000</td>\n",
       "      <td>3000.000000</td>\n",
       "      <td>2997.000000</td>\n",
       "      <td>3000.000000</td>\n",
       "      <td>3000.000000</td>\n",
       "      <td>2997.000000</td>\n",
       "    </tr>\n",
       "    <tr>\n",
       "      <th>mean</th>\n",
       "      <td>0.166667</td>\n",
       "      <td>1.430000</td>\n",
       "      <td>0.857000</td>\n",
       "      <td>0.153333</td>\n",
       "      <td>3.108333</td>\n",
       "      <td>3.108108</td>\n",
       "      <td>3.555000</td>\n",
       "      <td>170.113667</td>\n",
       "      <td>11.873667</td>\n",
       "      <td>0.275000</td>\n",
       "      <td>...</td>\n",
       "      <td>4.077904</td>\n",
       "      <td>0.648178</td>\n",
       "      <td>0.518331</td>\n",
       "      <td>0.726000</td>\n",
       "      <td>0.814667</td>\n",
       "      <td>2.522000</td>\n",
       "      <td>0.496168</td>\n",
       "      <td>1.409000</td>\n",
       "      <td>1.068333</td>\n",
       "      <td>0.564219</td>\n",
       "    </tr>\n",
       "    <tr>\n",
       "      <th>std</th>\n",
       "      <td>0.372740</td>\n",
       "      <td>2.731469</td>\n",
       "      <td>2.161352</td>\n",
       "      <td>0.360369</td>\n",
       "      <td>3.479171</td>\n",
       "      <td>4.637831</td>\n",
       "      <td>4.477536</td>\n",
       "      <td>92.813700</td>\n",
       "      <td>16.321412</td>\n",
       "      <td>0.582084</td>\n",
       "      <td>...</td>\n",
       "      <td>3.108076</td>\n",
       "      <td>0.266486</td>\n",
       "      <td>0.234759</td>\n",
       "      <td>1.163633</td>\n",
       "      <td>1.609508</td>\n",
       "      <td>3.407255</td>\n",
       "      <td>0.206722</td>\n",
       "      <td>2.460434</td>\n",
       "      <td>1.806124</td>\n",
       "      <td>0.480105</td>\n",
       "    </tr>\n",
       "    <tr>\n",
       "      <th>min</th>\n",
       "      <td>0.000000</td>\n",
       "      <td>0.000000</td>\n",
       "      <td>0.000000</td>\n",
       "      <td>0.000000</td>\n",
       "      <td>0.000000</td>\n",
       "      <td>0.000000</td>\n",
       "      <td>0.000000</td>\n",
       "      <td>6.000000</td>\n",
       "      <td>0.000000</td>\n",
       "      <td>0.000000</td>\n",
       "      <td>...</td>\n",
       "      <td>0.000000</td>\n",
       "      <td>0.000000</td>\n",
       "      <td>0.000000</td>\n",
       "      <td>0.000000</td>\n",
       "      <td>0.000000</td>\n",
       "      <td>0.000000</td>\n",
       "      <td>0.000000</td>\n",
       "      <td>0.000000</td>\n",
       "      <td>0.000000</td>\n",
       "      <td>0.000000</td>\n",
       "    </tr>\n",
       "    <tr>\n",
       "      <th>25%</th>\n",
       "      <td>0.000000</td>\n",
       "      <td>0.000000</td>\n",
       "      <td>0.000000</td>\n",
       "      <td>0.000000</td>\n",
       "      <td>1.000000</td>\n",
       "      <td>1.000000</td>\n",
       "      <td>1.000000</td>\n",
       "      <td>106.000000</td>\n",
       "      <td>4.000000</td>\n",
       "      <td>0.000000</td>\n",
       "      <td>...</td>\n",
       "      <td>2.000000</td>\n",
       "      <td>0.501100</td>\n",
       "      <td>0.352900</td>\n",
       "      <td>0.000000</td>\n",
       "      <td>0.000000</td>\n",
       "      <td>0.000000</td>\n",
       "      <td>0.344800</td>\n",
       "      <td>0.000000</td>\n",
       "      <td>0.000000</td>\n",
       "      <td>0.250000</td>\n",
       "    </tr>\n",
       "    <tr>\n",
       "      <th>50%</th>\n",
       "      <td>0.000000</td>\n",
       "      <td>0.000000</td>\n",
       "      <td>0.000000</td>\n",
       "      <td>0.000000</td>\n",
       "      <td>2.000000</td>\n",
       "      <td>1.000000</td>\n",
       "      <td>2.000000</td>\n",
       "      <td>151.000000</td>\n",
       "      <td>7.000000</td>\n",
       "      <td>0.000000</td>\n",
       "      <td>...</td>\n",
       "      <td>3.000000</td>\n",
       "      <td>0.695500</td>\n",
       "      <td>0.527050</td>\n",
       "      <td>0.000000</td>\n",
       "      <td>0.000000</td>\n",
       "      <td>1.000000</td>\n",
       "      <td>0.500000</td>\n",
       "      <td>0.000000</td>\n",
       "      <td>0.000000</td>\n",
       "      <td>0.500000</td>\n",
       "    </tr>\n",
       "    <tr>\n",
       "      <th>75%</th>\n",
       "      <td>0.000000</td>\n",
       "      <td>2.000000</td>\n",
       "      <td>1.000000</td>\n",
       "      <td>0.000000</td>\n",
       "      <td>4.000000</td>\n",
       "      <td>3.000000</td>\n",
       "      <td>5.000000</td>\n",
       "      <td>227.000000</td>\n",
       "      <td>13.000000</td>\n",
       "      <td>0.000000</td>\n",
       "      <td>...</td>\n",
       "      <td>6.000000</td>\n",
       "      <td>0.840650</td>\n",
       "      <td>0.681800</td>\n",
       "      <td>2.000000</td>\n",
       "      <td>1.000000</td>\n",
       "      <td>4.000000</td>\n",
       "      <td>0.625000</td>\n",
       "      <td>2.000000</td>\n",
       "      <td>1.000000</td>\n",
       "      <td>0.800000</td>\n",
       "    </tr>\n",
       "    <tr>\n",
       "      <th>max</th>\n",
       "      <td>1.000000</td>\n",
       "      <td>51.000000</td>\n",
       "      <td>50.000000</td>\n",
       "      <td>1.000000</td>\n",
       "      <td>40.000000</td>\n",
       "      <td>24.000000</td>\n",
       "      <td>48.000000</td>\n",
       "      <td>933.000000</td>\n",
       "      <td>342.000000</td>\n",
       "      <td>7.000000</td>\n",
       "      <td>...</td>\n",
       "      <td>23.000000</td>\n",
       "      <td>3.361300</td>\n",
       "      <td>1.000000</td>\n",
       "      <td>8.000000</td>\n",
       "      <td>19.000000</td>\n",
       "      <td>45.000000</td>\n",
       "      <td>1.000000</td>\n",
       "      <td>47.000000</td>\n",
       "      <td>20.000000</td>\n",
       "      <td>6.000000</td>\n",
       "    </tr>\n",
       "  </tbody>\n",
       "</table>\n",
       "<p>8 rows × 29 columns</p>\n",
       "</div>"
      ],
      "text/plain": [
       "            TARGET     DerogCnt   CollectCnt  BanruptcyInd     InqCnt06  \\\n",
       "count  3000.000000  3000.000000  3000.000000   3000.000000  3000.000000   \n",
       "mean      0.166667     1.430000     0.857000      0.153333     3.108333   \n",
       "std       0.372740     2.731469     2.161352      0.360369     3.479171   \n",
       "min       0.000000     0.000000     0.000000      0.000000     0.000000   \n",
       "25%       0.000000     0.000000     0.000000      0.000000     1.000000   \n",
       "50%       0.000000     0.000000     0.000000      0.000000     2.000000   \n",
       "75%       0.000000     2.000000     1.000000      0.000000     4.000000   \n",
       "max       1.000000    51.000000    50.000000      1.000000    40.000000   \n",
       "\n",
       "       InqTimeLast  InqFinanceCnt24  TLTimeFirst   TLTimeLast      TLCnt03  \\\n",
       "count  2812.000000      3000.000000  3000.000000  3000.000000  3000.000000   \n",
       "mean      3.108108         3.555000   170.113667    11.873667     0.275000   \n",
       "std       4.637831         4.477536    92.813700    16.321412     0.582084   \n",
       "min       0.000000         0.000000     6.000000     0.000000     0.000000   \n",
       "25%       1.000000         1.000000   106.000000     4.000000     0.000000   \n",
       "50%       1.000000         2.000000   151.000000     7.000000     0.000000   \n",
       "75%       3.000000         5.000000   227.000000    13.000000     0.000000   \n",
       "max      24.000000        48.000000   933.000000   342.000000     7.000000   \n",
       "\n",
       "       ...  TL50UtilCnt   TLBalHCPct     TLSatPct  TLDel3060Cnt24  \\\n",
       "count  ...  2901.000000  2959.000000  2996.000000     3000.000000   \n",
       "mean   ...     4.077904     0.648178     0.518331        0.726000   \n",
       "std    ...     3.108076     0.266486     0.234759        1.163633   \n",
       "min    ...     0.000000     0.000000     0.000000        0.000000   \n",
       "25%    ...     2.000000     0.501100     0.352900        0.000000   \n",
       "50%    ...     3.000000     0.695500     0.527050        0.000000   \n",
       "75%    ...     6.000000     0.840650     0.681800        2.000000   \n",
       "max    ...    23.000000     3.361300     1.000000        8.000000   \n",
       "\n",
       "       TLDel90Cnt24  TLDel60CntAll    TLOpenPct  TLBadDerogCnt  TLDel60Cnt24  \\\n",
       "count   3000.000000    3000.000000  2997.000000    3000.000000   3000.000000   \n",
       "mean       0.814667       2.522000     0.496168       1.409000      1.068333   \n",
       "std        1.609508       3.407255     0.206722       2.460434      1.806124   \n",
       "min        0.000000       0.000000     0.000000       0.000000      0.000000   \n",
       "25%        0.000000       0.000000     0.344800       0.000000      0.000000   \n",
       "50%        0.000000       1.000000     0.500000       0.000000      0.000000   \n",
       "75%        1.000000       4.000000     0.625000       2.000000      1.000000   \n",
       "max       19.000000      45.000000     1.000000      47.000000     20.000000   \n",
       "\n",
       "       TLOpen24Pct  \n",
       "count  2997.000000  \n",
       "mean      0.564219  \n",
       "std       0.480105  \n",
       "min       0.000000  \n",
       "25%       0.250000  \n",
       "50%       0.500000  \n",
       "75%       0.800000  \n",
       "max       6.000000  \n",
       "\n",
       "[8 rows x 29 columns]"
      ]
     },
     "execution_count": 12,
     "metadata": {},
     "output_type": "execute_result"
    }
   ],
   "source": [
    "df.describe()"
   ]
  },
  {
   "cell_type": "markdown",
   "metadata": {},
   "source": [
    "### <font color='lightgreen'>Identify and treatment of nulls in Data"
   ]
  },
  {
   "cell_type": "code",
   "execution_count": 13,
   "metadata": {},
   "outputs": [
    {
     "data": {
      "text/plain": [
       "TARGET               0\n",
       "DerogCnt             0\n",
       "CollectCnt           0\n",
       "BanruptcyInd         0\n",
       "InqCnt06             0\n",
       "InqTimeLast        188\n",
       "InqFinanceCnt24      0\n",
       "TLTimeFirst          0\n",
       "TLTimeLast           0\n",
       "TLCnt03              0\n",
       "TLCnt12              0\n",
       "TLCnt24              0\n",
       "TLCnt                3\n",
       "TLSum               40\n",
       "TLMaxSum            40\n",
       "TLSatCnt             4\n",
       "TLDel60Cnt           0\n",
       "TLBadCnt24           0\n",
       "TL75UtilCnt         99\n",
       "TL50UtilCnt         99\n",
       "TLBalHCPct          41\n",
       "TLSatPct             4\n",
       "TLDel3060Cnt24       0\n",
       "TLDel90Cnt24         0\n",
       "TLDel60CntAll        0\n",
       "TLOpenPct            3\n",
       "TLBadDerogCnt        0\n",
       "TLDel60Cnt24         0\n",
       "TLOpen24Pct          3\n",
       "dtype: int64"
      ]
     },
     "execution_count": 13,
     "metadata": {},
     "output_type": "execute_result"
    }
   ],
   "source": [
    "sum = df.isna().sum() \n",
    "# Number of null values in each feature variable\n",
    "sum"
   ]
  },
  {
   "cell_type": "code",
   "execution_count": 14,
   "metadata": {},
   "outputs": [
    {
     "data": {
      "image/png": "[encoded data removed]",
      "text/plain": [
       "<Figure size 1440x288 with 1 Axes>"
      ]
     },
     "metadata": {
      "needs_background": "light"
     },
     "output_type": "display_data"
    }
   ],
   "source": [
    "null_col = df.isnull().sum().sort_values(ascending = False)\n",
    "\n",
    "plt.figure(figsize=(20,4))\n",
    "null_col.plot(kind='bar', color=\"#4CB391\")                           \n",
    "plt.title('List of Columns & null counts where null values are present') \n",
    "\n",
    "plt.xlabel(\"Null Columns\",fontdict={\"fontsize\":12,\"fontweight\":5})                  #Setting X-label and Y-label\n",
    "plt.ylabel(\"Count of null values\",fontdict={\"fontsize\":12,\"fontweight\":5})\n",
    "plt.show()"
   ]
  },
  {
   "cell_type": "code",
   "execution_count": 15,
   "metadata": {},
   "outputs": [
    {
     "data": {
      "text/plain": [
       "188"
      ]
     },
     "execution_count": 15,
     "metadata": {},
     "output_type": "execute_result"
    }
   ],
   "source": [
    "df.isna().sum().max()\n",
    "# Maximum possible number of rows with NA value"
   ]
  },
  {
   "cell_type": "markdown",
   "metadata": {},
   "source": [
    "<font color='yellow'>Seprating the feature variables with null entries to measure the distortion <br>\n",
    "in our dataset after we predict the missing values."
   ]
  },
  {
   "cell_type": "code",
   "execution_count": 16,
   "metadata": {},
   "outputs": [],
   "source": [
    "df_na = pd.DataFrame({'Category':sum.index, 'Sums':sum.values})"
   ]
  },
  {
   "cell_type": "code",
   "execution_count": 17,
   "metadata": {},
   "outputs": [
    {
     "data": {
      "text/plain": [
       "Index(['InqTimeLast', 'TLCnt', 'TLSum', 'TLMaxSum', 'TLSatCnt', 'TL75UtilCnt',\n",
       "       'TL50UtilCnt', 'TLBalHCPct', 'TLSatPct', 'TLOpenPct', 'TLOpen24Pct'],\n",
       "      dtype='object', name='Category')"
      ]
     },
     "execution_count": 17,
     "metadata": {},
     "output_type": "execute_result"
    }
   ],
   "source": [
    "df_na = df_na[df_na[\"Sums\"]!=0] # Extracting only variables with null entries\n",
    "pd.Index(df_na[\"Category\"])"
   ]
  },
  {
   "cell_type": "code",
   "execution_count": 18,
   "metadata": {},
   "outputs": [
    {
     "data": {
      "text/plain": [
       "InqTimeLast    188\n",
       "TLCnt            3\n",
       "TLSum           40\n",
       "TLMaxSum        40\n",
       "TLSatCnt         4\n",
       "TL75UtilCnt     99\n",
       "TL50UtilCnt     99\n",
       "TLBalHCPct      41\n",
       "TLSatPct         4\n",
       "TLOpenPct        3\n",
       "TLOpen24Pct      3\n",
       "dtype: int64"
      ]
     },
     "execution_count": 18,
     "metadata": {},
     "output_type": "execute_result"
    }
   ],
   "source": [
    "df[['InqTimeLast', 'TLCnt', 'TLSum', 'TLMaxSum', 'TLSatCnt', 'TL75UtilCnt',\n",
    "       'TL50UtilCnt', 'TLBalHCPct', 'TLSatPct', 'TLOpenPct', 'TLOpen24Pct']].isna().sum()"
   ]
  },
  {
   "cell_type": "code",
   "execution_count": 19,
   "metadata": {},
   "outputs": [
    {
     "data": {
      "text/html": [
       "<div>\n",
       "<style scoped>\n",
       "    .dataframe tbody tr th:only-of-type {\n",
       "        vertical-align: middle;\n",
       "    }\n",
       "\n",
       "    .dataframe tbody tr th {\n",
       "        vertical-align: top;\n",
       "    }\n",
       "\n",
       "    .dataframe thead th {\n",
       "        text-align: right;\n",
       "    }\n",
       "</style>\n",
       "<table border=\"1\" class=\"dataframe\">\n",
       "  <thead>\n",
       "    <tr style=\"text-align: right;\">\n",
       "      <th></th>\n",
       "      <th>InqTimeLast</th>\n",
       "      <th>TLCnt</th>\n",
       "      <th>TLSum</th>\n",
       "      <th>TLMaxSum</th>\n",
       "      <th>TLSatCnt</th>\n",
       "      <th>TL75UtilCnt</th>\n",
       "      <th>TL50UtilCnt</th>\n",
       "      <th>TLBalHCPct</th>\n",
       "      <th>TLSatPct</th>\n",
       "      <th>TLOpenPct</th>\n",
       "      <th>TLOpen24Pct</th>\n",
       "    </tr>\n",
       "  </thead>\n",
       "  <tbody>\n",
       "    <tr>\n",
       "      <th>count</th>\n",
       "      <td>2812.000000</td>\n",
       "      <td>2997.000000</td>\n",
       "      <td>2960.000000</td>\n",
       "      <td>2960.000000</td>\n",
       "      <td>2996.000000</td>\n",
       "      <td>2901.000000</td>\n",
       "      <td>2901.000000</td>\n",
       "      <td>2959.000000</td>\n",
       "      <td>2996.000000</td>\n",
       "      <td>2997.000000</td>\n",
       "      <td>2997.000000</td>\n",
       "    </tr>\n",
       "    <tr>\n",
       "      <th>mean</th>\n",
       "      <td>3.108108</td>\n",
       "      <td>7.879546</td>\n",
       "      <td>20151.095608</td>\n",
       "      <td>31205.900676</td>\n",
       "      <td>13.511682</td>\n",
       "      <td>3.121682</td>\n",
       "      <td>4.077904</td>\n",
       "      <td>0.648178</td>\n",
       "      <td>0.518331</td>\n",
       "      <td>0.496168</td>\n",
       "      <td>0.564219</td>\n",
       "    </tr>\n",
       "    <tr>\n",
       "      <th>std</th>\n",
       "      <td>4.637831</td>\n",
       "      <td>5.421595</td>\n",
       "      <td>19682.086262</td>\n",
       "      <td>29092.908099</td>\n",
       "      <td>8.931769</td>\n",
       "      <td>2.605435</td>\n",
       "      <td>3.108076</td>\n",
       "      <td>0.266486</td>\n",
       "      <td>0.234759</td>\n",
       "      <td>0.206722</td>\n",
       "      <td>0.480105</td>\n",
       "    </tr>\n",
       "    <tr>\n",
       "      <th>min</th>\n",
       "      <td>0.000000</td>\n",
       "      <td>0.000000</td>\n",
       "      <td>0.000000</td>\n",
       "      <td>0.000000</td>\n",
       "      <td>0.000000</td>\n",
       "      <td>0.000000</td>\n",
       "      <td>0.000000</td>\n",
       "      <td>0.000000</td>\n",
       "      <td>0.000000</td>\n",
       "      <td>0.000000</td>\n",
       "      <td>0.000000</td>\n",
       "    </tr>\n",
       "    <tr>\n",
       "      <th>25%</th>\n",
       "      <td>1.000000</td>\n",
       "      <td>4.000000</td>\n",
       "      <td>5699.750000</td>\n",
       "      <td>10236.000000</td>\n",
       "      <td>6.000000</td>\n",
       "      <td>1.000000</td>\n",
       "      <td>2.000000</td>\n",
       "      <td>0.501100</td>\n",
       "      <td>0.352900</td>\n",
       "      <td>0.344800</td>\n",
       "      <td>0.250000</td>\n",
       "    </tr>\n",
       "    <tr>\n",
       "      <th>50%</th>\n",
       "      <td>1.000000</td>\n",
       "      <td>7.000000</td>\n",
       "      <td>15546.500000</td>\n",
       "      <td>24188.500000</td>\n",
       "      <td>12.000000</td>\n",
       "      <td>3.000000</td>\n",
       "      <td>3.000000</td>\n",
       "      <td>0.695500</td>\n",
       "      <td>0.527050</td>\n",
       "      <td>0.500000</td>\n",
       "      <td>0.500000</td>\n",
       "    </tr>\n",
       "    <tr>\n",
       "      <th>75%</th>\n",
       "      <td>3.000000</td>\n",
       "      <td>11.000000</td>\n",
       "      <td>28303.250000</td>\n",
       "      <td>44756.250000</td>\n",
       "      <td>19.000000</td>\n",
       "      <td>4.000000</td>\n",
       "      <td>6.000000</td>\n",
       "      <td>0.840650</td>\n",
       "      <td>0.681800</td>\n",
       "      <td>0.625000</td>\n",
       "      <td>0.800000</td>\n",
       "    </tr>\n",
       "    <tr>\n",
       "      <th>max</th>\n",
       "      <td>24.000000</td>\n",
       "      <td>40.000000</td>\n",
       "      <td>210612.000000</td>\n",
       "      <td>271036.000000</td>\n",
       "      <td>57.000000</td>\n",
       "      <td>20.000000</td>\n",
       "      <td>23.000000</td>\n",
       "      <td>3.361300</td>\n",
       "      <td>1.000000</td>\n",
       "      <td>1.000000</td>\n",
       "      <td>6.000000</td>\n",
       "    </tr>\n",
       "  </tbody>\n",
       "</table>\n",
       "</div>"
      ],
      "text/plain": [
       "       InqTimeLast        TLCnt          TLSum       TLMaxSum     TLSatCnt  \\\n",
       "count  2812.000000  2997.000000    2960.000000    2960.000000  2996.000000   \n",
       "mean      3.108108     7.879546   20151.095608   31205.900676    13.511682   \n",
       "std       4.637831     5.421595   19682.086262   29092.908099     8.931769   \n",
       "min       0.000000     0.000000       0.000000       0.000000     0.000000   \n",
       "25%       1.000000     4.000000    5699.750000   10236.000000     6.000000   \n",
       "50%       1.000000     7.000000   15546.500000   24188.500000    12.000000   \n",
       "75%       3.000000    11.000000   28303.250000   44756.250000    19.000000   \n",
       "max      24.000000    40.000000  210612.000000  271036.000000    57.000000   \n",
       "\n",
       "       TL75UtilCnt  TL50UtilCnt   TLBalHCPct     TLSatPct    TLOpenPct  \\\n",
       "count  2901.000000  2901.000000  2959.000000  2996.000000  2997.000000   \n",
       "mean      3.121682     4.077904     0.648178     0.518331     0.496168   \n",
       "std       2.605435     3.108076     0.266486     0.234759     0.206722   \n",
       "min       0.000000     0.000000     0.000000     0.000000     0.000000   \n",
       "25%       1.000000     2.000000     0.501100     0.352900     0.344800   \n",
       "50%       3.000000     3.000000     0.695500     0.527050     0.500000   \n",
       "75%       4.000000     6.000000     0.840650     0.681800     0.625000   \n",
       "max      20.000000    23.000000     3.361300     1.000000     1.000000   \n",
       "\n",
       "       TLOpen24Pct  \n",
       "count  2997.000000  \n",
       "mean      0.564219  \n",
       "std       0.480105  \n",
       "min       0.000000  \n",
       "25%       0.250000  \n",
       "50%       0.500000  \n",
       "75%       0.800000  \n",
       "max       6.000000  "
      ]
     },
     "execution_count": 19,
     "metadata": {},
     "output_type": "execute_result"
    }
   ],
   "source": [
    "df[['InqTimeLast', 'TLCnt', 'TLSum', 'TLMaxSum', 'TLSatCnt', 'TL75UtilCnt',\n",
    "       'TL50UtilCnt', 'TLBalHCPct', 'TLSatPct', 'TLOpenPct', 'TLOpen24Pct']].describe()"
   ]
  },
  {
   "cell_type": "markdown",
   "metadata": {},
   "source": [
    "### <font color='lightgreen'>Solving Issue of **Lack Of Credit History**\n",
    "<img src=\"plots/Imputation_.png\" style=\"height: 540px; width:800px;\"/>\n"
   ]
  },
  {
   "cell_type": "markdown",
   "metadata": {},
   "source": [
    "**<font color='yellow'>Since we will be presenting 2 Methods to Impute the Missing Values.**<br>\n",
    "&nbsp;&nbsp;&nbsp;&nbsp;&nbsp;&nbsp;&nbsp;&nbsp;&nbsp;&nbsp;&nbsp;&nbsp;&nbsp;&nbsp;&nbsp;&nbsp;&nbsp;&nbsp;&nbsp;&nbsp;&nbsp;&nbsp;&nbsp;&nbsp;&nbsp;**<font color='yellow'>We make copies of our dataset df**"
   ]
  },
  {
   "cell_type": "code",
   "execution_count": 20,
   "metadata": {},
   "outputs": [],
   "source": [
    "# Making copying of our dataset to test accuracy of each imputation\n",
    "df_simple = df.copy()\n",
    "df_kNN = df.copy()\n",
    "#Removing Data is not a solution"
   ]
  },
  {
   "cell_type": "markdown",
   "metadata": {},
   "source": [
    "#### <font color='lightgreen'>Missing data imputation Using Simple Imputation\n",
    "**<font color='yellow'>In statistics, imputation is the process of replacing missing data with substituted values.** <br>\n",
    "Completing our dataset by filling the missing information using the row average method for that feature variable.<br>\n"
   ]
  },
  {
   "cell_type": "code",
   "execution_count": 21,
   "metadata": {},
   "outputs": [],
   "source": [
    "# Imputer object using the mean strategy and\n",
    "# missing_values type for imputation\n",
    "imputer = SimpleImputer(missing_values = np.nan,\n",
    "                        strategy ='mean')"
   ]
  },
  {
   "cell_type": "code",
   "execution_count": 22,
   "metadata": {},
   "outputs": [],
   "source": [
    "# Fitting the data to the imputer object\n",
    "imputer = imputer.fit(df_simple)"
   ]
  },
  {
   "cell_type": "code",
   "execution_count": 23,
   "metadata": {},
   "outputs": [],
   "source": [
    "df_simple_trans = imputer.transform(df_simple)"
   ]
  },
  {
   "cell_type": "markdown",
   "metadata": {},
   "source": [
    "<font color='yellow'>We get the complete predicted data set in array form, which is now converted to a final <br>\n",
    "datafram *df_simple_trans*"
   ]
  },
  {
   "cell_type": "code",
   "execution_count": 24,
   "metadata": {},
   "outputs": [
    {
     "name": "stdout",
     "output_type": "stream",
     "text": [
      "<class 'pandas.core.frame.DataFrame'>\n",
      "RangeIndex: 3000 entries, 0 to 2999\n",
      "Data columns (total 29 columns):\n",
      " #   Column           Non-Null Count  Dtype  \n",
      "---  ------           --------------  -----  \n",
      " 0   TARGET           3000 non-null   float64\n",
      " 1   DerogCnt         3000 non-null   float64\n",
      " 2   CollectCnt       3000 non-null   float64\n",
      " 3   BanruptcyInd     3000 non-null   float64\n",
      " 4   InqCnt06         3000 non-null   float64\n",
      " 5   InqTimeLast      3000 non-null   float64\n",
      " 6   InqFinanceCnt24  3000 non-null   float64\n",
      " 7   TLTimeFirst      3000 non-null   float64\n",
      " 8   TLTimeLast       3000 non-null   float64\n",
      " 9   TLCnt03          3000 non-null   float64\n",
      " 10  TLCnt12          3000 non-null   float64\n",
      " 11  TLCnt24          3000 non-null   float64\n",
      " 12  TLCnt            3000 non-null   float64\n",
      " 13  TLSum            3000 non-null   float64\n",
      " 14  TLMaxSum         3000 non-null   float64\n",
      " 15  TLSatCnt         3000 non-null   float64\n",
      " 16  TLDel60Cnt       3000 non-null   float64\n",
      " 17  TLBadCnt24       3000 non-null   float64\n",
      " 18  TL75UtilCnt      3000 non-null   float64\n",
      " 19  TL50UtilCnt      3000 non-null   float64\n",
      " 20  TLBalHCPct       3000 non-null   float64\n",
      " 21  TLSatPct         3000 non-null   float64\n",
      " 22  TLDel3060Cnt24   3000 non-null   float64\n",
      " 23  TLDel90Cnt24     3000 non-null   float64\n",
      " 24  TLDel60CntAll    3000 non-null   float64\n",
      " 25  TLOpenPct        3000 non-null   float64\n",
      " 26  TLBadDerogCnt    3000 non-null   float64\n",
      " 27  TLDel60Cnt24     3000 non-null   float64\n",
      " 28  TLOpen24Pct      3000 non-null   float64\n",
      "dtypes: float64(29)\n",
      "memory usage: 679.8 KB\n"
     ]
    }
   ],
   "source": [
    "df_simple_trans = pd.DataFrame(data = df_simple_trans, index = df_simple.index, columns = df_simple.columns)\n",
    "df_simple_trans.info()"
   ]
  },
  {
   "cell_type": "markdown",
   "metadata": {},
   "source": [
    "#### <font color='lightgreen'>Missing data imputation Using kNN Imputation<font color='yellow'>\n",
    "Using  *Nearest Neighbour Imputation Strategy* for missing data and replace missing values for each column in the input data prior <br>\n",
    "to prediction.<br>\n",
    "Values could be missing for many reasons, often specific to the problem domain, and might include reasons such as corrupt measurements <br>\n",
    "or unavailability. <br>\n",
    "We will create a model to predict the missing values. A model is created for each feature that has missing values, taking as input <br>\n",
    "values of perhaps all other input features. Using *K-nearest neighbor model* , a new sample is imputed by finding the samples in the <br>\n",
    "training set “closest” to it and averaging the nearby points to fill in the value.<br>\n",
    "We will show that *kNN impute* appears to provide a more robust and sensitive method for missing value estimation and kNN impute surpass the <br>\n",
    "commonly used *row average method* (as well as filling missing values with zeros). Configuration of KNN imputation often involves selecting <br>\n",
    "the distance measure (e.g. Euclidean) and the number of contributing neighbors for each prediction, the k hyperparameter of the KNN algorithm.\n"
   ]
  },
  {
   "cell_type": "code",
   "execution_count": 25,
   "metadata": {},
   "outputs": [],
   "source": [
    "# define imputer\n",
    "imputer = KNNImputer(n_neighbors=3, weights='uniform', metric='nan_euclidean')"
   ]
  },
  {
   "cell_type": "code",
   "execution_count": 26,
   "metadata": {},
   "outputs": [
    {
     "data": {
      "text/html": [
       "<style>#sk-container-id-1 {color: black;background-color: white;}#sk-container-id-1 pre{padding: 0;}#sk-container-id-1 div.sk-toggleable {background-color: white;}#sk-container-id-1 label.sk-toggleable__label {cursor: pointer;display: block;width: 100%;margin-bottom: 0;padding: 0.3em;box-sizing: border-box;text-align: center;}#sk-container-id-1 label.sk-toggleable__label-arrow:before {content: \"▸\";float: left;margin-right: 0.25em;color: #696969;}#sk-container-id-1 label.sk-toggleable__label-arrow:hover:before {color: black;}#sk-container-id-1 div.sk-estimator:hover label.sk-toggleable__label-arrow:before {color: black;}#sk-container-id-1 div.sk-toggleable__content {max-height: 0;max-width: 0;overflow: hidden;text-align: left;background-color: #f0f8ff;}#sk-container-id-1 div.sk-toggleable__content pre {margin: 0.2em;color: black;border-radius: 0.25em;background-color: #f0f8ff;}#sk-container-id-1 input.sk-toggleable__control:checked~div.sk-toggleable__content {max-height: 200px;max-width: 100%;overflow: auto;}#sk-container-id-1 input.sk-toggleable__control:checked~label.sk-toggleable__label-arrow:before {content: \"▾\";}#sk-container-id-1 div.sk-estimator input.sk-toggleable__control:checked~label.sk-toggleable__label {background-color: #d4ebff;}#sk-container-id-1 div.sk-label input.sk-toggleable__control:checked~label.sk-toggleable__label {background-color: #d4ebff;}#sk-container-id-1 input.sk-hidden--visually {border: 0;clip: rect(1px 1px 1px 1px);clip: rect(1px, 1px, 1px, 1px);height: 1px;margin: -1px;overflow: hidden;padding: 0;position: absolute;width: 1px;}#sk-container-id-1 div.sk-estimator {font-family: monospace;background-color: #f0f8ff;border: 1px dotted black;border-radius: 0.25em;box-sizing: border-box;margin-bottom: 0.5em;}#sk-container-id-1 div.sk-estimator:hover {background-color: #d4ebff;}#sk-container-id-1 div.sk-parallel-item::after {content: \"\";width: 100%;border-bottom: 1px solid gray;flex-grow: 1;}#sk-container-id-1 div.sk-label:hover label.sk-toggleable__label {background-color: #d4ebff;}#sk-container-id-1 div.sk-serial::before {content: \"\";position: absolute;border-left: 1px solid gray;box-sizing: border-box;top: 0;bottom: 0;left: 50%;z-index: 0;}#sk-container-id-1 div.sk-serial {display: flex;flex-direction: column;align-items: center;background-color: white;padding-right: 0.2em;padding-left: 0.2em;position: relative;}#sk-container-id-1 div.sk-item {position: relative;z-index: 1;}#sk-container-id-1 div.sk-parallel {display: flex;align-items: stretch;justify-content: center;background-color: white;position: relative;}#sk-container-id-1 div.sk-item::before, #sk-container-id-1 div.sk-parallel-item::before {content: \"\";position: absolute;border-left: 1px solid gray;box-sizing: border-box;top: 0;bottom: 0;left: 50%;z-index: -1;}#sk-container-id-1 div.sk-parallel-item {display: flex;flex-direction: column;z-index: 1;position: relative;background-color: white;}#sk-container-id-1 div.sk-parallel-item:first-child::after {align-self: flex-end;width: 50%;}#sk-container-id-1 div.sk-parallel-item:last-child::after {align-self: flex-start;width: 50%;}#sk-container-id-1 div.sk-parallel-item:only-child::after {width: 0;}#sk-container-id-1 div.sk-dashed-wrapped {border: 1px dashed gray;margin: 0 0.4em 0.5em 0.4em;box-sizing: border-box;padding-bottom: 0.4em;background-color: white;}#sk-container-id-1 div.sk-label label {font-family: monospace;font-weight: bold;display: inline-block;line-height: 1.2em;}#sk-container-id-1 div.sk-label-container {text-align: center;}#sk-container-id-1 div.sk-container {/* jupyter's `normalize.less` sets `[hidden] { display: none; }` but bootstrap.min.css set `[hidden] { display: none !important; }` so we also need the `!important` here to be able to override the default hidden behavior on the sphinx rendered scikit-learn.org. See: https://github.com/scikit-learn/scikit-learn/issues/21755 */display: inline-block !important;position: relative;}#sk-container-id-1 div.sk-text-repr-fallback {display: none;}</style><div id=\"sk-container-id-1\" class=\"sk-top-container\"><div class=\"sk-text-repr-fallback\"><pre>KNNImputer(n_neighbors=3)</pre><b>In a Jupyter environment, please rerun this cell to show the HTML representation or trust the notebook. <br />On GitHub, the HTML representation is unable to render, please try loading this page with nbviewer.org.</b></div><div class=\"sk-container\" hidden><div class=\"sk-item\"><div class=\"sk-estimator sk-toggleable\"><input class=\"sk-toggleable__control sk-hidden--visually\" id=\"sk-estimator-id-1\" type=\"checkbox\" checked><label for=\"sk-estimator-id-1\" class=\"sk-toggleable__label sk-toggleable__label-arrow\">KNNImputer</label><div class=\"sk-toggleable__content\"><pre>KNNImputer(n_neighbors=3)</pre></div></div></div></div></div>"
      ],
      "text/plain": [
       "KNNImputer(n_neighbors=3)"
      ]
     },
     "execution_count": 26,
     "metadata": {},
     "output_type": "execute_result"
    }
   ],
   "source": [
    "# fit on the dataset\n",
    "imputer.fit(df_kNN)"
   ]
  },
  {
   "cell_type": "code",
   "execution_count": 27,
   "metadata": {},
   "outputs": [],
   "source": [
    "# transform the dataset\n",
    "df_kNN_trans = imputer.transform(df_kNN)"
   ]
  },
  {
   "cell_type": "markdown",
   "metadata": {},
   "source": [
    "<font color='yellow'>We get the complete predicted data set in array form, which is now converted to a final <br>\n",
    "datafram *df_kNN_trans*"
   ]
  },
  {
   "cell_type": "code",
   "execution_count": 28,
   "metadata": {},
   "outputs": [],
   "source": [
    "df_kNN_trans = pd.DataFrame(data = df_kNN_trans, index = df_kNN.index, columns = df_kNN.columns)"
   ]
  },
  {
   "cell_type": "code",
   "execution_count": 29,
   "metadata": {},
   "outputs": [
    {
     "data": {
      "text/html": [
       "<div>\n",
       "<style scoped>\n",
       "    .dataframe tbody tr th:only-of-type {\n",
       "        vertical-align: middle;\n",
       "    }\n",
       "\n",
       "    .dataframe tbody tr th {\n",
       "        vertical-align: top;\n",
       "    }\n",
       "\n",
       "    .dataframe thead th {\n",
       "        text-align: right;\n",
       "    }\n",
       "</style>\n",
       "<table border=\"1\" class=\"dataframe\">\n",
       "  <thead>\n",
       "    <tr style=\"text-align: right;\">\n",
       "      <th></th>\n",
       "      <th>TARGET</th>\n",
       "      <th>DerogCnt</th>\n",
       "      <th>CollectCnt</th>\n",
       "      <th>BanruptcyInd</th>\n",
       "      <th>InqCnt06</th>\n",
       "      <th>InqTimeLast</th>\n",
       "      <th>InqFinanceCnt24</th>\n",
       "      <th>TLTimeFirst</th>\n",
       "      <th>TLTimeLast</th>\n",
       "      <th>TLCnt03</th>\n",
       "      <th>...</th>\n",
       "      <th>TL50UtilCnt</th>\n",
       "      <th>TLBalHCPct</th>\n",
       "      <th>TLSatPct</th>\n",
       "      <th>TLDel3060Cnt24</th>\n",
       "      <th>TLDel90Cnt24</th>\n",
       "      <th>TLDel60CntAll</th>\n",
       "      <th>TLOpenPct</th>\n",
       "      <th>TLBadDerogCnt</th>\n",
       "      <th>TLDel60Cnt24</th>\n",
       "      <th>TLOpen24Pct</th>\n",
       "    </tr>\n",
       "  </thead>\n",
       "  <tbody>\n",
       "    <tr>\n",
       "      <th>0</th>\n",
       "      <td>1.0</td>\n",
       "      <td>3.0</td>\n",
       "      <td>3.0</td>\n",
       "      <td>0.0</td>\n",
       "      <td>4.0</td>\n",
       "      <td>0.0</td>\n",
       "      <td>5.0</td>\n",
       "      <td>117.0</td>\n",
       "      <td>27.0</td>\n",
       "      <td>0.0</td>\n",
       "      <td>...</td>\n",
       "      <td>3.0</td>\n",
       "      <td>0.9179</td>\n",
       "      <td>0.2083</td>\n",
       "      <td>2.0</td>\n",
       "      <td>3.0</td>\n",
       "      <td>7.0</td>\n",
       "      <td>0.2083</td>\n",
       "      <td>4.0</td>\n",
       "      <td>4.0</td>\n",
       "      <td>0.0000</td>\n",
       "    </tr>\n",
       "    <tr>\n",
       "      <th>1</th>\n",
       "      <td>1.0</td>\n",
       "      <td>15.0</td>\n",
       "      <td>9.0</td>\n",
       "      <td>0.0</td>\n",
       "      <td>3.0</td>\n",
       "      <td>1.0</td>\n",
       "      <td>3.0</td>\n",
       "      <td>14.0</td>\n",
       "      <td>14.0</td>\n",
       "      <td>0.0</td>\n",
       "      <td>...</td>\n",
       "      <td>1.0</td>\n",
       "      <td>0.8000</td>\n",
       "      <td>0.0000</td>\n",
       "      <td>0.0</td>\n",
       "      <td>0.0</td>\n",
       "      <td>0.0</td>\n",
       "      <td>1.0000</td>\n",
       "      <td>12.0</td>\n",
       "      <td>0.0</td>\n",
       "      <td>1.0000</td>\n",
       "    </tr>\n",
       "    <tr>\n",
       "      <th>2</th>\n",
       "      <td>1.0</td>\n",
       "      <td>0.0</td>\n",
       "      <td>0.0</td>\n",
       "      <td>0.0</td>\n",
       "      <td>1.0</td>\n",
       "      <td>5.0</td>\n",
       "      <td>1.0</td>\n",
       "      <td>354.0</td>\n",
       "      <td>7.0</td>\n",
       "      <td>0.0</td>\n",
       "      <td>...</td>\n",
       "      <td>5.0</td>\n",
       "      <td>0.3552</td>\n",
       "      <td>0.6538</td>\n",
       "      <td>0.0</td>\n",
       "      <td>1.0</td>\n",
       "      <td>1.0</td>\n",
       "      <td>0.7308</td>\n",
       "      <td>1.0</td>\n",
       "      <td>1.0</td>\n",
       "      <td>0.5263</td>\n",
       "    </tr>\n",
       "    <tr>\n",
       "      <th>3</th>\n",
       "      <td>1.0</td>\n",
       "      <td>8.0</td>\n",
       "      <td>5.0</td>\n",
       "      <td>0.0</td>\n",
       "      <td>6.0</td>\n",
       "      <td>1.0</td>\n",
       "      <td>10.0</td>\n",
       "      <td>16.0</td>\n",
       "      <td>4.0</td>\n",
       "      <td>0.0</td>\n",
       "      <td>...</td>\n",
       "      <td>3.0</td>\n",
       "      <td>0.9127</td>\n",
       "      <td>0.2500</td>\n",
       "      <td>1.0</td>\n",
       "      <td>1.0</td>\n",
       "      <td>1.0</td>\n",
       "      <td>0.7500</td>\n",
       "      <td>7.0</td>\n",
       "      <td>1.0</td>\n",
       "      <td>1.3333</td>\n",
       "    </tr>\n",
       "    <tr>\n",
       "      <th>4</th>\n",
       "      <td>1.0</td>\n",
       "      <td>3.0</td>\n",
       "      <td>1.0</td>\n",
       "      <td>0.0</td>\n",
       "      <td>9.0</td>\n",
       "      <td>0.0</td>\n",
       "      <td>8.0</td>\n",
       "      <td>130.0</td>\n",
       "      <td>52.0</td>\n",
       "      <td>0.0</td>\n",
       "      <td>...</td>\n",
       "      <td>1.0</td>\n",
       "      <td>1.2511</td>\n",
       "      <td>0.0000</td>\n",
       "      <td>0.0</td>\n",
       "      <td>1.0</td>\n",
       "      <td>4.0</td>\n",
       "      <td>0.1429</td>\n",
       "      <td>3.0</td>\n",
       "      <td>1.0</td>\n",
       "      <td>0.0000</td>\n",
       "    </tr>\n",
       "  </tbody>\n",
       "</table>\n",
       "<p>5 rows × 29 columns</p>\n",
       "</div>"
      ],
      "text/plain": [
       "   TARGET  DerogCnt  CollectCnt  BanruptcyInd  InqCnt06  InqTimeLast  \\\n",
       "0     1.0       3.0         3.0           0.0       4.0          0.0   \n",
       "1     1.0      15.0         9.0           0.0       3.0          1.0   \n",
       "2     1.0       0.0         0.0           0.0       1.0          5.0   \n",
       "3     1.0       8.0         5.0           0.0       6.0          1.0   \n",
       "4     1.0       3.0         1.0           0.0       9.0          0.0   \n",
       "\n",
       "   InqFinanceCnt24  TLTimeFirst  TLTimeLast  TLCnt03  ...  TL50UtilCnt  \\\n",
       "0              5.0        117.0        27.0      0.0  ...          3.0   \n",
       "1              3.0         14.0        14.0      0.0  ...          1.0   \n",
       "2              1.0        354.0         7.0      0.0  ...          5.0   \n",
       "3             10.0         16.0         4.0      0.0  ...          3.0   \n",
       "4              8.0        130.0        52.0      0.0  ...          1.0   \n",
       "\n",
       "   TLBalHCPct  TLSatPct  TLDel3060Cnt24  TLDel90Cnt24  TLDel60CntAll  \\\n",
       "0      0.9179    0.2083             2.0           3.0            7.0   \n",
       "1      0.8000    0.0000             0.0           0.0            0.0   \n",
       "2      0.3552    0.6538             0.0           1.0            1.0   \n",
       "3      0.9127    0.2500             1.0           1.0            1.0   \n",
       "4      1.2511    0.0000             0.0           1.0            4.0   \n",
       "\n",
       "   TLOpenPct  TLBadDerogCnt  TLDel60Cnt24  TLOpen24Pct  \n",
       "0     0.2083            4.0           4.0       0.0000  \n",
       "1     1.0000           12.0           0.0       1.0000  \n",
       "2     0.7308            1.0           1.0       0.5263  \n",
       "3     0.7500            7.0           1.0       1.3333  \n",
       "4     0.1429            3.0           1.0       0.0000  \n",
       "\n",
       "[5 rows x 29 columns]"
      ]
     },
     "execution_count": 29,
     "metadata": {},
     "output_type": "execute_result"
    }
   ],
   "source": [
    "df_kNN_trans.head()"
   ]
  },
  {
   "cell_type": "code",
   "execution_count": 30,
   "metadata": {},
   "outputs": [
    {
     "name": "stdout",
     "output_type": "stream",
     "text": [
      "<class 'pandas.core.frame.DataFrame'>\n",
      "RangeIndex: 3000 entries, 0 to 2999\n",
      "Data columns (total 29 columns):\n",
      " #   Column           Non-Null Count  Dtype  \n",
      "---  ------           --------------  -----  \n",
      " 0   TARGET           3000 non-null   float64\n",
      " 1   DerogCnt         3000 non-null   float64\n",
      " 2   CollectCnt       3000 non-null   float64\n",
      " 3   BanruptcyInd     3000 non-null   float64\n",
      " 4   InqCnt06         3000 non-null   float64\n",
      " 5   InqTimeLast      3000 non-null   float64\n",
      " 6   InqFinanceCnt24  3000 non-null   float64\n",
      " 7   TLTimeFirst      3000 non-null   float64\n",
      " 8   TLTimeLast       3000 non-null   float64\n",
      " 9   TLCnt03          3000 non-null   float64\n",
      " 10  TLCnt12          3000 non-null   float64\n",
      " 11  TLCnt24          3000 non-null   float64\n",
      " 12  TLCnt            3000 non-null   float64\n",
      " 13  TLSum            3000 non-null   float64\n",
      " 14  TLMaxSum         3000 non-null   float64\n",
      " 15  TLSatCnt         3000 non-null   float64\n",
      " 16  TLDel60Cnt       3000 non-null   float64\n",
      " 17  TLBadCnt24       3000 non-null   float64\n",
      " 18  TL75UtilCnt      3000 non-null   float64\n",
      " 19  TL50UtilCnt      3000 non-null   float64\n",
      " 20  TLBalHCPct       3000 non-null   float64\n",
      " 21  TLSatPct         3000 non-null   float64\n",
      " 22  TLDel3060Cnt24   3000 non-null   float64\n",
      " 23  TLDel90Cnt24     3000 non-null   float64\n",
      " 24  TLDel60CntAll    3000 non-null   float64\n",
      " 25  TLOpenPct        3000 non-null   float64\n",
      " 26  TLBadDerogCnt    3000 non-null   float64\n",
      " 27  TLDel60Cnt24     3000 non-null   float64\n",
      " 28  TLOpen24Pct      3000 non-null   float64\n",
      "dtypes: float64(29)\n",
      "memory usage: 679.8 KB\n"
     ]
    }
   ],
   "source": [
    "df_kNN_trans.info()"
   ]
  },
  {
   "cell_type": "markdown",
   "metadata": {},
   "source": [
    "#### <font color='yellow'>We have overcome the problem of missing values in our dataset.<br>Or we can say the issue of lack of significant credit history\n",
    "#### Since kNN Imputation is more accurate, we will be working on dataset with kNN Imputed Values\n"
   ]
  },
  {
   "cell_type": "code",
   "execution_count": 31,
   "metadata": {},
   "outputs": [],
   "source": [
    "df = df_kNN_trans.copy() # Updating df with our dataset worked upon via kNN Imputation & no null values"
   ]
  },
  {
   "cell_type": "code",
   "execution_count": 32,
   "metadata": {},
   "outputs": [
    {
     "data": {
      "text/html": [
       "<div>\n",
       "<style scoped>\n",
       "    .dataframe tbody tr th:only-of-type {\n",
       "        vertical-align: middle;\n",
       "    }\n",
       "\n",
       "    .dataframe tbody tr th {\n",
       "        vertical-align: top;\n",
       "    }\n",
       "\n",
       "    .dataframe thead th {\n",
       "        text-align: right;\n",
       "    }\n",
       "</style>\n",
       "<table border=\"1\" class=\"dataframe\">\n",
       "  <thead>\n",
       "    <tr style=\"text-align: right;\">\n",
       "      <th></th>\n",
       "      <th>TARGET</th>\n",
       "      <th>DerogCnt</th>\n",
       "      <th>CollectCnt</th>\n",
       "      <th>BanruptcyInd</th>\n",
       "      <th>InqCnt06</th>\n",
       "      <th>InqTimeLast</th>\n",
       "      <th>InqFinanceCnt24</th>\n",
       "      <th>TLTimeFirst</th>\n",
       "      <th>TLTimeLast</th>\n",
       "      <th>TLCnt03</th>\n",
       "      <th>...</th>\n",
       "      <th>TL50UtilCnt</th>\n",
       "      <th>TLBalHCPct</th>\n",
       "      <th>TLSatPct</th>\n",
       "      <th>TLDel3060Cnt24</th>\n",
       "      <th>TLDel90Cnt24</th>\n",
       "      <th>TLDel60CntAll</th>\n",
       "      <th>TLOpenPct</th>\n",
       "      <th>TLBadDerogCnt</th>\n",
       "      <th>TLDel60Cnt24</th>\n",
       "      <th>TLOpen24Pct</th>\n",
       "    </tr>\n",
       "  </thead>\n",
       "  <tbody>\n",
       "    <tr>\n",
       "      <th>0</th>\n",
       "      <td>1.0</td>\n",
       "      <td>3.0</td>\n",
       "      <td>3.0</td>\n",
       "      <td>0.0</td>\n",
       "      <td>4.0</td>\n",
       "      <td>0.0</td>\n",
       "      <td>5.0</td>\n",
       "      <td>117.0</td>\n",
       "      <td>27.0</td>\n",
       "      <td>0.0</td>\n",
       "      <td>...</td>\n",
       "      <td>3.0</td>\n",
       "      <td>0.9179</td>\n",
       "      <td>0.2083</td>\n",
       "      <td>2.0</td>\n",
       "      <td>3.0</td>\n",
       "      <td>7.0</td>\n",
       "      <td>0.2083</td>\n",
       "      <td>4.0</td>\n",
       "      <td>4.0</td>\n",
       "      <td>0.0000</td>\n",
       "    </tr>\n",
       "    <tr>\n",
       "      <th>1</th>\n",
       "      <td>1.0</td>\n",
       "      <td>15.0</td>\n",
       "      <td>9.0</td>\n",
       "      <td>0.0</td>\n",
       "      <td>3.0</td>\n",
       "      <td>1.0</td>\n",
       "      <td>3.0</td>\n",
       "      <td>14.0</td>\n",
       "      <td>14.0</td>\n",
       "      <td>0.0</td>\n",
       "      <td>...</td>\n",
       "      <td>1.0</td>\n",
       "      <td>0.8000</td>\n",
       "      <td>0.0000</td>\n",
       "      <td>0.0</td>\n",
       "      <td>0.0</td>\n",
       "      <td>0.0</td>\n",
       "      <td>1.0000</td>\n",
       "      <td>12.0</td>\n",
       "      <td>0.0</td>\n",
       "      <td>1.0000</td>\n",
       "    </tr>\n",
       "    <tr>\n",
       "      <th>2</th>\n",
       "      <td>1.0</td>\n",
       "      <td>0.0</td>\n",
       "      <td>0.0</td>\n",
       "      <td>0.0</td>\n",
       "      <td>1.0</td>\n",
       "      <td>5.0</td>\n",
       "      <td>1.0</td>\n",
       "      <td>354.0</td>\n",
       "      <td>7.0</td>\n",
       "      <td>0.0</td>\n",
       "      <td>...</td>\n",
       "      <td>5.0</td>\n",
       "      <td>0.3552</td>\n",
       "      <td>0.6538</td>\n",
       "      <td>0.0</td>\n",
       "      <td>1.0</td>\n",
       "      <td>1.0</td>\n",
       "      <td>0.7308</td>\n",
       "      <td>1.0</td>\n",
       "      <td>1.0</td>\n",
       "      <td>0.5263</td>\n",
       "    </tr>\n",
       "    <tr>\n",
       "      <th>3</th>\n",
       "      <td>1.0</td>\n",
       "      <td>8.0</td>\n",
       "      <td>5.0</td>\n",
       "      <td>0.0</td>\n",
       "      <td>6.0</td>\n",
       "      <td>1.0</td>\n",
       "      <td>10.0</td>\n",
       "      <td>16.0</td>\n",
       "      <td>4.0</td>\n",
       "      <td>0.0</td>\n",
       "      <td>...</td>\n",
       "      <td>3.0</td>\n",
       "      <td>0.9127</td>\n",
       "      <td>0.2500</td>\n",
       "      <td>1.0</td>\n",
       "      <td>1.0</td>\n",
       "      <td>1.0</td>\n",
       "      <td>0.7500</td>\n",
       "      <td>7.0</td>\n",
       "      <td>1.0</td>\n",
       "      <td>1.3333</td>\n",
       "    </tr>\n",
       "    <tr>\n",
       "      <th>4</th>\n",
       "      <td>1.0</td>\n",
       "      <td>3.0</td>\n",
       "      <td>1.0</td>\n",
       "      <td>0.0</td>\n",
       "      <td>9.0</td>\n",
       "      <td>0.0</td>\n",
       "      <td>8.0</td>\n",
       "      <td>130.0</td>\n",
       "      <td>52.0</td>\n",
       "      <td>0.0</td>\n",
       "      <td>...</td>\n",
       "      <td>1.0</td>\n",
       "      <td>1.2511</td>\n",
       "      <td>0.0000</td>\n",
       "      <td>0.0</td>\n",
       "      <td>1.0</td>\n",
       "      <td>4.0</td>\n",
       "      <td>0.1429</td>\n",
       "      <td>3.0</td>\n",
       "      <td>1.0</td>\n",
       "      <td>0.0000</td>\n",
       "    </tr>\n",
       "  </tbody>\n",
       "</table>\n",
       "<p>5 rows × 29 columns</p>\n",
       "</div>"
      ],
      "text/plain": [
       "   TARGET  DerogCnt  CollectCnt  BanruptcyInd  InqCnt06  InqTimeLast  \\\n",
       "0     1.0       3.0         3.0           0.0       4.0          0.0   \n",
       "1     1.0      15.0         9.0           0.0       3.0          1.0   \n",
       "2     1.0       0.0         0.0           0.0       1.0          5.0   \n",
       "3     1.0       8.0         5.0           0.0       6.0          1.0   \n",
       "4     1.0       3.0         1.0           0.0       9.0          0.0   \n",
       "\n",
       "   InqFinanceCnt24  TLTimeFirst  TLTimeLast  TLCnt03  ...  TL50UtilCnt  \\\n",
       "0              5.0        117.0        27.0      0.0  ...          3.0   \n",
       "1              3.0         14.0        14.0      0.0  ...          1.0   \n",
       "2              1.0        354.0         7.0      0.0  ...          5.0   \n",
       "3             10.0         16.0         4.0      0.0  ...          3.0   \n",
       "4              8.0        130.0        52.0      0.0  ...          1.0   \n",
       "\n",
       "   TLBalHCPct  TLSatPct  TLDel3060Cnt24  TLDel90Cnt24  TLDel60CntAll  \\\n",
       "0      0.9179    0.2083             2.0           3.0            7.0   \n",
       "1      0.8000    0.0000             0.0           0.0            0.0   \n",
       "2      0.3552    0.6538             0.0           1.0            1.0   \n",
       "3      0.9127    0.2500             1.0           1.0            1.0   \n",
       "4      1.2511    0.0000             0.0           1.0            4.0   \n",
       "\n",
       "   TLOpenPct  TLBadDerogCnt  TLDel60Cnt24  TLOpen24Pct  \n",
       "0     0.2083            4.0           4.0       0.0000  \n",
       "1     1.0000           12.0           0.0       1.0000  \n",
       "2     0.7308            1.0           1.0       0.5263  \n",
       "3     0.7500            7.0           1.0       1.3333  \n",
       "4     0.1429            3.0           1.0       0.0000  \n",
       "\n",
       "[5 rows x 29 columns]"
      ]
     },
     "execution_count": 32,
     "metadata": {},
     "output_type": "execute_result"
    }
   ],
   "source": [
    "df.head()"
   ]
  },
  {
   "cell_type": "code",
   "execution_count": 33,
   "metadata": {},
   "outputs": [
    {
     "name": "stdout",
     "output_type": "stream",
     "text": [
      "<class 'pandas.core.frame.DataFrame'>\n",
      "RangeIndex: 3000 entries, 0 to 2999\n",
      "Data columns (total 29 columns):\n",
      " #   Column           Non-Null Count  Dtype  \n",
      "---  ------           --------------  -----  \n",
      " 0   TARGET           3000 non-null   float64\n",
      " 1   DerogCnt         3000 non-null   float64\n",
      " 2   CollectCnt       3000 non-null   float64\n",
      " 3   BanruptcyInd     3000 non-null   float64\n",
      " 4   InqCnt06         3000 non-null   float64\n",
      " 5   InqTimeLast      3000 non-null   float64\n",
      " 6   InqFinanceCnt24  3000 non-null   float64\n",
      " 7   TLTimeFirst      3000 non-null   float64\n",
      " 8   TLTimeLast       3000 non-null   float64\n",
      " 9   TLCnt03          3000 non-null   float64\n",
      " 10  TLCnt12          3000 non-null   float64\n",
      " 11  TLCnt24          3000 non-null   float64\n",
      " 12  TLCnt            3000 non-null   float64\n",
      " 13  TLSum            3000 non-null   float64\n",
      " 14  TLMaxSum         3000 non-null   float64\n",
      " 15  TLSatCnt         3000 non-null   float64\n",
      " 16  TLDel60Cnt       3000 non-null   float64\n",
      " 17  TLBadCnt24       3000 non-null   float64\n",
      " 18  TL75UtilCnt      3000 non-null   float64\n",
      " 19  TL50UtilCnt      3000 non-null   float64\n",
      " 20  TLBalHCPct       3000 non-null   float64\n",
      " 21  TLSatPct         3000 non-null   float64\n",
      " 22  TLDel3060Cnt24   3000 non-null   float64\n",
      " 23  TLDel90Cnt24     3000 non-null   float64\n",
      " 24  TLDel60CntAll    3000 non-null   float64\n",
      " 25  TLOpenPct        3000 non-null   float64\n",
      " 26  TLBadDerogCnt    3000 non-null   float64\n",
      " 27  TLDel60Cnt24     3000 non-null   float64\n",
      " 28  TLOpen24Pct      3000 non-null   float64\n",
      "dtypes: float64(29)\n",
      "memory usage: 679.8 KB\n"
     ]
    }
   ],
   "source": [
    "df.info()"
   ]
  },
  {
   "cell_type": "code",
   "execution_count": 34,
   "metadata": {},
   "outputs": [
    {
     "data": {
      "text/html": [
       "<div>\n",
       "<style scoped>\n",
       "    .dataframe tbody tr th:only-of-type {\n",
       "        vertical-align: middle;\n",
       "    }\n",
       "\n",
       "    .dataframe tbody tr th {\n",
       "        vertical-align: top;\n",
       "    }\n",
       "\n",
       "    .dataframe thead th {\n",
       "        text-align: right;\n",
       "    }\n",
       "</style>\n",
       "<table border=\"1\" class=\"dataframe\">\n",
       "  <thead>\n",
       "    <tr style=\"text-align: right;\">\n",
       "      <th></th>\n",
       "      <th>TARGET</th>\n",
       "      <th>DerogCnt</th>\n",
       "      <th>CollectCnt</th>\n",
       "      <th>BanruptcyInd</th>\n",
       "      <th>InqCnt06</th>\n",
       "      <th>InqTimeLast</th>\n",
       "      <th>InqFinanceCnt24</th>\n",
       "      <th>TLTimeFirst</th>\n",
       "      <th>TLTimeLast</th>\n",
       "      <th>TLCnt03</th>\n",
       "      <th>...</th>\n",
       "      <th>TL50UtilCnt</th>\n",
       "      <th>TLBalHCPct</th>\n",
       "      <th>TLSatPct</th>\n",
       "      <th>TLDel3060Cnt24</th>\n",
       "      <th>TLDel90Cnt24</th>\n",
       "      <th>TLDel60CntAll</th>\n",
       "      <th>TLOpenPct</th>\n",
       "      <th>TLBadDerogCnt</th>\n",
       "      <th>TLDel60Cnt24</th>\n",
       "      <th>TLOpen24Pct</th>\n",
       "    </tr>\n",
       "  </thead>\n",
       "  <tbody>\n",
       "    <tr>\n",
       "      <th>count</th>\n",
       "      <td>3000.000000</td>\n",
       "      <td>3000.000000</td>\n",
       "      <td>3000.000000</td>\n",
       "      <td>3000.000000</td>\n",
       "      <td>3000.000000</td>\n",
       "      <td>3000.000000</td>\n",
       "      <td>3000.000000</td>\n",
       "      <td>3000.000000</td>\n",
       "      <td>3000.000000</td>\n",
       "      <td>3000.000000</td>\n",
       "      <td>...</td>\n",
       "      <td>3000.000000</td>\n",
       "      <td>3000.000000</td>\n",
       "      <td>3000.000000</td>\n",
       "      <td>3000.000000</td>\n",
       "      <td>3000.000000</td>\n",
       "      <td>3000.000000</td>\n",
       "      <td>3000.000000</td>\n",
       "      <td>3000.000000</td>\n",
       "      <td>3000.000000</td>\n",
       "      <td>3000.000000</td>\n",
       "    </tr>\n",
       "    <tr>\n",
       "      <th>mean</th>\n",
       "      <td>0.166667</td>\n",
       "      <td>1.430000</td>\n",
       "      <td>0.857000</td>\n",
       "      <td>0.153333</td>\n",
       "      <td>3.108333</td>\n",
       "      <td>3.031000</td>\n",
       "      <td>3.555000</td>\n",
       "      <td>170.113667</td>\n",
       "      <td>11.873667</td>\n",
       "      <td>0.275000</td>\n",
       "      <td>...</td>\n",
       "      <td>3.963111</td>\n",
       "      <td>0.648011</td>\n",
       "      <td>0.518102</td>\n",
       "      <td>0.726000</td>\n",
       "      <td>0.814667</td>\n",
       "      <td>2.522000</td>\n",
       "      <td>0.496263</td>\n",
       "      <td>1.409000</td>\n",
       "      <td>1.068333</td>\n",
       "      <td>0.563803</td>\n",
       "    </tr>\n",
       "    <tr>\n",
       "      <th>std</th>\n",
       "      <td>0.372740</td>\n",
       "      <td>2.731469</td>\n",
       "      <td>2.161352</td>\n",
       "      <td>0.360369</td>\n",
       "      <td>3.479171</td>\n",
       "      <td>4.518525</td>\n",
       "      <td>4.477536</td>\n",
       "      <td>92.813700</td>\n",
       "      <td>16.321412</td>\n",
       "      <td>0.582084</td>\n",
       "      <td>...</td>\n",
       "      <td>3.122125</td>\n",
       "      <td>0.265845</td>\n",
       "      <td>0.234719</td>\n",
       "      <td>1.163633</td>\n",
       "      <td>1.609508</td>\n",
       "      <td>3.407255</td>\n",
       "      <td>0.206714</td>\n",
       "      <td>2.460434</td>\n",
       "      <td>1.806124</td>\n",
       "      <td>0.480076</td>\n",
       "    </tr>\n",
       "    <tr>\n",
       "      <th>min</th>\n",
       "      <td>0.000000</td>\n",
       "      <td>0.000000</td>\n",
       "      <td>0.000000</td>\n",
       "      <td>0.000000</td>\n",
       "      <td>0.000000</td>\n",
       "      <td>0.000000</td>\n",
       "      <td>0.000000</td>\n",
       "      <td>6.000000</td>\n",
       "      <td>0.000000</td>\n",
       "      <td>0.000000</td>\n",
       "      <td>...</td>\n",
       "      <td>0.000000</td>\n",
       "      <td>0.000000</td>\n",
       "      <td>0.000000</td>\n",
       "      <td>0.000000</td>\n",
       "      <td>0.000000</td>\n",
       "      <td>0.000000</td>\n",
       "      <td>0.000000</td>\n",
       "      <td>0.000000</td>\n",
       "      <td>0.000000</td>\n",
       "      <td>0.000000</td>\n",
       "    </tr>\n",
       "    <tr>\n",
       "      <th>25%</th>\n",
       "      <td>0.000000</td>\n",
       "      <td>0.000000</td>\n",
       "      <td>0.000000</td>\n",
       "      <td>0.000000</td>\n",
       "      <td>1.000000</td>\n",
       "      <td>1.000000</td>\n",
       "      <td>1.000000</td>\n",
       "      <td>106.000000</td>\n",
       "      <td>4.000000</td>\n",
       "      <td>0.000000</td>\n",
       "      <td>...</td>\n",
       "      <td>2.000000</td>\n",
       "      <td>0.501325</td>\n",
       "      <td>0.352175</td>\n",
       "      <td>0.000000</td>\n",
       "      <td>0.000000</td>\n",
       "      <td>0.000000</td>\n",
       "      <td>0.344800</td>\n",
       "      <td>0.000000</td>\n",
       "      <td>0.000000</td>\n",
       "      <td>0.250000</td>\n",
       "    </tr>\n",
       "    <tr>\n",
       "      <th>50%</th>\n",
       "      <td>0.000000</td>\n",
       "      <td>0.000000</td>\n",
       "      <td>0.000000</td>\n",
       "      <td>0.000000</td>\n",
       "      <td>2.000000</td>\n",
       "      <td>1.000000</td>\n",
       "      <td>2.000000</td>\n",
       "      <td>151.000000</td>\n",
       "      <td>7.000000</td>\n",
       "      <td>0.000000</td>\n",
       "      <td>...</td>\n",
       "      <td>3.000000</td>\n",
       "      <td>0.694450</td>\n",
       "      <td>0.526300</td>\n",
       "      <td>0.000000</td>\n",
       "      <td>0.000000</td>\n",
       "      <td>1.000000</td>\n",
       "      <td>0.500000</td>\n",
       "      <td>0.000000</td>\n",
       "      <td>0.000000</td>\n",
       "      <td>0.500000</td>\n",
       "    </tr>\n",
       "    <tr>\n",
       "      <th>75%</th>\n",
       "      <td>0.000000</td>\n",
       "      <td>2.000000</td>\n",
       "      <td>1.000000</td>\n",
       "      <td>0.000000</td>\n",
       "      <td>4.000000</td>\n",
       "      <td>3.000000</td>\n",
       "      <td>5.000000</td>\n",
       "      <td>227.000000</td>\n",
       "      <td>13.000000</td>\n",
       "      <td>0.000000</td>\n",
       "      <td>...</td>\n",
       "      <td>5.000000</td>\n",
       "      <td>0.840600</td>\n",
       "      <td>0.681800</td>\n",
       "      <td>2.000000</td>\n",
       "      <td>1.000000</td>\n",
       "      <td>4.000000</td>\n",
       "      <td>0.625000</td>\n",
       "      <td>2.000000</td>\n",
       "      <td>1.000000</td>\n",
       "      <td>0.800000</td>\n",
       "    </tr>\n",
       "    <tr>\n",
       "      <th>max</th>\n",
       "      <td>1.000000</td>\n",
       "      <td>51.000000</td>\n",
       "      <td>50.000000</td>\n",
       "      <td>1.000000</td>\n",
       "      <td>40.000000</td>\n",
       "      <td>24.000000</td>\n",
       "      <td>48.000000</td>\n",
       "      <td>933.000000</td>\n",
       "      <td>342.000000</td>\n",
       "      <td>7.000000</td>\n",
       "      <td>...</td>\n",
       "      <td>23.000000</td>\n",
       "      <td>3.361300</td>\n",
       "      <td>1.000000</td>\n",
       "      <td>8.000000</td>\n",
       "      <td>19.000000</td>\n",
       "      <td>45.000000</td>\n",
       "      <td>1.000000</td>\n",
       "      <td>47.000000</td>\n",
       "      <td>20.000000</td>\n",
       "      <td>6.000000</td>\n",
       "    </tr>\n",
       "  </tbody>\n",
       "</table>\n",
       "<p>8 rows × 29 columns</p>\n",
       "</div>"
      ],
      "text/plain": [
       "            TARGET     DerogCnt   CollectCnt  BanruptcyInd     InqCnt06  \\\n",
       "count  3000.000000  3000.000000  3000.000000   3000.000000  3000.000000   \n",
       "mean      0.166667     1.430000     0.857000      0.153333     3.108333   \n",
       "std       0.372740     2.731469     2.161352      0.360369     3.479171   \n",
       "min       0.000000     0.000000     0.000000      0.000000     0.000000   \n",
       "25%       0.000000     0.000000     0.000000      0.000000     1.000000   \n",
       "50%       0.000000     0.000000     0.000000      0.000000     2.000000   \n",
       "75%       0.000000     2.000000     1.000000      0.000000     4.000000   \n",
       "max       1.000000    51.000000    50.000000      1.000000    40.000000   \n",
       "\n",
       "       InqTimeLast  InqFinanceCnt24  TLTimeFirst   TLTimeLast      TLCnt03  \\\n",
       "count  3000.000000      3000.000000  3000.000000  3000.000000  3000.000000   \n",
       "mean      3.031000         3.555000   170.113667    11.873667     0.275000   \n",
       "std       4.518525         4.477536    92.813700    16.321412     0.582084   \n",
       "min       0.000000         0.000000     6.000000     0.000000     0.000000   \n",
       "25%       1.000000         1.000000   106.000000     4.000000     0.000000   \n",
       "50%       1.000000         2.000000   151.000000     7.000000     0.000000   \n",
       "75%       3.000000         5.000000   227.000000    13.000000     0.000000   \n",
       "max      24.000000        48.000000   933.000000   342.000000     7.000000   \n",
       "\n",
       "       ...  TL50UtilCnt   TLBalHCPct     TLSatPct  TLDel3060Cnt24  \\\n",
       "count  ...  3000.000000  3000.000000  3000.000000     3000.000000   \n",
       "mean   ...     3.963111     0.648011     0.518102        0.726000   \n",
       "std    ...     3.122125     0.265845     0.234719        1.163633   \n",
       "min    ...     0.000000     0.000000     0.000000        0.000000   \n",
       "25%    ...     2.000000     0.501325     0.352175        0.000000   \n",
       "50%    ...     3.000000     0.694450     0.526300        0.000000   \n",
       "75%    ...     5.000000     0.840600     0.681800        2.000000   \n",
       "max    ...    23.000000     3.361300     1.000000        8.000000   \n",
       "\n",
       "       TLDel90Cnt24  TLDel60CntAll    TLOpenPct  TLBadDerogCnt  TLDel60Cnt24  \\\n",
       "count   3000.000000    3000.000000  3000.000000    3000.000000   3000.000000   \n",
       "mean       0.814667       2.522000     0.496263       1.409000      1.068333   \n",
       "std        1.609508       3.407255     0.206714       2.460434      1.806124   \n",
       "min        0.000000       0.000000     0.000000       0.000000      0.000000   \n",
       "25%        0.000000       0.000000     0.344800       0.000000      0.000000   \n",
       "50%        0.000000       1.000000     0.500000       0.000000      0.000000   \n",
       "75%        1.000000       4.000000     0.625000       2.000000      1.000000   \n",
       "max       19.000000      45.000000     1.000000      47.000000     20.000000   \n",
       "\n",
       "       TLOpen24Pct  \n",
       "count  3000.000000  \n",
       "mean      0.563803  \n",
       "std       0.480076  \n",
       "min       0.000000  \n",
       "25%       0.250000  \n",
       "50%       0.500000  \n",
       "75%       0.800000  \n",
       "max       6.000000  \n",
       "\n",
       "[8 rows x 29 columns]"
      ]
     },
     "execution_count": 34,
     "metadata": {},
     "output_type": "execute_result"
    }
   ],
   "source": [
    "df.describe()"
   ]
  },
  {
   "cell_type": "markdown",
   "metadata": {},
   "source": [
    "### <font color='lightgreen'> Correlation & Outliers\n"
   ]
  },
  {
   "cell_type": "markdown",
   "metadata": {},
   "source": [
    "#### <font color='lightgreen'> Correlation "
   ]
  },
  {
   "cell_type": "code",
   "execution_count": 35,
   "metadata": {},
   "outputs": [
    {
     "name": "stdout",
     "output_type": "stream",
     "text": [
      "TARGET : 1.0\n",
      "DerogCnt : 0.08809950482569641\n",
      "CollectCnt : 0.09374759560019312\n",
      "BanruptcyInd : 0.025651390561269416\n",
      "InqCnt06 : 0.10666335429785354\n",
      "InqTimeLast : -0.028542076710441077\n",
      "InqFinanceCnt24 : 0.13256206912118854\n",
      "TLTimeFirst : -0.06959733719304571\n",
      "TLTimeLast : 0.030647914237164\n",
      "TLCnt03 : -0.03611602249447912\n",
      "TLCnt12 : -0.012390690239577703\n",
      "TLCnt24 : -0.009525041339920338\n",
      "TLCnt : -0.04420406425729743\n",
      "TLSum : 0.009987979199148626\n",
      "TLMaxSum : -0.04795084455076164\n",
      "TLSatCnt : -0.07904578452533369\n",
      "TLDel60Cnt : 0.1859420522249776\n",
      "TLBadCnt24 : 0.16379569726446536\n",
      "TL75UtilCnt : 0.09599649620267106\n",
      "TL50UtilCnt : 0.07080425163237881\n",
      "TLBalHCPct : 0.16784540754190333\n",
      "TLSatPct : -0.25394861873673247\n",
      "TLDel3060Cnt24 : 0.23370871176871744\n",
      "TLDel90Cnt24 : 0.2115773515150395\n",
      "TLDel60CntAll : 0.19586263533134396\n",
      "TLOpenPct : -0.0659112797550014\n",
      "TLBadDerogCnt : 0.20815224890058837\n",
      "TLDel60Cnt24 : 0.2520259920769903\n",
      "TLOpen24Pct : 0.03358475553079729\n"
     ]
    }
   ],
   "source": [
    "# Correlation Values for all our feature variables\n",
    "corr_ls = {}\n",
    "for i in df.columns:\n",
    "    print(i,end=\" : \")\n",
    "    print(df[\"TARGET\"].corr(df[i]))\n",
    "    corr_ls[i] = df[\"TARGET\"].corr(df[i])"
   ]
  },
  {
   "cell_type": "code",
   "execution_count": 36,
   "metadata": {},
   "outputs": [],
   "source": [
    "# Series with correlation values sorted \n",
    "series = pd.Series(corr_ls).sort_values(ascending = False)"
   ]
  },
  {
   "cell_type": "code",
   "execution_count": 37,
   "metadata": {},
   "outputs": [
    {
     "data": {
      "text/plain": [
       "TARGET             1.000000\n",
       "TLDel60Cnt24       0.252026\n",
       "TLDel3060Cnt24     0.233709\n",
       "TLDel90Cnt24       0.211577\n",
       "TLBadDerogCnt      0.208152\n",
       "TLDel60CntAll      0.195863\n",
       "TLDel60Cnt         0.185942\n",
       "TLBalHCPct         0.167845\n",
       "TLBadCnt24         0.163796\n",
       "InqFinanceCnt24    0.132562\n",
       "InqCnt06           0.106663\n",
       "TL75UtilCnt        0.095996\n",
       "CollectCnt         0.093748\n",
       "DerogCnt           0.088100\n",
       "TL50UtilCnt        0.070804\n",
       "TLOpen24Pct        0.033585\n",
       "TLTimeLast         0.030648\n",
       "BanruptcyInd       0.025651\n",
       "TLSum              0.009988\n",
       "TLCnt24           -0.009525\n",
       "TLCnt12           -0.012391\n",
       "InqTimeLast       -0.028542\n",
       "TLCnt03           -0.036116\n",
       "TLCnt             -0.044204\n",
       "TLMaxSum          -0.047951\n",
       "TLOpenPct         -0.065911\n",
       "TLTimeFirst       -0.069597\n",
       "TLSatCnt          -0.079046\n",
       "TLSatPct          -0.253949\n",
       "dtype: float64"
      ]
     },
     "execution_count": 37,
     "metadata": {},
     "output_type": "execute_result"
    }
   ],
   "source": [
    "series"
   ]
  },
  {
   "cell_type": "code",
   "execution_count": 38,
   "metadata": {},
   "outputs": [
    {
     "data": {
      "image/png": "[encoded data removed]",
      "text/plain": [
       "<Figure size 1440x1296 with 2 Axes>"
      ]
     },
     "metadata": {
      "needs_background": "light"
     },
     "output_type": "display_data"
    }
   ],
   "source": [
    "corr = df.corr()\n",
    "plt.figure(figsize=(20,18))\n",
    "#convert correlation to numpy array\n",
    "mask = np.array(corr)\n",
    "mask[np.tril_indices_from(mask)] = False\n",
    "sns.heatmap(corr, annot= True, linewidths=.5, mask = mask);"
   ]
  },
  {
   "cell_type": "markdown",
   "metadata": {},
   "source": [
    "#### <font color='lightgreen'> Outliers"
   ]
  },
  {
   "cell_type": "code",
   "execution_count": 39,
   "metadata": {},
   "outputs": [
    {
     "name": "stderr",
     "output_type": "stream",
     "text": [
      "/Users/prithvichauhan/miniforge3/envs/viper/lib/python3.8/site-packages/seaborn/_decorators.py:36: FutureWarning: Pass the following variable as a keyword arg: x. From version 0.12, the only valid positional argument will be `data`, and passing other arguments without an explicit keyword will result in an error or misinterpretation.\n",
      "  warnings.warn(\n"
     ]
    },
    {
     "data": {
      "image/png": "[encoded data removed]",
      "text/plain": [
       "<Figure size 432x288 with 1 Axes>"
      ]
     },
     "metadata": {
      "needs_background": "light"
     },
     "output_type": "display_data"
    }
   ],
   "source": [
    "sns.boxplot(df_kNN_trans[\"TLDel60Cnt24\"]);"
   ]
  },
  {
   "cell_type": "code",
   "execution_count": 40,
   "metadata": {},
   "outputs": [
    {
     "name": "stderr",
     "output_type": "stream",
     "text": [
      "/Users/prithvichauhan/miniforge3/envs/viper/lib/python3.8/site-packages/seaborn/_decorators.py:36: FutureWarning: Pass the following variable as a keyword arg: x. From version 0.12, the only valid positional argument will be `data`, and passing other arguments without an explicit keyword will result in an error or misinterpretation.\n",
      "  warnings.warn(\n"
     ]
    },
    {
     "data": {
      "image/png": "[encoded data removed]",
      "text/plain": [
       "<Figure size 432x288 with 1 Axes>"
      ]
     },
     "metadata": {
      "needs_background": "light"
     },
     "output_type": "display_data"
    }
   ],
   "source": [
    "sns.boxplot(df_kNN_trans[\"TLDel3060Cnt24\"]);"
   ]
  },
  {
   "cell_type": "code",
   "execution_count": 41,
   "metadata": {},
   "outputs": [
    {
     "name": "stderr",
     "output_type": "stream",
     "text": [
      "/Users/prithvichauhan/miniforge3/envs/viper/lib/python3.8/site-packages/seaborn/_decorators.py:36: FutureWarning: Pass the following variable as a keyword arg: x. From version 0.12, the only valid positional argument will be `data`, and passing other arguments without an explicit keyword will result in an error or misinterpretation.\n",
      "  warnings.warn(\n"
     ]
    },
    {
     "data": {
      "image/png": "[encoded data removed]",
      "text/plain": [
       "<Figure size 432x288 with 1 Axes>"
      ]
     },
     "metadata": {
      "needs_background": "light"
     },
     "output_type": "display_data"
    }
   ],
   "source": [
    "sns.boxplot(df_kNN_trans[\"TLDel90Cnt24\"]);"
   ]
  },
  {
   "cell_type": "code",
   "execution_count": 42,
   "metadata": {},
   "outputs": [
    {
     "name": "stderr",
     "output_type": "stream",
     "text": [
      "/Users/prithvichauhan/miniforge3/envs/viper/lib/python3.8/site-packages/seaborn/_decorators.py:36: FutureWarning: Pass the following variable as a keyword arg: x. From version 0.12, the only valid positional argument will be `data`, and passing other arguments without an explicit keyword will result in an error or misinterpretation.\n",
      "  warnings.warn(\n"
     ]
    },
    {
     "data": {
      "image/png": "[encoded data removed]",
      "text/plain": [
       "<Figure size 432x288 with 1 Axes>"
      ]
     },
     "metadata": {
      "needs_background": "light"
     },
     "output_type": "display_data"
    }
   ],
   "source": [
    "sns.boxplot(df_kNN_trans[\"TLBadDerogCnt\"]);"
   ]
  },
  {
   "cell_type": "code",
   "execution_count": 43,
   "metadata": {},
   "outputs": [],
   "source": [
    "df_ol = df.copy()\n",
    "# Dataset with no data removed"
   ]
  },
  {
   "cell_type": "code",
   "execution_count": 44,
   "metadata": {},
   "outputs": [
    {
     "data": {
      "text/plain": [
       "Index(['TLDel60Cnt24', 'TLDel3060Cnt24', 'TLDel90Cnt24', 'TLBadDerogCnt'], dtype='object')"
      ]
     },
     "execution_count": 44,
     "metadata": {},
     "output_type": "execute_result"
    }
   ],
   "source": [
    "# Highly correlated feature variables with our Target variable\n",
    "# Removing Outliers only from them for the sake of not losing much data\n",
    "ol_series = series.index[1:5]\n",
    "ol_series"
   ]
  },
  {
   "cell_type": "code",
   "execution_count": 45,
   "metadata": {},
   "outputs": [],
   "source": [
    "# Function to calculate the range of our box\n",
    "def remove_outlier(col):\n",
    "    q25 = col.quantile(0.25)\n",
    "    q75 = col.quantile(0.75)\n",
    "    iqr = q75 - q25\n",
    "    cutoff = iqr*1.5\n",
    "    lower = q25 - cutoff\n",
    "    upper = q75 + cutoff\n",
    "    return lower, upper\n",
    "#Remove outliers for col\n",
    "for i in ol_series:\n",
    "    lower_1, upper_1 = remove_outlier(df[i])\n",
    "    df = df.loc[(df[i] > lower_1) & (df[i] < upper_1)] \n"
   ]
  },
  {
   "cell_type": "code",
   "execution_count": 46,
   "metadata": {},
   "outputs": [
    {
     "data": {
      "text/plain": [
       "(2086, 29)"
      ]
     },
     "execution_count": 46,
     "metadata": {},
     "output_type": "execute_result"
    }
   ],
   "source": [
    "df.shape"
   ]
  },
  {
   "cell_type": "code",
   "execution_count": 47,
   "metadata": {},
   "outputs": [
    {
     "name": "stderr",
     "output_type": "stream",
     "text": [
      "/Users/prithvichauhan/miniforge3/envs/viper/lib/python3.8/site-packages/seaborn/_decorators.py:36: FutureWarning: Pass the following variable as a keyword arg: x. From version 0.12, the only valid positional argument will be `data`, and passing other arguments without an explicit keyword will result in an error or misinterpretation.\n",
      "  warnings.warn(\n"
     ]
    },
    {
     "data": {
      "image/png": "[encoded data removed]",
      "text/plain": [
       "<Figure size 432x288 with 1 Axes>"
      ]
     },
     "metadata": {
      "needs_background": "light"
     },
     "output_type": "display_data"
    }
   ],
   "source": [
    "sns.boxplot(df[\"TLDel60Cnt24\"]);\n",
    "# Outliers are removed which might be affecting the Target variable the most"
   ]
  },
  {
   "cell_type": "markdown",
   "metadata": {},
   "source": [
    "## <font color='lightgreen'> Model Building With Major Outliers Removed"
   ]
  },
  {
   "cell_type": "markdown",
   "metadata": {},
   "source": [
    "### <font color='lightgreen'>Train Test Split"
   ]
  },
  {
   "cell_type": "code",
   "execution_count": 48,
   "metadata": {},
   "outputs": [],
   "source": [
    "y = df.iloc[:, 0].values\n",
    "X = df.iloc[:, 1:29].values"
   ]
  },
  {
   "cell_type": "code",
   "execution_count": 49,
   "metadata": {},
   "outputs": [],
   "source": [
    "# splitting dataset into training and test (in ratio 80:20)\n",
    "\n",
    "X_train, X_test, y_train, y_test = train_test_split(X, y, test_size=0.2, random_state=0)"
   ]
  },
  {
   "cell_type": "code",
   "execution_count": 50,
   "metadata": {},
   "outputs": [],
   "source": [
    "sc = StandardScaler()\n",
    "X_train = sc.fit_transform(X_train)\n",
    "X_test = sc.transform(X_test)"
   ]
  },
  {
   "cell_type": "markdown",
   "metadata": {},
   "source": [
    "### <font color='yellow'>Risk Model building Using Logistic Regression"
   ]
  },
  {
   "cell_type": "code",
   "execution_count": 51,
   "metadata": {},
   "outputs": [],
   "source": [
    "classifier =  LogisticRegression()\n",
    "classifier.fit(X_train, y_train)\n",
    "y_pred_LR = classifier.predict(X_test)"
   ]
  },
  {
   "cell_type": "markdown",
   "metadata": {},
   "source": [
    "#### <font color='yellow'>Model performance"
   ]
  },
  {
   "cell_type": "code",
   "execution_count": 52,
   "metadata": {},
   "outputs": [
    {
     "name": "stdout",
     "output_type": "stream",
     "text": [
      "[[379   1]\n",
      " [ 35   3]]\n"
     ]
    }
   ],
   "source": [
    "print(confusion_matrix(y_test,y_pred_LR))"
   ]
  },
  {
   "cell_type": "code",
   "execution_count": 53,
   "metadata": {},
   "outputs": [
    {
     "name": "stdout",
     "output_type": "stream",
     "text": [
      "0.9138755980861244\n"
     ]
    }
   ],
   "source": [
    "print(accuracy_score(y_test, y_pred_LR))"
   ]
  },
  {
   "cell_type": "code",
   "execution_count": 54,
   "metadata": {},
   "outputs": [
    {
     "data": {
      "image/png": "[encoded data removed]",
      "text/plain": [
       "<Figure size 1440x360 with 1 Axes>"
      ]
     },
     "metadata": {
      "needs_background": "light"
     },
     "output_type": "display_data"
    }
   ],
   "source": [
    "coef = classifier.coef_[0]\n",
    "plt.figure(figsize=(20,5))\n",
    "weights = (pd.Series(coef, index = df_kNN_trans.drop(\"TARGET\", axis =1).columns))\n",
    "weights.plot(kind='bar', color=\"#4CB391\")   \n",
    "plt.title(\"WEIGHTS OF FEATURE VARIABLES\")\n",
    "plt.xlabel(\"Feature Variable Name\")\n",
    "plt.ylabel(\"Importance Value\");"
   ]
  },
  {
   "cell_type": "markdown",
   "metadata": {},
   "source": [
    "### <font color='yellow'>Risk Model building Using k-NN"
   ]
  },
  {
   "cell_type": "code",
   "execution_count": 55,
   "metadata": {},
   "outputs": [
    {
     "data": {
      "text/html": [
       "<style>#sk-container-id-2 {color: black;background-color: white;}#sk-container-id-2 pre{padding: 0;}#sk-container-id-2 div.sk-toggleable {background-color: white;}#sk-container-id-2 label.sk-toggleable__label {cursor: pointer;display: block;width: 100%;margin-bottom: 0;padding: 0.3em;box-sizing: border-box;text-align: center;}#sk-container-id-2 label.sk-toggleable__label-arrow:before {content: \"▸\";float: left;margin-right: 0.25em;color: #696969;}#sk-container-id-2 label.sk-toggleable__label-arrow:hover:before {color: black;}#sk-container-id-2 div.sk-estimator:hover label.sk-toggleable__label-arrow:before {color: black;}#sk-container-id-2 div.sk-toggleable__content {max-height: 0;max-width: 0;overflow: hidden;text-align: left;background-color: #f0f8ff;}#sk-container-id-2 div.sk-toggleable__content pre {margin: 0.2em;color: black;border-radius: 0.25em;background-color: #f0f8ff;}#sk-container-id-2 input.sk-toggleable__control:checked~div.sk-toggleable__content {max-height: 200px;max-width: 100%;overflow: auto;}#sk-container-id-2 input.sk-toggleable__control:checked~label.sk-toggleable__label-arrow:before {content: \"▾\";}#sk-container-id-2 div.sk-estimator input.sk-toggleable__control:checked~label.sk-toggleable__label {background-color: #d4ebff;}#sk-container-id-2 div.sk-label input.sk-toggleable__control:checked~label.sk-toggleable__label {background-color: #d4ebff;}#sk-container-id-2 input.sk-hidden--visually {border: 0;clip: rect(1px 1px 1px 1px);clip: rect(1px, 1px, 1px, 1px);height: 1px;margin: -1px;overflow: hidden;padding: 0;position: absolute;width: 1px;}#sk-container-id-2 div.sk-estimator {font-family: monospace;background-color: #f0f8ff;border: 1px dotted black;border-radius: 0.25em;box-sizing: border-box;margin-bottom: 0.5em;}#sk-container-id-2 div.sk-estimator:hover {background-color: #d4ebff;}#sk-container-id-2 div.sk-parallel-item::after {content: \"\";width: 100%;border-bottom: 1px solid gray;flex-grow: 1;}#sk-container-id-2 div.sk-label:hover label.sk-toggleable__label {background-color: #d4ebff;}#sk-container-id-2 div.sk-serial::before {content: \"\";position: absolute;border-left: 1px solid gray;box-sizing: border-box;top: 0;bottom: 0;left: 50%;z-index: 0;}#sk-container-id-2 div.sk-serial {display: flex;flex-direction: column;align-items: center;background-color: white;padding-right: 0.2em;padding-left: 0.2em;position: relative;}#sk-container-id-2 div.sk-item {position: relative;z-index: 1;}#sk-container-id-2 div.sk-parallel {display: flex;align-items: stretch;justify-content: center;background-color: white;position: relative;}#sk-container-id-2 div.sk-item::before, #sk-container-id-2 div.sk-parallel-item::before {content: \"\";position: absolute;border-left: 1px solid gray;box-sizing: border-box;top: 0;bottom: 0;left: 50%;z-index: -1;}#sk-container-id-2 div.sk-parallel-item {display: flex;flex-direction: column;z-index: 1;position: relative;background-color: white;}#sk-container-id-2 div.sk-parallel-item:first-child::after {align-self: flex-end;width: 50%;}#sk-container-id-2 div.sk-parallel-item:last-child::after {align-self: flex-start;width: 50%;}#sk-container-id-2 div.sk-parallel-item:only-child::after {width: 0;}#sk-container-id-2 div.sk-dashed-wrapped {border: 1px dashed gray;margin: 0 0.4em 0.5em 0.4em;box-sizing: border-box;padding-bottom: 0.4em;background-color: white;}#sk-container-id-2 div.sk-label label {font-family: monospace;font-weight: bold;display: inline-block;line-height: 1.2em;}#sk-container-id-2 div.sk-label-container {text-align: center;}#sk-container-id-2 div.sk-container {/* jupyter's `normalize.less` sets `[hidden] { display: none; }` but bootstrap.min.css set `[hidden] { display: none !important; }` so we also need the `!important` here to be able to override the default hidden behavior on the sphinx rendered scikit-learn.org. See: https://github.com/scikit-learn/scikit-learn/issues/21755 */display: inline-block !important;position: relative;}#sk-container-id-2 div.sk-text-repr-fallback {display: none;}</style><div id=\"sk-container-id-2\" class=\"sk-top-container\"><div class=\"sk-text-repr-fallback\"><pre>KNeighborsClassifier(n_neighbors=3)</pre><b>In a Jupyter environment, please rerun this cell to show the HTML representation or trust the notebook. <br />On GitHub, the HTML representation is unable to render, please try loading this page with nbviewer.org.</b></div><div class=\"sk-container\" hidden><div class=\"sk-item\"><div class=\"sk-estimator sk-toggleable\"><input class=\"sk-toggleable__control sk-hidden--visually\" id=\"sk-estimator-id-2\" type=\"checkbox\" checked><label for=\"sk-estimator-id-2\" class=\"sk-toggleable__label sk-toggleable__label-arrow\">KNeighborsClassifier</label><div class=\"sk-toggleable__content\"><pre>KNeighborsClassifier(n_neighbors=3)</pre></div></div></div></div></div>"
      ],
      "text/plain": [
       "KNeighborsClassifier(n_neighbors=3)"
      ]
     },
     "execution_count": 55,
     "metadata": {},
     "output_type": "execute_result"
    }
   ],
   "source": [
    "knn = KNeighborsClassifier(n_neighbors=3)\n",
    "knn.fit(X_train, y_train)"
   ]
  },
  {
   "cell_type": "code",
   "execution_count": 56,
   "metadata": {},
   "outputs": [],
   "source": [
    "y_pred_kNN = knn.predict(X_test)"
   ]
  },
  {
   "cell_type": "code",
   "execution_count": 57,
   "metadata": {},
   "outputs": [
    {
     "name": "stdout",
     "output_type": "stream",
     "text": [
      "[[369  11]\n",
      " [ 36   2]]\n"
     ]
    }
   ],
   "source": [
    "print(confusion_matrix(y_test,y_pred_kNN))"
   ]
  },
  {
   "cell_type": "code",
   "execution_count": 58,
   "metadata": {},
   "outputs": [
    {
     "name": "stdout",
     "output_type": "stream",
     "text": [
      "0.8875598086124402\n"
     ]
    }
   ],
   "source": [
    "print(accuracy_score(y_test, y_pred_kNN))"
   ]
  },
  {
   "cell_type": "markdown",
   "metadata": {},
   "source": [
    "### <font color='yellow'>Risk Model building Using Decision Trees"
   ]
  },
  {
   "cell_type": "code",
   "execution_count": 59,
   "metadata": {},
   "outputs": [
    {
     "data": {
      "text/html": [
       "<style>#sk-container-id-3 {color: black;background-color: white;}#sk-container-id-3 pre{padding: 0;}#sk-container-id-3 div.sk-toggleable {background-color: white;}#sk-container-id-3 label.sk-toggleable__label {cursor: pointer;display: block;width: 100%;margin-bottom: 0;padding: 0.3em;box-sizing: border-box;text-align: center;}#sk-container-id-3 label.sk-toggleable__label-arrow:before {content: \"▸\";float: left;margin-right: 0.25em;color: #696969;}#sk-container-id-3 label.sk-toggleable__label-arrow:hover:before {color: black;}#sk-container-id-3 div.sk-estimator:hover label.sk-toggleable__label-arrow:before {color: black;}#sk-container-id-3 div.sk-toggleable__content {max-height: 0;max-width: 0;overflow: hidden;text-align: left;background-color: #f0f8ff;}#sk-container-id-3 div.sk-toggleable__content pre {margin: 0.2em;color: black;border-radius: 0.25em;background-color: #f0f8ff;}#sk-container-id-3 input.sk-toggleable__control:checked~div.sk-toggleable__content {max-height: 200px;max-width: 100%;overflow: auto;}#sk-container-id-3 input.sk-toggleable__control:checked~label.sk-toggleable__label-arrow:before {content: \"▾\";}#sk-container-id-3 div.sk-estimator input.sk-toggleable__control:checked~label.sk-toggleable__label {background-color: #d4ebff;}#sk-container-id-3 div.sk-label input.sk-toggleable__control:checked~label.sk-toggleable__label {background-color: #d4ebff;}#sk-container-id-3 input.sk-hidden--visually {border: 0;clip: rect(1px 1px 1px 1px);clip: rect(1px, 1px, 1px, 1px);height: 1px;margin: -1px;overflow: hidden;padding: 0;position: absolute;width: 1px;}#sk-container-id-3 div.sk-estimator {font-family: monospace;background-color: #f0f8ff;border: 1px dotted black;border-radius: 0.25em;box-sizing: border-box;margin-bottom: 0.5em;}#sk-container-id-3 div.sk-estimator:hover {background-color: #d4ebff;}#sk-container-id-3 div.sk-parallel-item::after {content: \"\";width: 100%;border-bottom: 1px solid gray;flex-grow: 1;}#sk-container-id-3 div.sk-label:hover label.sk-toggleable__label {background-color: #d4ebff;}#sk-container-id-3 div.sk-serial::before {content: \"\";position: absolute;border-left: 1px solid gray;box-sizing: border-box;top: 0;bottom: 0;left: 50%;z-index: 0;}#sk-container-id-3 div.sk-serial {display: flex;flex-direction: column;align-items: center;background-color: white;padding-right: 0.2em;padding-left: 0.2em;position: relative;}#sk-container-id-3 div.sk-item {position: relative;z-index: 1;}#sk-container-id-3 div.sk-parallel {display: flex;align-items: stretch;justify-content: center;background-color: white;position: relative;}#sk-container-id-3 div.sk-item::before, #sk-container-id-3 div.sk-parallel-item::before {content: \"\";position: absolute;border-left: 1px solid gray;box-sizing: border-box;top: 0;bottom: 0;left: 50%;z-index: -1;}#sk-container-id-3 div.sk-parallel-item {display: flex;flex-direction: column;z-index: 1;position: relative;background-color: white;}#sk-container-id-3 div.sk-parallel-item:first-child::after {align-self: flex-end;width: 50%;}#sk-container-id-3 div.sk-parallel-item:last-child::after {align-self: flex-start;width: 50%;}#sk-container-id-3 div.sk-parallel-item:only-child::after {width: 0;}#sk-container-id-3 div.sk-dashed-wrapped {border: 1px dashed gray;margin: 0 0.4em 0.5em 0.4em;box-sizing: border-box;padding-bottom: 0.4em;background-color: white;}#sk-container-id-3 div.sk-label label {font-family: monospace;font-weight: bold;display: inline-block;line-height: 1.2em;}#sk-container-id-3 div.sk-label-container {text-align: center;}#sk-container-id-3 div.sk-container {/* jupyter's `normalize.less` sets `[hidden] { display: none; }` but bootstrap.min.css set `[hidden] { display: none !important; }` so we also need the `!important` here to be able to override the default hidden behavior on the sphinx rendered scikit-learn.org. See: https://github.com/scikit-learn/scikit-learn/issues/21755 */display: inline-block !important;position: relative;}#sk-container-id-3 div.sk-text-repr-fallback {display: none;}</style><div id=\"sk-container-id-3\" class=\"sk-top-container\"><div class=\"sk-text-repr-fallback\"><pre>DecisionTreeClassifier(random_state=0)</pre><b>In a Jupyter environment, please rerun this cell to show the HTML representation or trust the notebook. <br />On GitHub, the HTML representation is unable to render, please try loading this page with nbviewer.org.</b></div><div class=\"sk-container\" hidden><div class=\"sk-item\"><div class=\"sk-estimator sk-toggleable\"><input class=\"sk-toggleable__control sk-hidden--visually\" id=\"sk-estimator-id-3\" type=\"checkbox\" checked><label for=\"sk-estimator-id-3\" class=\"sk-toggleable__label sk-toggleable__label-arrow\">DecisionTreeClassifier</label><div class=\"sk-toggleable__content\"><pre>DecisionTreeClassifier(random_state=0)</pre></div></div></div></div></div>"
      ],
      "text/plain": [
       "DecisionTreeClassifier(random_state=0)"
      ]
     },
     "execution_count": 59,
     "metadata": {},
     "output_type": "execute_result"
    }
   ],
   "source": [
    "\n",
    "clf = DecisionTreeClassifier(random_state=0)\n",
    "clf.fit(X_train, y_train)"
   ]
  },
  {
   "cell_type": "code",
   "execution_count": 60,
   "metadata": {},
   "outputs": [],
   "source": [
    "y_pred_DT = clf.predict(X_test)"
   ]
  },
  {
   "cell_type": "code",
   "execution_count": 61,
   "metadata": {},
   "outputs": [
    {
     "name": "stdout",
     "output_type": "stream",
     "text": [
      "[[331  49]\n",
      " [ 34   4]]\n"
     ]
    }
   ],
   "source": [
    "print(confusion_matrix(y_test,y_pred_DT))"
   ]
  },
  {
   "cell_type": "code",
   "execution_count": 62,
   "metadata": {},
   "outputs": [
    {
     "name": "stdout",
     "output_type": "stream",
     "text": [
      "0.8014354066985646\n"
     ]
    }
   ],
   "source": [
    "print(accuracy_score(y_test, y_pred_DT))"
   ]
  },
  {
   "cell_type": "markdown",
   "metadata": {},
   "source": [
    "### <font color='yellow'>Risk Model building Using RandomForestClassifier"
   ]
  },
  {
   "cell_type": "code",
   "execution_count": 63,
   "metadata": {},
   "outputs": [
    {
     "data": {
      "text/html": [
       "<style>#sk-container-id-4 {color: black;background-color: white;}#sk-container-id-4 pre{padding: 0;}#sk-container-id-4 div.sk-toggleable {background-color: white;}#sk-container-id-4 label.sk-toggleable__label {cursor: pointer;display: block;width: 100%;margin-bottom: 0;padding: 0.3em;box-sizing: border-box;text-align: center;}#sk-container-id-4 label.sk-toggleable__label-arrow:before {content: \"▸\";float: left;margin-right: 0.25em;color: #696969;}#sk-container-id-4 label.sk-toggleable__label-arrow:hover:before {color: black;}#sk-container-id-4 div.sk-estimator:hover label.sk-toggleable__label-arrow:before {color: black;}#sk-container-id-4 div.sk-toggleable__content {max-height: 0;max-width: 0;overflow: hidden;text-align: left;background-color: #f0f8ff;}#sk-container-id-4 div.sk-toggleable__content pre {margin: 0.2em;color: black;border-radius: 0.25em;background-color: #f0f8ff;}#sk-container-id-4 input.sk-toggleable__control:checked~div.sk-toggleable__content {max-height: 200px;max-width: 100%;overflow: auto;}#sk-container-id-4 input.sk-toggleable__control:checked~label.sk-toggleable__label-arrow:before {content: \"▾\";}#sk-container-id-4 div.sk-estimator input.sk-toggleable__control:checked~label.sk-toggleable__label {background-color: #d4ebff;}#sk-container-id-4 div.sk-label input.sk-toggleable__control:checked~label.sk-toggleable__label {background-color: #d4ebff;}#sk-container-id-4 input.sk-hidden--visually {border: 0;clip: rect(1px 1px 1px 1px);clip: rect(1px, 1px, 1px, 1px);height: 1px;margin: -1px;overflow: hidden;padding: 0;position: absolute;width: 1px;}#sk-container-id-4 div.sk-estimator {font-family: monospace;background-color: #f0f8ff;border: 1px dotted black;border-radius: 0.25em;box-sizing: border-box;margin-bottom: 0.5em;}#sk-container-id-4 div.sk-estimator:hover {background-color: #d4ebff;}#sk-container-id-4 div.sk-parallel-item::after {content: \"\";width: 100%;border-bottom: 1px solid gray;flex-grow: 1;}#sk-container-id-4 div.sk-label:hover label.sk-toggleable__label {background-color: #d4ebff;}#sk-container-id-4 div.sk-serial::before {content: \"\";position: absolute;border-left: 1px solid gray;box-sizing: border-box;top: 0;bottom: 0;left: 50%;z-index: 0;}#sk-container-id-4 div.sk-serial {display: flex;flex-direction: column;align-items: center;background-color: white;padding-right: 0.2em;padding-left: 0.2em;position: relative;}#sk-container-id-4 div.sk-item {position: relative;z-index: 1;}#sk-container-id-4 div.sk-parallel {display: flex;align-items: stretch;justify-content: center;background-color: white;position: relative;}#sk-container-id-4 div.sk-item::before, #sk-container-id-4 div.sk-parallel-item::before {content: \"\";position: absolute;border-left: 1px solid gray;box-sizing: border-box;top: 0;bottom: 0;left: 50%;z-index: -1;}#sk-container-id-4 div.sk-parallel-item {display: flex;flex-direction: column;z-index: 1;position: relative;background-color: white;}#sk-container-id-4 div.sk-parallel-item:first-child::after {align-self: flex-end;width: 50%;}#sk-container-id-4 div.sk-parallel-item:last-child::after {align-self: flex-start;width: 50%;}#sk-container-id-4 div.sk-parallel-item:only-child::after {width: 0;}#sk-container-id-4 div.sk-dashed-wrapped {border: 1px dashed gray;margin: 0 0.4em 0.5em 0.4em;box-sizing: border-box;padding-bottom: 0.4em;background-color: white;}#sk-container-id-4 div.sk-label label {font-family: monospace;font-weight: bold;display: inline-block;line-height: 1.2em;}#sk-container-id-4 div.sk-label-container {text-align: center;}#sk-container-id-4 div.sk-container {/* jupyter's `normalize.less` sets `[hidden] { display: none; }` but bootstrap.min.css set `[hidden] { display: none !important; }` so we also need the `!important` here to be able to override the default hidden behavior on the sphinx rendered scikit-learn.org. See: https://github.com/scikit-learn/scikit-learn/issues/21755 */display: inline-block !important;position: relative;}#sk-container-id-4 div.sk-text-repr-fallback {display: none;}</style><div id=\"sk-container-id-4\" class=\"sk-top-container\"><div class=\"sk-text-repr-fallback\"><pre>RandomForestClassifier(min_samples_split=5, n_estimators=20, random_state=0)</pre><b>In a Jupyter environment, please rerun this cell to show the HTML representation or trust the notebook. <br />On GitHub, the HTML representation is unable to render, please try loading this page with nbviewer.org.</b></div><div class=\"sk-container\" hidden><div class=\"sk-item\"><div class=\"sk-estimator sk-toggleable\"><input class=\"sk-toggleable__control sk-hidden--visually\" id=\"sk-estimator-id-4\" type=\"checkbox\" checked><label for=\"sk-estimator-id-4\" class=\"sk-toggleable__label sk-toggleable__label-arrow\">RandomForestClassifier</label><div class=\"sk-toggleable__content\"><pre>RandomForestClassifier(min_samples_split=5, n_estimators=20, random_state=0)</pre></div></div></div></div></div>"
      ],
      "text/plain": [
       "RandomForestClassifier(min_samples_split=5, n_estimators=20, random_state=0)"
      ]
     },
     "execution_count": 63,
     "metadata": {},
     "output_type": "execute_result"
    }
   ],
   "source": [
    "clf_random = RandomForestClassifier(n_estimators=20, max_depth=None, min_samples_split=5, random_state=0)\n",
    "clf_random.fit(X_train, y_train)"
   ]
  },
  {
   "cell_type": "code",
   "execution_count": 64,
   "metadata": {},
   "outputs": [
    {
     "name": "stderr",
     "output_type": "stream",
     "text": [
      "[Parallel(n_jobs=1)]: Using backend SequentialBackend with 1 concurrent workers.\n",
      "[Parallel(n_jobs=1)]: Done   1 out of   1 | elapsed:    0.1s remaining:    0.0s\n",
      "[Parallel(n_jobs=1)]: Done  28 out of  28 | elapsed:    1.8s finished\n",
      "\n",
      "[2022-08-30 04:20:35] Features: 1/26 -- score: 0.8974843106579634[Parallel(n_jobs=1)]: Using backend SequentialBackend with 1 concurrent workers.\n",
      "[Parallel(n_jobs=1)]: Done   1 out of   1 | elapsed:    0.1s remaining:    0.0s\n",
      "[Parallel(n_jobs=1)]: Done  27 out of  27 | elapsed:    1.9s finished\n",
      "\n",
      "[2022-08-30 04:20:37] Features: 2/26 -- score: 0.898083113053173[Parallel(n_jobs=1)]: Using backend SequentialBackend with 1 concurrent workers.\n",
      "[Parallel(n_jobs=1)]: Done   1 out of   1 | elapsed:    0.1s remaining:    0.0s\n",
      "[Parallel(n_jobs=1)]: Done  26 out of  26 | elapsed:    1.8s finished\n",
      "\n",
      "[2022-08-30 04:20:38] Features: 3/26 -- score: 0.8968855082627538[Parallel(n_jobs=1)]: Using backend SequentialBackend with 1 concurrent workers.\n",
      "[Parallel(n_jobs=1)]: Done   1 out of   1 | elapsed:    0.1s remaining:    0.0s\n",
      "[Parallel(n_jobs=1)]: Done  25 out of  25 | elapsed:    2.0s finished\n",
      "\n",
      "[2022-08-30 04:20:40] Features: 4/26 -- score: 0.8962849076621531[Parallel(n_jobs=1)]: Using backend SequentialBackend with 1 concurrent workers.\n",
      "[Parallel(n_jobs=1)]: Done   1 out of   1 | elapsed:    0.1s remaining:    0.0s\n",
      "[Parallel(n_jobs=1)]: Done  24 out of  24 | elapsed:    1.9s finished\n",
      "\n",
      "[2022-08-30 04:20:42] Features: 5/26 -- score: 0.8980813148477818[Parallel(n_jobs=1)]: Using backend SequentialBackend with 1 concurrent workers.\n",
      "[Parallel(n_jobs=1)]: Done   1 out of   1 | elapsed:    0.1s remaining:    0.0s\n",
      "[Parallel(n_jobs=1)]: Done  23 out of  23 | elapsed:    1.8s finished\n",
      "\n",
      "[2022-08-30 04:20:44] Features: 6/26 -- score: 0.8968801136465807[Parallel(n_jobs=1)]: Using backend SequentialBackend with 1 concurrent workers.\n",
      "[Parallel(n_jobs=1)]: Done   1 out of   1 | elapsed:    0.1s remaining:    0.0s\n",
      "[Parallel(n_jobs=1)]: Done  22 out of  22 | elapsed:    1.7s finished\n",
      "\n",
      "[2022-08-30 04:20:46] Features: 7/26 -- score: 0.8944885004765244[Parallel(n_jobs=1)]: Using backend SequentialBackend with 1 concurrent workers.\n",
      "[Parallel(n_jobs=1)]: Done   1 out of   1 | elapsed:    0.1s remaining:    0.0s\n",
      "[Parallel(n_jobs=1)]: Done  21 out of  21 | elapsed:    1.7s finished\n",
      "\n",
      "[2022-08-30 04:20:48] Features: 8/26 -- score: 0.8986783190376004[Parallel(n_jobs=1)]: Using backend SequentialBackend with 1 concurrent workers.\n",
      "[Parallel(n_jobs=1)]: Done   1 out of   1 | elapsed:    0.1s remaining:    0.0s\n",
      "[Parallel(n_jobs=1)]: Done  20 out of  20 | elapsed:    1.8s finished\n",
      "\n",
      "[2022-08-30 04:20:49] Features: 9/26 -- score: 0.9010717304130477[Parallel(n_jobs=1)]: Using backend SequentialBackend with 1 concurrent workers.\n",
      "[Parallel(n_jobs=1)]: Done   1 out of   1 | elapsed:    0.1s remaining:    0.0s\n",
      "[Parallel(n_jobs=1)]: Done  19 out of  19 | elapsed:    1.9s finished\n",
      "\n",
      "[2022-08-30 04:20:51] Features: 10/26 -- score: 0.9004783226340113[Parallel(n_jobs=1)]: Using backend SequentialBackend with 1 concurrent workers.\n",
      "[Parallel(n_jobs=1)]: Done   1 out of   1 | elapsed:    0.1s remaining:    0.0s\n",
      "[Parallel(n_jobs=1)]: Done  18 out of  18 | elapsed:    1.8s finished\n",
      "\n",
      "[2022-08-30 04:20:53] Features: 11/26 -- score: 0.9016813220406036[Parallel(n_jobs=1)]: Using backend SequentialBackend with 1 concurrent workers.\n",
      "[Parallel(n_jobs=1)]: Done   1 out of   1 | elapsed:    0.1s remaining:    0.0s\n",
      "[Parallel(n_jobs=1)]: Done  17 out of  17 | elapsed:    1.7s finished\n",
      "\n",
      "[2022-08-30 04:20:55] Features: 12/26 -- score: 0.8998831166495836[Parallel(n_jobs=1)]: Using backend SequentialBackend with 1 concurrent workers.\n",
      "[Parallel(n_jobs=1)]: Done   1 out of   1 | elapsed:    0.1s remaining:    0.0s\n",
      "[Parallel(n_jobs=1)]: Done  16 out of  16 | elapsed:    1.6s finished\n",
      "\n",
      "[2022-08-30 04:20:56] Features: 13/26 -- score: 0.9010771250292209[Parallel(n_jobs=1)]: Using backend SequentialBackend with 1 concurrent workers.\n",
      "[Parallel(n_jobs=1)]: Done   1 out of   1 | elapsed:    0.1s remaining:    0.0s\n",
      "[Parallel(n_jobs=1)]: Done  15 out of  15 | elapsed:    1.5s finished\n",
      "\n",
      "[2022-08-30 04:20:58] Features: 14/26 -- score: 0.9016831202459945[Parallel(n_jobs=1)]: Using backend SequentialBackend with 1 concurrent workers.\n",
      "[Parallel(n_jobs=1)]: Done   1 out of   1 | elapsed:    0.1s remaining:    0.0s\n",
      "[Parallel(n_jobs=1)]: Done  14 out of  14 | elapsed:    1.4s finished\n",
      "\n",
      "[2022-08-30 04:20:59] Features: 15/26 -- score: 0.9004783226340113[Parallel(n_jobs=1)]: Using backend SequentialBackend with 1 concurrent workers.\n",
      "[Parallel(n_jobs=1)]: Done   1 out of   1 | elapsed:    0.1s remaining:    0.0s\n",
      "[Parallel(n_jobs=1)]: Done  13 out of  13 | elapsed:    1.5s finished\n",
      "\n",
      "[2022-08-30 04:21:01] Features: 16/26 -- score: 0.9010789232346118[Parallel(n_jobs=1)]: Using backend SequentialBackend with 1 concurrent workers.\n",
      "[Parallel(n_jobs=1)]: Done   1 out of   1 | elapsed:    0.1s remaining:    0.0s\n",
      "[Parallel(n_jobs=1)]: Done  12 out of  12 | elapsed:    1.4s finished\n",
      "\n",
      "[2022-08-30 04:21:02] Features: 17/26 -- score: 0.8998759238280195[Parallel(n_jobs=1)]: Using backend SequentialBackend with 1 concurrent workers.\n",
      "[Parallel(n_jobs=1)]: Done   1 out of   1 | elapsed:    0.1s remaining:    0.0s\n",
      "[Parallel(n_jobs=1)]: Done  11 out of  11 | elapsed:    1.3s finished\n",
      "\n",
      "[2022-08-30 04:21:03] Features: 18/26 -- score: 0.9004765244286203[Parallel(n_jobs=1)]: Using backend SequentialBackend with 1 concurrent workers.\n",
      "[Parallel(n_jobs=1)]: Done   1 out of   1 | elapsed:    0.1s remaining:    0.0s\n",
      "[Parallel(n_jobs=1)]: Done  10 out of  10 | elapsed:    1.2s finished\n",
      "\n",
      "[2022-08-30 04:21:05] Features: 19/26 -- score: 0.9010771250292209[Parallel(n_jobs=1)]: Using backend SequentialBackend with 1 concurrent workers.\n",
      "[Parallel(n_jobs=1)]: Done   1 out of   1 | elapsed:    0.1s remaining:    0.0s\n",
      "[Parallel(n_jobs=1)]: Done   9 out of   9 | elapsed:    1.1s finished\n",
      "\n",
      "[2022-08-30 04:21:06] Features: 20/26 -- score: 0.9010753268238298[Parallel(n_jobs=1)]: Using backend SequentialBackend with 1 concurrent workers.\n",
      "[Parallel(n_jobs=1)]: Done   1 out of   1 | elapsed:    0.1s remaining:    0.0s\n",
      "[Parallel(n_jobs=1)]: Done   8 out of   8 | elapsed:    1.0s finished\n",
      "\n",
      "[2022-08-30 04:21:07] Features: 21/26 -- score: 0.9004747262232293[Parallel(n_jobs=1)]: Using backend SequentialBackend with 1 concurrent workers.\n",
      "[Parallel(n_jobs=1)]: Done   1 out of   1 | elapsed:    0.1s remaining:    0.0s\n",
      "[Parallel(n_jobs=1)]: Done   7 out of   7 | elapsed:    0.9s finished\n",
      "\n",
      "[2022-08-30 04:21:08] Features: 22/26 -- score: 0.8998795202388017[Parallel(n_jobs=1)]: Using backend SequentialBackend with 1 concurrent workers.\n",
      "[Parallel(n_jobs=1)]: Done   1 out of   1 | elapsed:    0.1s remaining:    0.0s\n",
      "[Parallel(n_jobs=1)]: Done   6 out of   6 | elapsed:    0.8s finished\n",
      "\n",
      "[2022-08-30 04:21:08] Features: 23/26 -- score: 0.8992825160489831[Parallel(n_jobs=1)]: Using backend SequentialBackend with 1 concurrent workers.\n",
      "[Parallel(n_jobs=1)]: Done   1 out of   1 | elapsed:    0.1s remaining:    0.0s\n",
      "[Parallel(n_jobs=1)]: Done   5 out of   5 | elapsed:    0.7s finished\n",
      "\n",
      "[2022-08-30 04:21:09] Features: 24/26 -- score: 0.9004819190447932[Parallel(n_jobs=1)]: Using backend SequentialBackend with 1 concurrent workers.\n",
      "[Parallel(n_jobs=1)]: Done   1 out of   1 | elapsed:    0.1s remaining:    0.0s\n",
      "[Parallel(n_jobs=1)]: Done   4 out of   4 | elapsed:    0.6s finished\n",
      "\n",
      "[2022-08-30 04:21:10] Features: 25/26 -- score: 0.8998813184441927[Parallel(n_jobs=1)]: Using backend SequentialBackend with 1 concurrent workers.\n",
      "[Parallel(n_jobs=1)]: Done   1 out of   1 | elapsed:    0.1s remaining:    0.0s\n"
     ]
    },
    {
     "name": "stdout",
     "output_type": "stream",
     "text": [
      "[0, 1, 2, 3, 4, 5, 6, 7, 8, 9, 10, 12, 13, 14, 15, 16, 18, 19, 20, 21, 22, 23, 24, 25, 26, 27]\n",
      "0.9043062200956937\n"
     ]
    },
    {
     "name": "stderr",
     "output_type": "stream",
     "text": [
      "[Parallel(n_jobs=1)]: Done   3 out of   3 | elapsed:    0.4s finished\n",
      "\n",
      "[2022-08-30 04:21:10] Features: 26/26 -- score: 0.8968855082627536"
     ]
    }
   ],
   "source": [
    "# Build Forward Stepwise Selection\n",
    "# Trying to select maximum relevant features\n",
    "# Checking for set of 26 \n",
    "sfs_RFC = sfs(clf_random,\n",
    "            k_features=26,\n",
    "            forward=True,\n",
    "            floating=False,\n",
    "            verbose=2,\n",
    "            scoring='accuracy',\n",
    "            cv=5)\n",
    "# Perform Forward Stepwise Selection\n",
    "sfs_RFC = sfs_RFC.fit(X_train, y_train)\n",
    "# Which features?\n",
    "feat_cols = list(sfs_RFC.k_feature_idx_)\n",
    "print(feat_cols)\n",
    "clf_random_final = RandomForestClassifier(n_estimators=25, max_depth=None, min_samples_split=2, random_state=0)\n",
    "clf_random_final.fit(X_train[:,feat_cols], y_train)\n",
    "y_pred_RFC = clf_random_final.predict(X_test[:,feat_cols])\n",
    "print(accuracy_score(y_test, y_pred_RFC))\n",
    "    "
   ]
  },
  {
   "cell_type": "code",
   "execution_count": 65,
   "metadata": {},
   "outputs": [
    {
     "name": "stderr",
     "output_type": "stream",
     "text": [
      "[Parallel(n_jobs=1)]: Using backend SequentialBackend with 1 concurrent workers.\n",
      "[Parallel(n_jobs=1)]: Done   1 out of   1 | elapsed:    0.1s remaining:    0.0s\n",
      "[Parallel(n_jobs=1)]: Done  28 out of  28 | elapsed:    1.8s finished\n",
      "\n",
      "[2022-08-30 04:21:12] Features: 1/27 -- score: 0.8974843106579634[Parallel(n_jobs=1)]: Using backend SequentialBackend with 1 concurrent workers.\n",
      "[Parallel(n_jobs=1)]: Done   1 out of   1 | elapsed:    0.1s remaining:    0.0s\n",
      "[Parallel(n_jobs=1)]: Done  27 out of  27 | elapsed:    1.9s finished\n",
      "\n",
      "[2022-08-30 04:21:14] Features: 2/27 -- score: 0.898083113053173[Parallel(n_jobs=1)]: Using backend SequentialBackend with 1 concurrent workers.\n",
      "[Parallel(n_jobs=1)]: Done   1 out of   1 | elapsed:    0.1s remaining:    0.0s\n",
      "[Parallel(n_jobs=1)]: Done  26 out of  26 | elapsed:    1.8s finished\n",
      "\n",
      "[2022-08-30 04:21:16] Features: 3/27 -- score: 0.8968855082627538[Parallel(n_jobs=1)]: Using backend SequentialBackend with 1 concurrent workers.\n",
      "[Parallel(n_jobs=1)]: Done   1 out of   1 | elapsed:    0.1s remaining:    0.0s\n",
      "[Parallel(n_jobs=1)]: Done  25 out of  25 | elapsed:    1.9s finished\n",
      "\n",
      "[2022-08-30 04:21:18] Features: 4/27 -- score: 0.8962849076621531[Parallel(n_jobs=1)]: Using backend SequentialBackend with 1 concurrent workers.\n",
      "[Parallel(n_jobs=1)]: Done   1 out of   1 | elapsed:    0.1s remaining:    0.0s\n",
      "[Parallel(n_jobs=1)]: Done  24 out of  24 | elapsed:    1.9s finished\n",
      "\n",
      "[2022-08-30 04:21:20] Features: 5/27 -- score: 0.8980813148477818[Parallel(n_jobs=1)]: Using backend SequentialBackend with 1 concurrent workers.\n",
      "[Parallel(n_jobs=1)]: Done   1 out of   1 | elapsed:    0.1s remaining:    0.0s\n",
      "[Parallel(n_jobs=1)]: Done  23 out of  23 | elapsed:    1.8s finished\n",
      "\n",
      "[2022-08-30 04:21:21] Features: 6/27 -- score: 0.8968801136465807[Parallel(n_jobs=1)]: Using backend SequentialBackend with 1 concurrent workers.\n",
      "[Parallel(n_jobs=1)]: Done   1 out of   1 | elapsed:    0.1s remaining:    0.0s\n",
      "[Parallel(n_jobs=1)]: Done  22 out of  22 | elapsed:    1.7s finished\n",
      "\n",
      "[2022-08-30 04:21:23] Features: 7/27 -- score: 0.8944885004765244[Parallel(n_jobs=1)]: Using backend SequentialBackend with 1 concurrent workers.\n",
      "[Parallel(n_jobs=1)]: Done   1 out of   1 | elapsed:    0.1s remaining:    0.0s\n",
      "[Parallel(n_jobs=1)]: Done  21 out of  21 | elapsed:    1.7s finished\n",
      "\n",
      "[2022-08-30 04:21:25] Features: 8/27 -- score: 0.8986783190376004[Parallel(n_jobs=1)]: Using backend SequentialBackend with 1 concurrent workers.\n",
      "[Parallel(n_jobs=1)]: Done   1 out of   1 | elapsed:    0.1s remaining:    0.0s\n",
      "[Parallel(n_jobs=1)]: Done  20 out of  20 | elapsed:    1.8s finished\n",
      "\n",
      "[2022-08-30 04:21:27] Features: 9/27 -- score: 0.9010717304130477[Parallel(n_jobs=1)]: Using backend SequentialBackend with 1 concurrent workers.\n",
      "[Parallel(n_jobs=1)]: Done   1 out of   1 | elapsed:    0.1s remaining:    0.0s\n",
      "[Parallel(n_jobs=1)]: Done  19 out of  19 | elapsed:    1.9s finished\n",
      "\n",
      "[2022-08-30 04:21:28] Features: 10/27 -- score: 0.9004783226340113[Parallel(n_jobs=1)]: Using backend SequentialBackend with 1 concurrent workers.\n",
      "[Parallel(n_jobs=1)]: Done   1 out of   1 | elapsed:    0.1s remaining:    0.0s\n",
      "[Parallel(n_jobs=1)]: Done  18 out of  18 | elapsed:    1.8s finished\n",
      "\n",
      "[2022-08-30 04:21:30] Features: 11/27 -- score: 0.9016813220406036[Parallel(n_jobs=1)]: Using backend SequentialBackend with 1 concurrent workers.\n",
      "[Parallel(n_jobs=1)]: Done   1 out of   1 | elapsed:    0.1s remaining:    0.0s\n",
      "[Parallel(n_jobs=1)]: Done  17 out of  17 | elapsed:    1.7s finished\n",
      "\n",
      "[2022-08-30 04:21:32] Features: 12/27 -- score: 0.8998831166495836[Parallel(n_jobs=1)]: Using backend SequentialBackend with 1 concurrent workers.\n",
      "[Parallel(n_jobs=1)]: Done   1 out of   1 | elapsed:    0.1s remaining:    0.0s\n",
      "[Parallel(n_jobs=1)]: Done  16 out of  16 | elapsed:    1.6s finished\n",
      "\n",
      "[2022-08-30 04:21:34] Features: 13/27 -- score: 0.9010771250292209[Parallel(n_jobs=1)]: Using backend SequentialBackend with 1 concurrent workers.\n",
      "[Parallel(n_jobs=1)]: Done   1 out of   1 | elapsed:    0.1s remaining:    0.0s\n",
      "[Parallel(n_jobs=1)]: Done  15 out of  15 | elapsed:    1.5s finished\n",
      "\n",
      "[2022-08-30 04:21:35] Features: 14/27 -- score: 0.9016831202459945[Parallel(n_jobs=1)]: Using backend SequentialBackend with 1 concurrent workers.\n",
      "[Parallel(n_jobs=1)]: Done   1 out of   1 | elapsed:    0.1s remaining:    0.0s\n",
      "[Parallel(n_jobs=1)]: Done  14 out of  14 | elapsed:    1.4s finished\n",
      "\n",
      "[2022-08-30 04:21:37] Features: 15/27 -- score: 0.9004783226340113[Parallel(n_jobs=1)]: Using backend SequentialBackend with 1 concurrent workers.\n",
      "[Parallel(n_jobs=1)]: Done   1 out of   1 | elapsed:    0.1s remaining:    0.0s\n",
      "[Parallel(n_jobs=1)]: Done  13 out of  13 | elapsed:    1.5s finished\n",
      "\n",
      "[2022-08-30 04:21:38] Features: 16/27 -- score: 0.9010789232346118[Parallel(n_jobs=1)]: Using backend SequentialBackend with 1 concurrent workers.\n",
      "[Parallel(n_jobs=1)]: Done   1 out of   1 | elapsed:    0.1s remaining:    0.0s\n",
      "[Parallel(n_jobs=1)]: Done  12 out of  12 | elapsed:    1.4s finished\n",
      "\n",
      "[2022-08-30 04:21:39] Features: 17/27 -- score: 0.8998759238280195[Parallel(n_jobs=1)]: Using backend SequentialBackend with 1 concurrent workers.\n",
      "[Parallel(n_jobs=1)]: Done   1 out of   1 | elapsed:    0.1s remaining:    0.0s\n",
      "[Parallel(n_jobs=1)]: Done  11 out of  11 | elapsed:    1.3s finished\n",
      "\n",
      "[2022-08-30 04:21:41] Features: 18/27 -- score: 0.9004765244286203[Parallel(n_jobs=1)]: Using backend SequentialBackend with 1 concurrent workers.\n",
      "[Parallel(n_jobs=1)]: Done   1 out of   1 | elapsed:    0.1s remaining:    0.0s\n",
      "[Parallel(n_jobs=1)]: Done  10 out of  10 | elapsed:    1.2s finished\n",
      "\n",
      "[2022-08-30 04:21:42] Features: 19/27 -- score: 0.9010771250292209[Parallel(n_jobs=1)]: Using backend SequentialBackend with 1 concurrent workers.\n",
      "[Parallel(n_jobs=1)]: Done   1 out of   1 | elapsed:    0.1s remaining:    0.0s\n",
      "[Parallel(n_jobs=1)]: Done   9 out of   9 | elapsed:    1.1s finished\n",
      "\n",
      "[2022-08-30 04:21:43] Features: 20/27 -- score: 0.9010753268238298[Parallel(n_jobs=1)]: Using backend SequentialBackend with 1 concurrent workers.\n",
      "[Parallel(n_jobs=1)]: Done   1 out of   1 | elapsed:    0.1s remaining:    0.0s\n",
      "[Parallel(n_jobs=1)]: Done   8 out of   8 | elapsed:    1.0s finished\n",
      "\n",
      "[2022-08-30 04:21:44] Features: 21/27 -- score: 0.9004747262232293[Parallel(n_jobs=1)]: Using backend SequentialBackend with 1 concurrent workers.\n",
      "[Parallel(n_jobs=1)]: Done   1 out of   1 | elapsed:    0.1s remaining:    0.0s\n",
      "[Parallel(n_jobs=1)]: Done   7 out of   7 | elapsed:    0.9s finished\n",
      "\n",
      "[2022-08-30 04:21:45] Features: 22/27 -- score: 0.8998795202388017[Parallel(n_jobs=1)]: Using backend SequentialBackend with 1 concurrent workers.\n",
      "[Parallel(n_jobs=1)]: Done   1 out of   1 | elapsed:    0.1s remaining:    0.0s\n",
      "[Parallel(n_jobs=1)]: Done   6 out of   6 | elapsed:    0.8s finished\n",
      "\n",
      "[2022-08-30 04:21:46] Features: 23/27 -- score: 0.8992825160489831[Parallel(n_jobs=1)]: Using backend SequentialBackend with 1 concurrent workers.\n",
      "[Parallel(n_jobs=1)]: Done   1 out of   1 | elapsed:    0.1s remaining:    0.0s\n",
      "[Parallel(n_jobs=1)]: Done   5 out of   5 | elapsed:    0.7s finished\n",
      "\n",
      "[2022-08-30 04:21:46] Features: 24/27 -- score: 0.9004819190447932[Parallel(n_jobs=1)]: Using backend SequentialBackend with 1 concurrent workers.\n",
      "[Parallel(n_jobs=1)]: Done   1 out of   1 | elapsed:    0.1s remaining:    0.0s\n",
      "[Parallel(n_jobs=1)]: Done   4 out of   4 | elapsed:    0.6s finished\n",
      "\n",
      "[2022-08-30 04:21:47] Features: 25/27 -- score: 0.8998813184441927[Parallel(n_jobs=1)]: Using backend SequentialBackend with 1 concurrent workers.\n",
      "[Parallel(n_jobs=1)]: Done   1 out of   1 | elapsed:    0.1s remaining:    0.0s\n",
      "[Parallel(n_jobs=1)]: Done   3 out of   3 | elapsed:    0.4s finished\n",
      "\n",
      "[2022-08-30 04:21:47] Features: 26/27 -- score: 0.8968855082627536[Parallel(n_jobs=1)]: Using backend SequentialBackend with 1 concurrent workers.\n",
      "[Parallel(n_jobs=1)]: Done   1 out of   1 | elapsed:    0.1s remaining:    0.0s\n"
     ]
    },
    {
     "name": "stdout",
     "output_type": "stream",
     "text": [
      "[0, 1, 2, 3, 4, 5, 6, 7, 8, 9, 10, 12, 13, 14, 15, 16, 17, 18, 19, 20, 21, 22, 23, 24, 25, 26, 27]\n",
      "0.9043062200956937\n"
     ]
    },
    {
     "name": "stderr",
     "output_type": "stream",
     "text": [
      "[Parallel(n_jobs=1)]: Done   2 out of   2 | elapsed:    0.3s finished\n",
      "\n",
      "[2022-08-30 04:21:48] Features: 27/27 -- score: 0.8956861052669435"
     ]
    }
   ],
   "source": [
    "# Build Forward Stepwise Selection\n",
    "# Trying to select maximum relevant features\n",
    "# Checking for set of 27\n",
    "sfs_RFC = sfs(clf_random,\n",
    "            k_features=27,\n",
    "            forward=True,\n",
    "            floating=False,\n",
    "            verbose=2,\n",
    "            scoring='accuracy',\n",
    "            cv=5)\n",
    "# Perform Forward Stepwise Selection\n",
    "sfs_RFC = sfs_RFC.fit(X_train, y_train)\n",
    "# Which features?\n",
    "feat_cols = list(sfs_RFC.k_feature_idx_)\n",
    "print(feat_cols)\n",
    "clf_random_final = RandomForestClassifier(n_estimators=25, max_depth=None, min_samples_split=2, random_state=0)\n",
    "clf_random_final.fit(X_train[:,feat_cols], y_train)\n",
    "y_pred_RFC = clf_random_final.predict(X_test[:,feat_cols])\n",
    "print(accuracy_score(y_test, y_pred_RFC))"
   ]
  },
  {
   "cell_type": "code",
   "execution_count": 66,
   "metadata": {},
   "outputs": [],
   "source": [
    "y_pred_RFC = clf_random.predict(X_test) # Considering all 28 feature variables"
   ]
  },
  {
   "cell_type": "code",
   "execution_count": 67,
   "metadata": {},
   "outputs": [
    {
     "name": "stdout",
     "output_type": "stream",
     "text": [
      "0.9114832535885168\n"
     ]
    }
   ],
   "source": [
    "print(accuracy_score(y_test, y_pred_RFC))"
   ]
  },
  {
   "cell_type": "code",
   "execution_count": 68,
   "metadata": {},
   "outputs": [
    {
     "name": "stdout",
     "output_type": "stream",
     "text": [
      "[[379   1]\n",
      " [ 36   2]]\n"
     ]
    }
   ],
   "source": [
    "print(confusion_matrix(y_test,y_pred_RFC))"
   ]
  },
  {
   "cell_type": "markdown",
   "metadata": {},
   "source": [
    "### <font color='yellow'>Risk Model building Using Neural Networks"
   ]
  },
  {
   "cell_type": "code",
   "execution_count": 69,
   "metadata": {},
   "outputs": [
    {
     "data": {
      "text/plain": [
       "(1668, 28)"
      ]
     },
     "execution_count": 69,
     "metadata": {},
     "output_type": "execute_result"
    }
   ],
   "source": [
    "X_train.shape"
   ]
  },
  {
   "cell_type": "code",
   "execution_count": 70,
   "metadata": {},
   "outputs": [
    {
     "name": "stdout",
     "output_type": "stream",
     "text": [
      "Epoch 1/25\n"
     ]
    },
    {
     "name": "stderr",
     "output_type": "stream",
     "text": [
      "2022-08-30 04:21:48.533797: I tensorflow/compiler/mlir/mlir_graph_optimization_pass.cc:116] None of the MLIR optimization passes are enabled (registered 2)\n",
      "2022-08-30 04:21:48.535810: W tensorflow/core/platform/profile_utils/cpu_utils.cc:126] Failed to get CPU frequency: 0 Hz\n"
     ]
    },
    {
     "name": "stdout",
     "output_type": "stream",
     "text": [
      "53/53 [==============================] - 0s 335us/step - loss: 1.0751 - accuracy: 0.3712\n",
      "Epoch 2/25\n",
      "53/53 [==============================] - 0s 327us/step - loss: 0.5527 - accuracy: 0.7439\n",
      "Epoch 3/25\n",
      "53/53 [==============================] - 0s 306us/step - loss: 0.3924 - accuracy: 0.8855\n",
      "Epoch 4/25\n",
      "53/53 [==============================] - 0s 308us/step - loss: 0.3504 - accuracy: 0.8932\n",
      "Epoch 5/25\n",
      "53/53 [==============================] - 0s 319us/step - loss: 0.3412 - accuracy: 0.8855\n",
      "Epoch 6/25\n",
      "53/53 [==============================] - 0s 300us/step - loss: 0.3196 - accuracy: 0.8971\n",
      "Epoch 7/25\n",
      "53/53 [==============================] - 0s 305us/step - loss: 0.2960 - accuracy: 0.8983\n",
      "Epoch 8/25\n",
      "53/53 [==============================] - 0s 300us/step - loss: 0.2747 - accuracy: 0.9121\n",
      "Epoch 9/25\n",
      "53/53 [==============================] - 0s 318us/step - loss: 0.2973 - accuracy: 0.8984\n",
      "Epoch 10/25\n",
      "53/53 [==============================] - 0s 860us/step - loss: 0.2722 - accuracy: 0.9094\n",
      "Epoch 11/25\n",
      "53/53 [==============================] - 0s 299us/step - loss: 0.3005 - accuracy: 0.8954\n",
      "Epoch 12/25\n",
      "53/53 [==============================] - 0s 309us/step - loss: 0.2753 - accuracy: 0.9108\n",
      "Epoch 13/25\n",
      "53/53 [==============================] - 0s 298us/step - loss: 0.2855 - accuracy: 0.9024\n",
      "Epoch 14/25\n",
      "53/53 [==============================] - 0s 302us/step - loss: 0.2723 - accuracy: 0.9054\n",
      "Epoch 15/25\n",
      "53/53 [==============================] - 0s 310us/step - loss: 0.2843 - accuracy: 0.8980\n",
      "Epoch 16/25\n",
      "53/53 [==============================] - 0s 315us/step - loss: 0.2898 - accuracy: 0.8919\n",
      "Epoch 17/25\n",
      "53/53 [==============================] - 0s 309us/step - loss: 0.2584 - accuracy: 0.9086\n",
      "Epoch 18/25\n",
      "53/53 [==============================] - 0s 295us/step - loss: 0.2806 - accuracy: 0.8919\n",
      "Epoch 19/25\n",
      "53/53 [==============================] - 0s 297us/step - loss: 0.2744 - accuracy: 0.8958\n",
      "Epoch 20/25\n",
      "53/53 [==============================] - 0s 314us/step - loss: 0.2691 - accuracy: 0.9011\n",
      "Epoch 21/25\n",
      "53/53 [==============================] - 0s 308us/step - loss: 0.2454 - accuracy: 0.9142\n",
      "Epoch 22/25\n",
      "53/53 [==============================] - 0s 300us/step - loss: 0.2781 - accuracy: 0.8996\n",
      "Epoch 23/25\n",
      "53/53 [==============================] - 0s 303us/step - loss: 0.2700 - accuracy: 0.8988\n",
      "Epoch 24/25\n",
      "53/53 [==============================] - 0s 305us/step - loss: 0.2845 - accuracy: 0.9001\n",
      "Epoch 25/25\n",
      "53/53 [==============================] - 0s 301us/step - loss: 0.2575 - accuracy: 0.9091\n"
     ]
    },
    {
     "data": {
      "text/plain": [
       "<tensorflow.python.keras.callbacks.History at 0x17ff9c070>"
      ]
     },
     "execution_count": 70,
     "metadata": {},
     "output_type": "execute_result"
    }
   ],
   "source": [
    "model = keras.Sequential([\n",
    "        keras.layers.Dense(15, activation='relu'),\n",
    "        keras.layers.Dense(2, activation='sigmoid')\n",
    "    ])\n",
    "model.compile(\n",
    "    optimizer='adam',\n",
    "    loss='sparse_categorical_crossentropy',\n",
    "    metrics=['accuracy']\n",
    ")\n",
    "model.fit(X_train,y_train,epochs=25)"
   ]
  },
  {
   "cell_type": "code",
   "execution_count": 71,
   "metadata": {},
   "outputs": [
    {
     "name": "stdout",
     "output_type": "stream",
     "text": [
      "0.9090909090909091\n"
     ]
    }
   ],
   "source": [
    "y_pred_NN = model.predict(X_test)\n",
    "ls = []\n",
    "for i in range(len(y_pred_NN)):\n",
    "    if y_pred_NN[i][0] < y_pred_NN[i][1]:\n",
    "        ls.append(1)\n",
    "    else:\n",
    "        ls.append(0)\n",
    "z = accuracy_score(y_test, ls)\n",
    "print(z)"
   ]
  },
  {
   "cell_type": "markdown",
   "metadata": {},
   "source": [
    "## <font color='lightgreen'> Model Building With Complete Data"
   ]
  },
  {
   "cell_type": "markdown",
   "metadata": {},
   "source": [
    "### <font color='lightgreen'>Train Test Split"
   ]
  },
  {
   "cell_type": "code",
   "execution_count": 72,
   "metadata": {},
   "outputs": [],
   "source": [
    "y_ol = df_ol.iloc[:, 0].values\n",
    "X_ol = df_ol.iloc[:, 1:29].values"
   ]
  },
  {
   "cell_type": "code",
   "execution_count": 73,
   "metadata": {},
   "outputs": [],
   "source": [
    "# splitting dataset into training and test (in ratio 80:20)\n",
    "\n",
    "X_train_ol, X_test_ol, y_train_ol, y_test_ol = train_test_split(X_ol, y_ol, test_size=0.2, random_state=0)"
   ]
  },
  {
   "cell_type": "code",
   "execution_count": 74,
   "metadata": {},
   "outputs": [],
   "source": [
    "sc = StandardScaler()\n",
    "X_train_ol = sc.fit_transform(X_train_ol)\n",
    "X_test_ol = sc.transform(X_test_ol)"
   ]
  },
  {
   "cell_type": "markdown",
   "metadata": {},
   "source": [
    "### <font color='yellow'>Risk Model building Using Logistic Regression"
   ]
  },
  {
   "cell_type": "code",
   "execution_count": 75,
   "metadata": {},
   "outputs": [],
   "source": [
    "classifier_ol =  LogisticRegression()\n",
    "classifier_ol.fit(X_train_ol, y_train_ol)\n",
    "y_pred_ol_LR = classifier_ol.predict(X_test_ol)"
   ]
  },
  {
   "cell_type": "markdown",
   "metadata": {},
   "source": [
    "#### <font color='yellow'>Model performance"
   ]
  },
  {
   "cell_type": "code",
   "execution_count": 76,
   "metadata": {},
   "outputs": [
    {
     "name": "stdout",
     "output_type": "stream",
     "text": [
      "[[484  14]\n",
      " [ 87  15]]\n"
     ]
    }
   ],
   "source": [
    "print(confusion_matrix(y_test_ol,y_pred_ol_LR))"
   ]
  },
  {
   "cell_type": "code",
   "execution_count": 77,
   "metadata": {},
   "outputs": [
    {
     "name": "stdout",
     "output_type": "stream",
     "text": [
      "0.8316666666666667\n"
     ]
    }
   ],
   "source": [
    "print(accuracy_score(y_test_ol, y_pred_ol_LR))"
   ]
  },
  {
   "cell_type": "markdown",
   "metadata": {},
   "source": [
    "### <font color='yellow'>Risk Model building Using k-NN"
   ]
  },
  {
   "cell_type": "code",
   "execution_count": 78,
   "metadata": {},
   "outputs": [
    {
     "data": {
      "text/html": [
       "<style>#sk-container-id-5 {color: black;background-color: white;}#sk-container-id-5 pre{padding: 0;}#sk-container-id-5 div.sk-toggleable {background-color: white;}#sk-container-id-5 label.sk-toggleable__label {cursor: pointer;display: block;width: 100%;margin-bottom: 0;padding: 0.3em;box-sizing: border-box;text-align: center;}#sk-container-id-5 label.sk-toggleable__label-arrow:before {content: \"▸\";float: left;margin-right: 0.25em;color: #696969;}#sk-container-id-5 label.sk-toggleable__label-arrow:hover:before {color: black;}#sk-container-id-5 div.sk-estimator:hover label.sk-toggleable__label-arrow:before {color: black;}#sk-container-id-5 div.sk-toggleable__content {max-height: 0;max-width: 0;overflow: hidden;text-align: left;background-color: #f0f8ff;}#sk-container-id-5 div.sk-toggleable__content pre {margin: 0.2em;color: black;border-radius: 0.25em;background-color: #f0f8ff;}#sk-container-id-5 input.sk-toggleable__control:checked~div.sk-toggleable__content {max-height: 200px;max-width: 100%;overflow: auto;}#sk-container-id-5 input.sk-toggleable__control:checked~label.sk-toggleable__label-arrow:before {content: \"▾\";}#sk-container-id-5 div.sk-estimator input.sk-toggleable__control:checked~label.sk-toggleable__label {background-color: #d4ebff;}#sk-container-id-5 div.sk-label input.sk-toggleable__control:checked~label.sk-toggleable__label {background-color: #d4ebff;}#sk-container-id-5 input.sk-hidden--visually {border: 0;clip: rect(1px 1px 1px 1px);clip: rect(1px, 1px, 1px, 1px);height: 1px;margin: -1px;overflow: hidden;padding: 0;position: absolute;width: 1px;}#sk-container-id-5 div.sk-estimator {font-family: monospace;background-color: #f0f8ff;border: 1px dotted black;border-radius: 0.25em;box-sizing: border-box;margin-bottom: 0.5em;}#sk-container-id-5 div.sk-estimator:hover {background-color: #d4ebff;}#sk-container-id-5 div.sk-parallel-item::after {content: \"\";width: 100%;border-bottom: 1px solid gray;flex-grow: 1;}#sk-container-id-5 div.sk-label:hover label.sk-toggleable__label {background-color: #d4ebff;}#sk-container-id-5 div.sk-serial::before {content: \"\";position: absolute;border-left: 1px solid gray;box-sizing: border-box;top: 0;bottom: 0;left: 50%;z-index: 0;}#sk-container-id-5 div.sk-serial {display: flex;flex-direction: column;align-items: center;background-color: white;padding-right: 0.2em;padding-left: 0.2em;position: relative;}#sk-container-id-5 div.sk-item {position: relative;z-index: 1;}#sk-container-id-5 div.sk-parallel {display: flex;align-items: stretch;justify-content: center;background-color: white;position: relative;}#sk-container-id-5 div.sk-item::before, #sk-container-id-5 div.sk-parallel-item::before {content: \"\";position: absolute;border-left: 1px solid gray;box-sizing: border-box;top: 0;bottom: 0;left: 50%;z-index: -1;}#sk-container-id-5 div.sk-parallel-item {display: flex;flex-direction: column;z-index: 1;position: relative;background-color: white;}#sk-container-id-5 div.sk-parallel-item:first-child::after {align-self: flex-end;width: 50%;}#sk-container-id-5 div.sk-parallel-item:last-child::after {align-self: flex-start;width: 50%;}#sk-container-id-5 div.sk-parallel-item:only-child::after {width: 0;}#sk-container-id-5 div.sk-dashed-wrapped {border: 1px dashed gray;margin: 0 0.4em 0.5em 0.4em;box-sizing: border-box;padding-bottom: 0.4em;background-color: white;}#sk-container-id-5 div.sk-label label {font-family: monospace;font-weight: bold;display: inline-block;line-height: 1.2em;}#sk-container-id-5 div.sk-label-container {text-align: center;}#sk-container-id-5 div.sk-container {/* jupyter's `normalize.less` sets `[hidden] { display: none; }` but bootstrap.min.css set `[hidden] { display: none !important; }` so we also need the `!important` here to be able to override the default hidden behavior on the sphinx rendered scikit-learn.org. See: https://github.com/scikit-learn/scikit-learn/issues/21755 */display: inline-block !important;position: relative;}#sk-container-id-5 div.sk-text-repr-fallback {display: none;}</style><div id=\"sk-container-id-5\" class=\"sk-top-container\"><div class=\"sk-text-repr-fallback\"><pre>KNeighborsClassifier(n_neighbors=3)</pre><b>In a Jupyter environment, please rerun this cell to show the HTML representation or trust the notebook. <br />On GitHub, the HTML representation is unable to render, please try loading this page with nbviewer.org.</b></div><div class=\"sk-container\" hidden><div class=\"sk-item\"><div class=\"sk-estimator sk-toggleable\"><input class=\"sk-toggleable__control sk-hidden--visually\" id=\"sk-estimator-id-5\" type=\"checkbox\" checked><label for=\"sk-estimator-id-5\" class=\"sk-toggleable__label sk-toggleable__label-arrow\">KNeighborsClassifier</label><div class=\"sk-toggleable__content\"><pre>KNeighborsClassifier(n_neighbors=3)</pre></div></div></div></div></div>"
      ],
      "text/plain": [
       "KNeighborsClassifier(n_neighbors=3)"
      ]
     },
     "execution_count": 78,
     "metadata": {},
     "output_type": "execute_result"
    }
   ],
   "source": [
    "knn_ol = KNeighborsClassifier(n_neighbors=3)\n",
    "knn_ol.fit(X_train_ol, y_train_ol)"
   ]
  },
  {
   "cell_type": "code",
   "execution_count": 79,
   "metadata": {},
   "outputs": [],
   "source": [
    "y_pred_ol_kNN = knn_ol.predict(X_test_ol)"
   ]
  },
  {
   "cell_type": "code",
   "execution_count": 80,
   "metadata": {},
   "outputs": [
    {
     "name": "stdout",
     "output_type": "stream",
     "text": [
      "[[469  29]\n",
      " [ 91  11]]\n"
     ]
    }
   ],
   "source": [
    "print(confusion_matrix(y_test_ol,y_pred_ol_kNN))"
   ]
  },
  {
   "cell_type": "code",
   "execution_count": 81,
   "metadata": {},
   "outputs": [
    {
     "name": "stdout",
     "output_type": "stream",
     "text": [
      "0.8\n"
     ]
    }
   ],
   "source": [
    "print(accuracy_score(y_test_ol, y_pred_ol_kNN))"
   ]
  },
  {
   "cell_type": "markdown",
   "metadata": {},
   "source": [
    "### <font color='yellow'>Risk Model building Using Decision Trees"
   ]
  },
  {
   "cell_type": "code",
   "execution_count": 82,
   "metadata": {},
   "outputs": [
    {
     "data": {
      "text/html": [
       "<style>#sk-container-id-6 {color: black;background-color: white;}#sk-container-id-6 pre{padding: 0;}#sk-container-id-6 div.sk-toggleable {background-color: white;}#sk-container-id-6 label.sk-toggleable__label {cursor: pointer;display: block;width: 100%;margin-bottom: 0;padding: 0.3em;box-sizing: border-box;text-align: center;}#sk-container-id-6 label.sk-toggleable__label-arrow:before {content: \"▸\";float: left;margin-right: 0.25em;color: #696969;}#sk-container-id-6 label.sk-toggleable__label-arrow:hover:before {color: black;}#sk-container-id-6 div.sk-estimator:hover label.sk-toggleable__label-arrow:before {color: black;}#sk-container-id-6 div.sk-toggleable__content {max-height: 0;max-width: 0;overflow: hidden;text-align: left;background-color: #f0f8ff;}#sk-container-id-6 div.sk-toggleable__content pre {margin: 0.2em;color: black;border-radius: 0.25em;background-color: #f0f8ff;}#sk-container-id-6 input.sk-toggleable__control:checked~div.sk-toggleable__content {max-height: 200px;max-width: 100%;overflow: auto;}#sk-container-id-6 input.sk-toggleable__control:checked~label.sk-toggleable__label-arrow:before {content: \"▾\";}#sk-container-id-6 div.sk-estimator input.sk-toggleable__control:checked~label.sk-toggleable__label {background-color: #d4ebff;}#sk-container-id-6 div.sk-label input.sk-toggleable__control:checked~label.sk-toggleable__label {background-color: #d4ebff;}#sk-container-id-6 input.sk-hidden--visually {border: 0;clip: rect(1px 1px 1px 1px);clip: rect(1px, 1px, 1px, 1px);height: 1px;margin: -1px;overflow: hidden;padding: 0;position: absolute;width: 1px;}#sk-container-id-6 div.sk-estimator {font-family: monospace;background-color: #f0f8ff;border: 1px dotted black;border-radius: 0.25em;box-sizing: border-box;margin-bottom: 0.5em;}#sk-container-id-6 div.sk-estimator:hover {background-color: #d4ebff;}#sk-container-id-6 div.sk-parallel-item::after {content: \"\";width: 100%;border-bottom: 1px solid gray;flex-grow: 1;}#sk-container-id-6 div.sk-label:hover label.sk-toggleable__label {background-color: #d4ebff;}#sk-container-id-6 div.sk-serial::before {content: \"\";position: absolute;border-left: 1px solid gray;box-sizing: border-box;top: 0;bottom: 0;left: 50%;z-index: 0;}#sk-container-id-6 div.sk-serial {display: flex;flex-direction: column;align-items: center;background-color: white;padding-right: 0.2em;padding-left: 0.2em;position: relative;}#sk-container-id-6 div.sk-item {position: relative;z-index: 1;}#sk-container-id-6 div.sk-parallel {display: flex;align-items: stretch;justify-content: center;background-color: white;position: relative;}#sk-container-id-6 div.sk-item::before, #sk-container-id-6 div.sk-parallel-item::before {content: \"\";position: absolute;border-left: 1px solid gray;box-sizing: border-box;top: 0;bottom: 0;left: 50%;z-index: -1;}#sk-container-id-6 div.sk-parallel-item {display: flex;flex-direction: column;z-index: 1;position: relative;background-color: white;}#sk-container-id-6 div.sk-parallel-item:first-child::after {align-self: flex-end;width: 50%;}#sk-container-id-6 div.sk-parallel-item:last-child::after {align-self: flex-start;width: 50%;}#sk-container-id-6 div.sk-parallel-item:only-child::after {width: 0;}#sk-container-id-6 div.sk-dashed-wrapped {border: 1px dashed gray;margin: 0 0.4em 0.5em 0.4em;box-sizing: border-box;padding-bottom: 0.4em;background-color: white;}#sk-container-id-6 div.sk-label label {font-family: monospace;font-weight: bold;display: inline-block;line-height: 1.2em;}#sk-container-id-6 div.sk-label-container {text-align: center;}#sk-container-id-6 div.sk-container {/* jupyter's `normalize.less` sets `[hidden] { display: none; }` but bootstrap.min.css set `[hidden] { display: none !important; }` so we also need the `!important` here to be able to override the default hidden behavior on the sphinx rendered scikit-learn.org. See: https://github.com/scikit-learn/scikit-learn/issues/21755 */display: inline-block !important;position: relative;}#sk-container-id-6 div.sk-text-repr-fallback {display: none;}</style><div id=\"sk-container-id-6\" class=\"sk-top-container\"><div class=\"sk-text-repr-fallback\"><pre>DecisionTreeClassifier(random_state=0)</pre><b>In a Jupyter environment, please rerun this cell to show the HTML representation or trust the notebook. <br />On GitHub, the HTML representation is unable to render, please try loading this page with nbviewer.org.</b></div><div class=\"sk-container\" hidden><div class=\"sk-item\"><div class=\"sk-estimator sk-toggleable\"><input class=\"sk-toggleable__control sk-hidden--visually\" id=\"sk-estimator-id-6\" type=\"checkbox\" checked><label for=\"sk-estimator-id-6\" class=\"sk-toggleable__label sk-toggleable__label-arrow\">DecisionTreeClassifier</label><div class=\"sk-toggleable__content\"><pre>DecisionTreeClassifier(random_state=0)</pre></div></div></div></div></div>"
      ],
      "text/plain": [
       "DecisionTreeClassifier(random_state=0)"
      ]
     },
     "execution_count": 82,
     "metadata": {},
     "output_type": "execute_result"
    }
   ],
   "source": [
    "\n",
    "clf_ol = DecisionTreeClassifier(random_state=0)\n",
    "clf_ol.fit(X_train_ol, y_train_ol)"
   ]
  },
  {
   "cell_type": "code",
   "execution_count": 83,
   "metadata": {},
   "outputs": [],
   "source": [
    "y_pred_ol_DT = clf.predict(X_test_ol)"
   ]
  },
  {
   "cell_type": "code",
   "execution_count": 84,
   "metadata": {},
   "outputs": [
    {
     "name": "stdout",
     "output_type": "stream",
     "text": [
      "|--- feature_26 <= -0.32\n",
      "|   |--- feature_19 <= 1.36\n",
      "|   |   |--- feature_21 <= 1.09\n",
      "|   |   |   |--- feature_19 <= 0.83\n",
      "|   |   |   |   |--- feature_5 <= 3.96\n",
      "|   |   |   |   |   |--- feature_25 <= 3.72\n",
      "|   |   |   |   |   |   |--- feature_13 <= -1.06\n",
      "|   |   |   |   |   |   |   |--- feature_13 <= -1.06\n",
      "|   |   |   |   |   |   |   |   |--- feature_5 <= -0.01\n",
      "|   |   |   |   |   |   |   |   |   |--- class: 0.0\n",
      "|   |   |   |   |   |   |   |   |--- feature_5 >  -0.01\n",
      "|   |   |   |   |   |   |   |   |   |--- feature_11 <= -1.19\n",
      "|   |   |   |   |   |   |   |   |   |   |--- class: 1.0\n",
      "|   |   |   |   |   |   |   |   |   |--- feature_11 >  -1.19\n",
      "|   |   |   |   |   |   |   |   |   |   |--- class: 0.0\n",
      "|   |   |   |   |   |   |   |--- feature_13 >  -1.06\n",
      "|   |   |   |   |   |   |   |   |--- class: 1.0\n",
      "|   |   |   |   |   |   |--- feature_13 >  -1.06\n",
      "|   |   |   |   |   |   |   |--- feature_17 <= 2.05\n",
      "|   |   |   |   |   |   |   |   |--- feature_21 <= -0.20\n",
      "|   |   |   |   |   |   |   |   |   |--- feature_6 <= -0.34\n",
      "|   |   |   |   |   |   |   |   |   |   |--- feature_5 <= 2.85\n",
      "|   |   |   |   |   |   |   |   |   |   |   |--- truncated branch of depth 12\n",
      "|   |   |   |   |   |   |   |   |   |   |--- feature_5 >  2.85\n",
      "|   |   |   |   |   |   |   |   |   |   |   |--- class: 1.0\n",
      "|   |   |   |   |   |   |   |   |   |--- feature_6 >  -0.34\n",
      "|   |   |   |   |   |   |   |   |   |   |--- feature_24 <= 1.35\n",
      "|   |   |   |   |   |   |   |   |   |   |   |--- truncated branch of depth 3\n",
      "|   |   |   |   |   |   |   |   |   |   |--- feature_24 >  1.35\n",
      "|   |   |   |   |   |   |   |   |   |   |   |--- truncated branch of depth 3\n",
      "|   |   |   |   |   |   |   |   |--- feature_21 >  -0.20\n",
      "|   |   |   |   |   |   |   |   |   |--- feature_0 <= 1.82\n",
      "|   |   |   |   |   |   |   |   |   |   |--- feature_20 <= 1.24\n",
      "|   |   |   |   |   |   |   |   |   |   |   |--- truncated branch of depth 6\n",
      "|   |   |   |   |   |   |   |   |   |   |--- feature_20 >  1.24\n",
      "|   |   |   |   |   |   |   |   |   |   |   |--- class: 1.0\n",
      "|   |   |   |   |   |   |   |   |   |--- feature_0 >  1.82\n",
      "|   |   |   |   |   |   |   |   |   |   |--- class: 1.0\n",
      "|   |   |   |   |   |   |   |--- feature_17 >  2.05\n",
      "|   |   |   |   |   |   |   |   |--- feature_20 <= 0.70\n",
      "|   |   |   |   |   |   |   |   |   |--- feature_19 <= 0.45\n",
      "|   |   |   |   |   |   |   |   |   |   |--- class: 0.0\n",
      "|   |   |   |   |   |   |   |   |   |--- feature_19 >  0.45\n",
      "|   |   |   |   |   |   |   |   |   |   |--- feature_12 <= 0.96\n",
      "|   |   |   |   |   |   |   |   |   |   |   |--- class: 0.0\n",
      "|   |   |   |   |   |   |   |   |   |   |--- feature_12 >  0.96\n",
      "|   |   |   |   |   |   |   |   |   |   |   |--- class: 1.0\n",
      "|   |   |   |   |   |   |   |   |--- feature_20 >  0.70\n",
      "|   |   |   |   |   |   |   |   |   |--- feature_23 <= -0.60\n",
      "|   |   |   |   |   |   |   |   |   |   |--- class: 0.0\n",
      "|   |   |   |   |   |   |   |   |   |--- feature_23 >  -0.60\n",
      "|   |   |   |   |   |   |   |   |   |   |--- feature_24 <= 0.31\n",
      "|   |   |   |   |   |   |   |   |   |   |   |--- class: 1.0\n",
      "|   |   |   |   |   |   |   |   |   |   |--- feature_24 >  0.31\n",
      "|   |   |   |   |   |   |   |   |   |   |   |--- class: 0.0\n",
      "|   |   |   |   |   |--- feature_25 >  3.72\n",
      "|   |   |   |   |   |   |--- class: 1.0\n",
      "|   |   |   |   |--- feature_5 >  3.96\n",
      "|   |   |   |   |   |--- feature_17 <= 0.16\n",
      "|   |   |   |   |   |   |--- class: 1.0\n",
      "|   |   |   |   |   |--- feature_17 >  0.16\n",
      "|   |   |   |   |   |   |--- class: 0.0\n",
      "|   |   |   |--- feature_19 >  0.83\n",
      "|   |   |   |   |--- feature_14 <= 1.57\n",
      "|   |   |   |   |   |--- feature_25 <= 0.05\n",
      "|   |   |   |   |   |   |--- feature_20 <= 1.03\n",
      "|   |   |   |   |   |   |   |--- feature_1 <= 1.42\n",
      "|   |   |   |   |   |   |   |   |--- feature_9 <= 1.38\n",
      "|   |   |   |   |   |   |   |   |   |--- feature_6 <= -0.85\n",
      "|   |   |   |   |   |   |   |   |   |   |--- feature_23 <= -0.30\n",
      "|   |   |   |   |   |   |   |   |   |   |   |--- class: 0.0\n",
      "|   |   |   |   |   |   |   |   |   |   |--- feature_23 >  -0.30\n",
      "|   |   |   |   |   |   |   |   |   |   |   |--- truncated branch of depth 2\n",
      "|   |   |   |   |   |   |   |   |   |--- feature_6 >  -0.85\n",
      "|   |   |   |   |   |   |   |   |   |   |--- class: 0.0\n",
      "|   |   |   |   |   |   |   |   |--- feature_9 >  1.38\n",
      "|   |   |   |   |   |   |   |   |   |--- feature_21 <= -0.20\n",
      "|   |   |   |   |   |   |   |   |   |   |--- feature_20 <= -0.14\n",
      "|   |   |   |   |   |   |   |   |   |   |   |--- truncated branch of depth 2\n",
      "|   |   |   |   |   |   |   |   |   |   |--- feature_20 >  -0.14\n",
      "|   |   |   |   |   |   |   |   |   |   |   |--- class: 0.0\n",
      "|   |   |   |   |   |   |   |   |   |--- feature_21 >  -0.20\n",
      "|   |   |   |   |   |   |   |   |   |   |--- class: 1.0\n",
      "|   |   |   |   |   |   |   |--- feature_1 >  1.42\n",
      "|   |   |   |   |   |   |   |   |--- feature_11 <= -1.19\n",
      "|   |   |   |   |   |   |   |   |   |--- class: 1.0\n",
      "|   |   |   |   |   |   |   |   |--- feature_11 >  -1.19\n",
      "|   |   |   |   |   |   |   |   |   |--- class: 0.0\n",
      "|   |   |   |   |   |   |--- feature_20 >  1.03\n",
      "|   |   |   |   |   |   |   |--- feature_5 <= -0.01\n",
      "|   |   |   |   |   |   |   |   |--- feature_23 <= -0.60\n",
      "|   |   |   |   |   |   |   |   |   |--- class: 0.0\n",
      "|   |   |   |   |   |   |   |   |--- feature_23 >  -0.60\n",
      "|   |   |   |   |   |   |   |   |   |--- class: 1.0\n",
      "|   |   |   |   |   |   |   |--- feature_5 >  -0.01\n",
      "|   |   |   |   |   |   |   |   |--- feature_5 <= 0.43\n",
      "|   |   |   |   |   |   |   |   |   |--- class: 1.0\n",
      "|   |   |   |   |   |   |   |   |--- feature_5 >  0.43\n",
      "|   |   |   |   |   |   |   |   |   |--- feature_19 <= 0.98\n",
      "|   |   |   |   |   |   |   |   |   |   |--- class: 0.0\n",
      "|   |   |   |   |   |   |   |   |   |--- feature_19 >  0.98\n",
      "|   |   |   |   |   |   |   |   |   |   |--- feature_17 <= -0.22\n",
      "|   |   |   |   |   |   |   |   |   |   |   |--- class: 0.0\n",
      "|   |   |   |   |   |   |   |   |   |   |--- feature_17 >  -0.22\n",
      "|   |   |   |   |   |   |   |   |   |   |   |--- class: 1.0\n",
      "|   |   |   |   |   |--- feature_25 >  0.05\n",
      "|   |   |   |   |   |   |--- feature_14 <= -0.40\n",
      "|   |   |   |   |   |   |   |--- feature_12 <= 0.29\n",
      "|   |   |   |   |   |   |   |   |--- feature_11 <= -0.64\n",
      "|   |   |   |   |   |   |   |   |   |--- class: 0.0\n",
      "|   |   |   |   |   |   |   |   |--- feature_11 >  -0.64\n",
      "|   |   |   |   |   |   |   |   |   |--- feature_9 <= 0.34\n",
      "|   |   |   |   |   |   |   |   |   |   |--- class: 1.0\n",
      "|   |   |   |   |   |   |   |   |   |--- feature_9 >  0.34\n",
      "|   |   |   |   |   |   |   |   |   |   |--- class: 0.0\n",
      "|   |   |   |   |   |   |   |--- feature_12 >  0.29\n",
      "|   |   |   |   |   |   |   |   |--- feature_7 <= -0.44\n",
      "|   |   |   |   |   |   |   |   |   |--- class: 0.0\n",
      "|   |   |   |   |   |   |   |   |--- feature_7 >  -0.44\n",
      "|   |   |   |   |   |   |   |   |   |--- class: 1.0\n",
      "|   |   |   |   |   |   |--- feature_14 >  -0.40\n",
      "|   |   |   |   |   |   |   |--- feature_3 <= 0.69\n",
      "|   |   |   |   |   |   |   |   |--- feature_24 <= 0.27\n",
      "|   |   |   |   |   |   |   |   |   |--- class: 0.0\n",
      "|   |   |   |   |   |   |   |   |--- feature_24 >  0.27\n",
      "|   |   |   |   |   |   |   |   |   |--- class: 1.0\n",
      "|   |   |   |   |   |   |   |--- feature_3 >  0.69\n",
      "|   |   |   |   |   |   |   |   |--- class: 1.0\n",
      "|   |   |   |   |--- feature_14 >  1.57\n",
      "|   |   |   |   |   |--- feature_4 <= -0.56\n",
      "|   |   |   |   |   |   |--- class: 1.0\n",
      "|   |   |   |   |   |--- feature_4 >  -0.56\n",
      "|   |   |   |   |   |   |--- feature_14 <= 1.79\n",
      "|   |   |   |   |   |   |   |--- class: 0.0\n",
      "|   |   |   |   |   |   |--- feature_14 >  1.79\n",
      "|   |   |   |   |   |   |   |--- class: 1.0\n",
      "|   |   |--- feature_21 >  1.09\n",
      "|   |   |   |--- feature_6 <= -0.39\n",
      "|   |   |   |   |--- feature_18 <= 0.15\n",
      "|   |   |   |   |   |--- feature_4 <= -0.56\n",
      "|   |   |   |   |   |   |--- class: 1.0\n",
      "|   |   |   |   |   |--- feature_4 >  -0.56\n",
      "|   |   |   |   |   |   |--- feature_12 <= -0.69\n",
      "|   |   |   |   |   |   |   |--- feature_11 <= -0.36\n",
      "|   |   |   |   |   |   |   |   |--- class: 0.0\n",
      "|   |   |   |   |   |   |   |--- feature_11 >  -0.36\n",
      "|   |   |   |   |   |   |   |   |--- class: 1.0\n",
      "|   |   |   |   |   |   |--- feature_12 >  -0.69\n",
      "|   |   |   |   |   |   |   |--- class: 0.0\n",
      "|   |   |   |   |--- feature_18 >  0.15\n",
      "|   |   |   |   |   |--- feature_19 <= 0.24\n",
      "|   |   |   |   |   |   |--- class: 1.0\n",
      "|   |   |   |   |   |--- feature_19 >  0.24\n",
      "|   |   |   |   |   |   |--- feature_24 <= 0.19\n",
      "|   |   |   |   |   |   |   |--- class: 0.0\n",
      "|   |   |   |   |   |   |--- feature_24 >  0.19\n",
      "|   |   |   |   |   |   |   |--- feature_7 <= -0.20\n",
      "|   |   |   |   |   |   |   |   |--- class: 1.0\n",
      "|   |   |   |   |   |   |   |--- feature_7 >  -0.20\n",
      "|   |   |   |   |   |   |   |   |--- class: 0.0\n",
      "|   |   |   |--- feature_6 >  -0.39\n",
      "|   |   |   |   |--- feature_7 <= 1.09\n",
      "|   |   |   |   |   |--- feature_11 <= 3.22\n",
      "|   |   |   |   |   |   |--- feature_3 <= 2.16\n",
      "|   |   |   |   |   |   |   |--- feature_12 <= -0.60\n",
      "|   |   |   |   |   |   |   |   |--- feature_3 <= -0.18\n",
      "|   |   |   |   |   |   |   |   |   |--- class: 0.0\n",
      "|   |   |   |   |   |   |   |   |--- feature_3 >  -0.18\n",
      "|   |   |   |   |   |   |   |   |   |--- class: 1.0\n",
      "|   |   |   |   |   |   |   |--- feature_12 >  -0.60\n",
      "|   |   |   |   |   |   |   |   |--- feature_6 <= -0.22\n",
      "|   |   |   |   |   |   |   |   |   |--- feature_20 <= 0.14\n",
      "|   |   |   |   |   |   |   |   |   |   |--- class: 0.0\n",
      "|   |   |   |   |   |   |   |   |   |--- feature_20 >  0.14\n",
      "|   |   |   |   |   |   |   |   |   |   |--- class: 1.0\n",
      "|   |   |   |   |   |   |   |   |--- feature_6 >  -0.22\n",
      "|   |   |   |   |   |   |   |   |   |--- class: 0.0\n",
      "|   |   |   |   |   |   |--- feature_3 >  2.16\n",
      "|   |   |   |   |   |   |   |--- class: 1.0\n",
      "|   |   |   |   |   |--- feature_11 >  3.22\n",
      "|   |   |   |   |   |   |--- class: 1.0\n",
      "|   |   |   |   |--- feature_7 >  1.09\n",
      "|   |   |   |   |   |--- feature_11 <= 0.00\n",
      "|   |   |   |   |   |   |--- class: 0.0\n",
      "|   |   |   |   |   |--- feature_11 >  0.00\n",
      "|   |   |   |   |   |   |--- class: 1.0\n",
      "|   |--- feature_19 >  1.36\n",
      "|   |   |--- feature_9 <= -0.17\n",
      "|   |   |   |--- class: 0.0\n",
      "|   |   |--- feature_9 >  -0.17\n",
      "|   |   |   |--- feature_15 <= 1.41\n",
      "|   |   |   |   |--- class: 1.0\n",
      "|   |   |   |--- feature_15 >  1.41\n",
      "|   |   |   |   |--- class: 0.0\n",
      "|--- feature_26 >  -0.32\n",
      "|   |--- feature_20 <= -1.26\n",
      "|   |   |--- feature_12 <= -0.89\n",
      "|   |   |   |--- feature_27 <= 0.21\n",
      "|   |   |   |   |--- feature_19 <= 2.12\n",
      "|   |   |   |   |   |--- feature_13 <= -1.07\n",
      "|   |   |   |   |   |   |--- feature_25 <= 0.91\n",
      "|   |   |   |   |   |   |   |--- feature_24 <= -0.93\n",
      "|   |   |   |   |   |   |   |   |--- class: 0.0\n",
      "|   |   |   |   |   |   |   |--- feature_24 >  -0.93\n",
      "|   |   |   |   |   |   |   |   |--- feature_15 <= -0.01\n",
      "|   |   |   |   |   |   |   |   |   |--- class: 0.0\n",
      "|   |   |   |   |   |   |   |   |--- feature_15 >  -0.01\n",
      "|   |   |   |   |   |   |   |   |   |--- class: 1.0\n",
      "|   |   |   |   |   |   |--- feature_25 >  0.91\n",
      "|   |   |   |   |   |   |   |--- class: 1.0\n",
      "|   |   |   |   |   |--- feature_13 >  -1.07\n",
      "|   |   |   |   |   |   |--- feature_24 <= 0.16\n",
      "|   |   |   |   |   |   |   |--- class: 0.0\n",
      "|   |   |   |   |   |   |--- feature_24 >  0.16\n",
      "|   |   |   |   |   |   |   |--- feature_12 <= -0.98\n",
      "|   |   |   |   |   |   |   |   |--- class: 1.0\n",
      "|   |   |   |   |   |   |   |--- feature_12 >  -0.98\n",
      "|   |   |   |   |   |   |   |   |--- class: 0.0\n",
      "|   |   |   |   |--- feature_19 >  2.12\n",
      "|   |   |   |   |   |--- class: 1.0\n",
      "|   |   |   |--- feature_27 >  0.21\n",
      "|   |   |   |   |--- feature_7 <= -0.62\n",
      "|   |   |   |   |   |--- class: 0.0\n",
      "|   |   |   |   |--- feature_7 >  -0.62\n",
      "|   |   |   |   |   |--- feature_13 <= -1.03\n",
      "|   |   |   |   |   |   |--- class: 1.0\n",
      "|   |   |   |   |   |--- feature_13 >  -1.03\n",
      "|   |   |   |   |   |   |--- feature_21 <= 1.51\n",
      "|   |   |   |   |   |   |   |--- feature_14 <= -1.35\n",
      "|   |   |   |   |   |   |   |   |--- class: 1.0\n",
      "|   |   |   |   |   |   |   |--- feature_14 >  -1.35\n",
      "|   |   |   |   |   |   |   |   |--- class: 0.0\n",
      "|   |   |   |   |   |   |--- feature_21 >  1.51\n",
      "|   |   |   |   |   |   |   |--- class: 1.0\n",
      "|   |   |--- feature_12 >  -0.89\n",
      "|   |   |   |--- feature_25 <= 2.64\n",
      "|   |   |   |   |--- feature_6 <= -0.47\n",
      "|   |   |   |   |   |--- feature_13 <= -0.12\n",
      "|   |   |   |   |   |   |--- feature_6 <= -0.87\n",
      "|   |   |   |   |   |   |   |--- feature_17 <= -1.11\n",
      "|   |   |   |   |   |   |   |   |--- class: 0.0\n",
      "|   |   |   |   |   |   |   |--- feature_17 >  -1.11\n",
      "|   |   |   |   |   |   |   |   |--- class: 1.0\n",
      "|   |   |   |   |   |   |--- feature_6 >  -0.87\n",
      "|   |   |   |   |   |   |   |--- feature_24 <= -0.55\n",
      "|   |   |   |   |   |   |   |   |--- feature_21 <= -0.20\n",
      "|   |   |   |   |   |   |   |   |   |--- feature_4 <= 1.14\n",
      "|   |   |   |   |   |   |   |   |   |   |--- class: 0.0\n",
      "|   |   |   |   |   |   |   |   |   |--- feature_4 >  1.14\n",
      "|   |   |   |   |   |   |   |   |   |   |--- class: 1.0\n",
      "|   |   |   |   |   |   |   |   |--- feature_21 >  -0.20\n",
      "|   |   |   |   |   |   |   |   |   |--- feature_15 <= 3.02\n",
      "|   |   |   |   |   |   |   |   |   |   |--- class: 1.0\n",
      "|   |   |   |   |   |   |   |   |   |--- feature_15 >  3.02\n",
      "|   |   |   |   |   |   |   |   |   |   |--- feature_10 <= 0.47\n",
      "|   |   |   |   |   |   |   |   |   |   |   |--- class: 0.0\n",
      "|   |   |   |   |   |   |   |   |   |   |--- feature_10 >  0.47\n",
      "|   |   |   |   |   |   |   |   |   |   |   |--- class: 1.0\n",
      "|   |   |   |   |   |   |   |--- feature_24 >  -0.55\n",
      "|   |   |   |   |   |   |   |   |--- feature_22 <= 2.26\n",
      "|   |   |   |   |   |   |   |   |   |--- class: 0.0\n",
      "|   |   |   |   |   |   |   |   |--- feature_22 >  2.26\n",
      "|   |   |   |   |   |   |   |   |   |--- class: 1.0\n",
      "|   |   |   |   |   |--- feature_13 >  -0.12\n",
      "|   |   |   |   |   |   |--- class: 1.0\n",
      "|   |   |   |   |--- feature_6 >  -0.47\n",
      "|   |   |   |   |   |--- feature_19 <= 1.81\n",
      "|   |   |   |   |   |   |--- feature_3 <= -0.18\n",
      "|   |   |   |   |   |   |   |--- feature_14 <= -0.90\n",
      "|   |   |   |   |   |   |   |   |--- feature_7 <= 0.46\n",
      "|   |   |   |   |   |   |   |   |   |--- feature_13 <= -0.04\n",
      "|   |   |   |   |   |   |   |   |   |   |--- feature_12 <= -0.84\n",
      "|   |   |   |   |   |   |   |   |   |   |   |--- class: 1.0\n",
      "|   |   |   |   |   |   |   |   |   |   |--- feature_12 >  -0.84\n",
      "|   |   |   |   |   |   |   |   |   |   |   |--- class: 0.0\n",
      "|   |   |   |   |   |   |   |   |   |--- feature_13 >  -0.04\n",
      "|   |   |   |   |   |   |   |   |   |   |--- class: 1.0\n",
      "|   |   |   |   |   |   |   |   |--- feature_7 >  0.46\n",
      "|   |   |   |   |   |   |   |   |   |--- feature_18 <= -0.81\n",
      "|   |   |   |   |   |   |   |   |   |   |--- feature_13 <= -0.88\n",
      "|   |   |   |   |   |   |   |   |   |   |   |--- class: 1.0\n",
      "|   |   |   |   |   |   |   |   |   |   |--- feature_13 >  -0.88\n",
      "|   |   |   |   |   |   |   |   |   |   |   |--- class: 0.0\n",
      "|   |   |   |   |   |   |   |   |   |--- feature_18 >  -0.81\n",
      "|   |   |   |   |   |   |   |   |   |   |--- class: 1.0\n",
      "|   |   |   |   |   |   |   |--- feature_14 >  -0.90\n",
      "|   |   |   |   |   |   |   |   |--- feature_18 <= 0.79\n",
      "|   |   |   |   |   |   |   |   |   |--- feature_20 <= -1.32\n",
      "|   |   |   |   |   |   |   |   |   |   |--- class: 0.0\n",
      "|   |   |   |   |   |   |   |   |   |--- feature_20 >  -1.32\n",
      "|   |   |   |   |   |   |   |   |   |   |--- feature_11 <= -0.46\n",
      "|   |   |   |   |   |   |   |   |   |   |   |--- class: 1.0\n",
      "|   |   |   |   |   |   |   |   |   |   |--- feature_11 >  -0.46\n",
      "|   |   |   |   |   |   |   |   |   |   |   |--- class: 0.0\n",
      "|   |   |   |   |   |   |   |   |--- feature_18 >  0.79\n",
      "|   |   |   |   |   |   |   |   |   |--- class: 1.0\n",
      "|   |   |   |   |   |   |--- feature_3 >  -0.18\n",
      "|   |   |   |   |   |   |   |--- feature_13 <= -0.84\n",
      "|   |   |   |   |   |   |   |   |--- class: 0.0\n",
      "|   |   |   |   |   |   |   |--- feature_13 >  -0.84\n",
      "|   |   |   |   |   |   |   |   |--- feature_12 <= 0.65\n",
      "|   |   |   |   |   |   |   |   |   |--- feature_15 <= -0.37\n",
      "|   |   |   |   |   |   |   |   |   |   |--- class: 0.0\n",
      "|   |   |   |   |   |   |   |   |   |--- feature_15 >  -0.37\n",
      "|   |   |   |   |   |   |   |   |   |   |--- feature_14 <= 0.11\n",
      "|   |   |   |   |   |   |   |   |   |   |   |--- truncated branch of depth 2\n",
      "|   |   |   |   |   |   |   |   |   |   |--- feature_14 >  0.11\n",
      "|   |   |   |   |   |   |   |   |   |   |   |--- truncated branch of depth 2\n",
      "|   |   |   |   |   |   |   |   |--- feature_12 >  0.65\n",
      "|   |   |   |   |   |   |   |   |   |--- feature_0 <= -0.34\n",
      "|   |   |   |   |   |   |   |   |   |   |--- feature_17 <= 0.16\n",
      "|   |   |   |   |   |   |   |   |   |   |   |--- class: 0.0\n",
      "|   |   |   |   |   |   |   |   |   |   |--- feature_17 >  0.16\n",
      "|   |   |   |   |   |   |   |   |   |   |   |--- class: 1.0\n",
      "|   |   |   |   |   |   |   |   |   |--- feature_0 >  -0.34\n",
      "|   |   |   |   |   |   |   |   |   |   |--- class: 0.0\n",
      "|   |   |   |   |   |--- feature_19 >  1.81\n",
      "|   |   |   |   |   |   |--- class: 1.0\n",
      "|   |   |   |--- feature_25 >  2.64\n",
      "|   |   |   |   |--- feature_24 <= 0.37\n",
      "|   |   |   |   |   |--- feature_22 <= 1.65\n",
      "|   |   |   |   |   |   |--- feature_1 <= 6.66\n",
      "|   |   |   |   |   |   |   |--- class: 0.0\n",
      "|   |   |   |   |   |   |--- feature_1 >  6.66\n",
      "|   |   |   |   |   |   |   |--- class: 1.0\n",
      "|   |   |   |   |   |--- feature_22 >  1.65\n",
      "|   |   |   |   |   |   |--- class: 1.0\n",
      "|   |   |   |   |--- feature_24 >  0.37\n",
      "|   |   |   |   |   |--- feature_22 <= 1.34\n",
      "|   |   |   |   |   |   |--- class: 1.0\n",
      "|   |   |   |   |   |--- feature_22 >  1.34\n",
      "|   |   |   |   |   |   |--- class: 0.0\n",
      "|   |--- feature_20 >  -1.26\n",
      "|   |   |--- feature_18 <= 0.15\n",
      "|   |   |   |--- feature_6 <= -0.18\n",
      "|   |   |   |   |--- feature_20 <= -1.11\n",
      "|   |   |   |   |   |--- feature_18 <= -0.49\n",
      "|   |   |   |   |   |   |--- feature_19 <= 1.13\n",
      "|   |   |   |   |   |   |   |--- feature_19 <= -1.14\n",
      "|   |   |   |   |   |   |   |   |--- feature_13 <= -1.05\n",
      "|   |   |   |   |   |   |   |   |   |--- class: 0.0\n",
      "|   |   |   |   |   |   |   |   |--- feature_13 >  -1.05\n",
      "|   |   |   |   |   |   |   |   |   |--- class: 1.0\n",
      "|   |   |   |   |   |   |   |--- feature_19 >  -1.14\n",
      "|   |   |   |   |   |   |   |   |--- class: 0.0\n",
      "|   |   |   |   |   |   |--- feature_19 >  1.13\n",
      "|   |   |   |   |   |   |   |--- class: 1.0\n",
      "|   |   |   |   |   |--- feature_18 >  -0.49\n",
      "|   |   |   |   |   |   |--- feature_5 <= 1.53\n",
      "|   |   |   |   |   |   |   |--- class: 1.0\n",
      "|   |   |   |   |   |   |--- feature_5 >  1.53\n",
      "|   |   |   |   |   |   |   |--- class: 0.0\n",
      "|   |   |   |   |--- feature_20 >  -1.11\n",
      "|   |   |   |   |   |--- feature_5 <= 3.52\n",
      "|   |   |   |   |   |   |--- feature_6 <= -1.61\n",
      "|   |   |   |   |   |   |   |--- class: 1.0\n",
      "|   |   |   |   |   |   |--- feature_6 >  -1.61\n",
      "|   |   |   |   |   |   |   |--- feature_19 <= -0.72\n",
      "|   |   |   |   |   |   |   |   |--- feature_0 <= 6.15\n",
      "|   |   |   |   |   |   |   |   |   |--- feature_7 <= 1.36\n",
      "|   |   |   |   |   |   |   |   |   |   |--- class: 0.0\n",
      "|   |   |   |   |   |   |   |   |   |--- feature_7 >  1.36\n",
      "|   |   |   |   |   |   |   |   |   |   |--- feature_7 <= 1.66\n",
      "|   |   |   |   |   |   |   |   |   |   |   |--- class: 1.0\n",
      "|   |   |   |   |   |   |   |   |   |   |--- feature_7 >  1.66\n",
      "|   |   |   |   |   |   |   |   |   |   |   |--- class: 0.0\n",
      "|   |   |   |   |   |   |   |   |--- feature_0 >  6.15\n",
      "|   |   |   |   |   |   |   |   |   |--- class: 1.0\n",
      "|   |   |   |   |   |   |   |--- feature_19 >  -0.72\n",
      "|   |   |   |   |   |   |   |   |--- feature_19 <= -0.68\n",
      "|   |   |   |   |   |   |   |   |   |--- class: 1.0\n",
      "|   |   |   |   |   |   |   |   |--- feature_19 >  -0.68\n",
      "|   |   |   |   |   |   |   |   |   |--- feature_25 <= 3.93\n",
      "|   |   |   |   |   |   |   |   |   |   |--- feature_6 <= -0.80\n",
      "|   |   |   |   |   |   |   |   |   |   |   |--- truncated branch of depth 4\n",
      "|   |   |   |   |   |   |   |   |   |   |--- feature_6 >  -0.80\n",
      "|   |   |   |   |   |   |   |   |   |   |   |--- truncated branch of depth 8\n",
      "|   |   |   |   |   |   |   |   |   |--- feature_25 >  3.93\n",
      "|   |   |   |   |   |   |   |   |   |   |--- feature_19 <= 0.50\n",
      "|   |   |   |   |   |   |   |   |   |   |   |--- class: 0.0\n",
      "|   |   |   |   |   |   |   |   |   |   |--- feature_19 >  0.50\n",
      "|   |   |   |   |   |   |   |   |   |   |   |--- class: 1.0\n",
      "|   |   |   |   |   |--- feature_5 >  3.52\n",
      "|   |   |   |   |   |   |--- feature_11 <= -0.27\n",
      "|   |   |   |   |   |   |   |--- class: 1.0\n",
      "|   |   |   |   |   |   |--- feature_11 >  -0.27\n",
      "|   |   |   |   |   |   |   |--- feature_10 <= 0.77\n",
      "|   |   |   |   |   |   |   |   |--- class: 1.0\n",
      "|   |   |   |   |   |   |   |--- feature_10 >  0.77\n",
      "|   |   |   |   |   |   |   |   |--- class: 0.0\n",
      "|   |   |   |--- feature_6 >  -0.18\n",
      "|   |   |   |   |--- feature_7 <= 4.93\n",
      "|   |   |   |   |   |--- feature_5 <= 3.74\n",
      "|   |   |   |   |   |   |--- feature_26 <= 5.79\n",
      "|   |   |   |   |   |   |   |--- feature_8 <= 2.11\n",
      "|   |   |   |   |   |   |   |   |--- feature_21 <= 0.66\n",
      "|   |   |   |   |   |   |   |   |   |--- feature_0 <= 2.41\n",
      "|   |   |   |   |   |   |   |   |   |   |--- feature_9 <= 0.34\n",
      "|   |   |   |   |   |   |   |   |   |   |   |--- truncated branch of depth 3\n",
      "|   |   |   |   |   |   |   |   |   |   |--- feature_9 >  0.34\n",
      "|   |   |   |   |   |   |   |   |   |   |   |--- truncated branch of depth 3\n",
      "|   |   |   |   |   |   |   |   |   |--- feature_0 >  2.41\n",
      "|   |   |   |   |   |   |   |   |   |   |--- feature_24 <= -0.12\n",
      "|   |   |   |   |   |   |   |   |   |   |   |--- class: 0.0\n",
      "|   |   |   |   |   |   |   |   |   |   |--- feature_24 >  -0.12\n",
      "|   |   |   |   |   |   |   |   |   |   |   |--- class: 1.0\n",
      "|   |   |   |   |   |   |   |   |--- feature_21 >  0.66\n",
      "|   |   |   |   |   |   |   |   |   |--- feature_19 <= 1.24\n",
      "|   |   |   |   |   |   |   |   |   |   |--- feature_5 <= 1.42\n",
      "|   |   |   |   |   |   |   |   |   |   |   |--- truncated branch of depth 5\n",
      "|   |   |   |   |   |   |   |   |   |   |--- feature_5 >  1.42\n",
      "|   |   |   |   |   |   |   |   |   |   |   |--- truncated branch of depth 2\n",
      "|   |   |   |   |   |   |   |   |   |--- feature_19 >  1.24\n",
      "|   |   |   |   |   |   |   |   |   |   |--- feature_27 <= 3.35\n",
      "|   |   |   |   |   |   |   |   |   |   |   |--- class: 1.0\n",
      "|   |   |   |   |   |   |   |   |   |   |--- feature_27 >  3.35\n",
      "|   |   |   |   |   |   |   |   |   |   |   |--- class: 0.0\n",
      "|   |   |   |   |   |   |   |--- feature_8 >  2.11\n",
      "|   |   |   |   |   |   |   |   |--- class: 1.0\n",
      "|   |   |   |   |   |   |--- feature_26 >  5.79\n",
      "|   |   |   |   |   |   |   |--- class: 1.0\n",
      "|   |   |   |   |   |--- feature_5 >  3.74\n",
      "|   |   |   |   |   |   |--- class: 1.0\n",
      "|   |   |   |   |--- feature_7 >  4.93\n",
      "|   |   |   |   |   |--- feature_7 <= 9.74\n",
      "|   |   |   |   |   |   |--- class: 1.0\n",
      "|   |   |   |   |   |--- feature_7 >  9.74\n",
      "|   |   |   |   |   |   |--- class: 0.0\n",
      "|   |   |--- feature_18 >  0.15\n",
      "|   |   |   |--- feature_20 <= -0.19\n",
      "|   |   |   |   |--- feature_15 <= 1.77\n",
      "|   |   |   |   |   |--- feature_15 <= 0.34\n",
      "|   |   |   |   |   |   |--- feature_12 <= -0.47\n",
      "|   |   |   |   |   |   |   |--- class: 0.0\n",
      "|   |   |   |   |   |   |--- feature_12 >  -0.47\n",
      "|   |   |   |   |   |   |   |--- feature_27 <= 0.09\n",
      "|   |   |   |   |   |   |   |   |--- feature_12 <= 2.54\n",
      "|   |   |   |   |   |   |   |   |   |--- feature_3 <= 0.40\n",
      "|   |   |   |   |   |   |   |   |   |   |--- feature_6 <= -0.21\n",
      "|   |   |   |   |   |   |   |   |   |   |   |--- truncated branch of depth 3\n",
      "|   |   |   |   |   |   |   |   |   |   |--- feature_6 >  -0.21\n",
      "|   |   |   |   |   |   |   |   |   |   |   |--- truncated branch of depth 4\n",
      "|   |   |   |   |   |   |   |   |   |--- feature_3 >  0.40\n",
      "|   |   |   |   |   |   |   |   |   |   |--- feature_18 <= 1.11\n",
      "|   |   |   |   |   |   |   |   |   |   |   |--- truncated branch of depth 2\n",
      "|   |   |   |   |   |   |   |   |   |   |--- feature_18 >  1.11\n",
      "|   |   |   |   |   |   |   |   |   |   |   |--- class: 0.0\n",
      "|   |   |   |   |   |   |   |   |--- feature_12 >  2.54\n",
      "|   |   |   |   |   |   |   |   |   |--- class: 1.0\n",
      "|   |   |   |   |   |   |   |--- feature_27 >  0.09\n",
      "|   |   |   |   |   |   |   |   |--- feature_14 <= 0.56\n",
      "|   |   |   |   |   |   |   |   |   |--- class: 1.0\n",
      "|   |   |   |   |   |   |   |   |--- feature_14 >  0.56\n",
      "|   |   |   |   |   |   |   |   |   |--- feature_20 <= -0.34\n",
      "|   |   |   |   |   |   |   |   |   |   |--- feature_27 <= 0.31\n",
      "|   |   |   |   |   |   |   |   |   |   |   |--- class: 1.0\n",
      "|   |   |   |   |   |   |   |   |   |   |--- feature_27 >  0.31\n",
      "|   |   |   |   |   |   |   |   |   |   |   |--- class: 0.0\n",
      "|   |   |   |   |   |   |   |   |   |--- feature_20 >  -0.34\n",
      "|   |   |   |   |   |   |   |   |   |   |--- class: 1.0\n",
      "|   |   |   |   |   |--- feature_15 >  0.34\n",
      "|   |   |   |   |   |   |--- feature_25 <= 1.35\n",
      "|   |   |   |   |   |   |   |--- feature_4 <= 1.03\n",
      "|   |   |   |   |   |   |   |   |--- feature_3 <= 1.72\n",
      "|   |   |   |   |   |   |   |   |   |--- class: 1.0\n",
      "|   |   |   |   |   |   |   |   |--- feature_3 >  1.72\n",
      "|   |   |   |   |   |   |   |   |   |--- class: 0.0\n",
      "|   |   |   |   |   |   |   |--- feature_4 >  1.03\n",
      "|   |   |   |   |   |   |   |   |--- class: 0.0\n",
      "|   |   |   |   |   |   |--- feature_25 >  1.35\n",
      "|   |   |   |   |   |   |   |--- feature_12 <= 0.19\n",
      "|   |   |   |   |   |   |   |   |--- class: 0.0\n",
      "|   |   |   |   |   |   |   |--- feature_12 >  0.19\n",
      "|   |   |   |   |   |   |   |   |--- feature_26 <= 3.84\n",
      "|   |   |   |   |   |   |   |   |   |--- class: 1.0\n",
      "|   |   |   |   |   |   |   |   |--- feature_26 >  3.84\n",
      "|   |   |   |   |   |   |   |   |   |--- class: 0.0\n",
      "|   |   |   |   |--- feature_15 >  1.77\n",
      "|   |   |   |   |   |--- feature_10 <= 1.06\n",
      "|   |   |   |   |   |   |--- feature_13 <= -0.68\n",
      "|   |   |   |   |   |   |   |--- class: 1.0\n",
      "|   |   |   |   |   |   |--- feature_13 >  -0.68\n",
      "|   |   |   |   |   |   |   |--- feature_7 <= 0.37\n",
      "|   |   |   |   |   |   |   |   |--- class: 0.0\n",
      "|   |   |   |   |   |   |   |--- feature_7 >  0.37\n",
      "|   |   |   |   |   |   |   |   |--- class: 1.0\n",
      "|   |   |   |   |   |--- feature_10 >  1.06\n",
      "|   |   |   |   |   |   |--- feature_8 <= 0.39\n",
      "|   |   |   |   |   |   |   |--- class: 1.0\n",
      "|   |   |   |   |   |   |--- feature_8 >  0.39\n",
      "|   |   |   |   |   |   |   |--- class: 0.0\n",
      "|   |   |   |--- feature_20 >  -0.19\n",
      "|   |   |   |   |--- feature_27 <= 0.51\n",
      "|   |   |   |   |   |--- feature_7 <= -0.38\n",
      "|   |   |   |   |   |   |--- feature_10 <= 3.12\n",
      "|   |   |   |   |   |   |   |--- feature_12 <= 3.18\n",
      "|   |   |   |   |   |   |   |   |--- feature_24 <= 1.09\n",
      "|   |   |   |   |   |   |   |   |   |--- class: 0.0\n",
      "|   |   |   |   |   |   |   |   |--- feature_24 >  1.09\n",
      "|   |   |   |   |   |   |   |   |   |--- feature_11 <= 0.74\n",
      "|   |   |   |   |   |   |   |   |   |   |--- class: 1.0\n",
      "|   |   |   |   |   |   |   |   |   |--- feature_11 >  0.74\n",
      "|   |   |   |   |   |   |   |   |   |   |--- class: 0.0\n",
      "|   |   |   |   |   |   |   |--- feature_12 >  3.18\n",
      "|   |   |   |   |   |   |   |   |--- feature_22 <= -0.20\n",
      "|   |   |   |   |   |   |   |   |   |--- class: 1.0\n",
      "|   |   |   |   |   |   |   |   |--- feature_22 >  -0.20\n",
      "|   |   |   |   |   |   |   |   |   |--- class: 0.0\n",
      "|   |   |   |   |   |   |--- feature_10 >  3.12\n",
      "|   |   |   |   |   |   |   |--- class: 1.0\n",
      "|   |   |   |   |   |--- feature_7 >  -0.38\n",
      "|   |   |   |   |   |   |--- feature_14 <= 1.12\n",
      "|   |   |   |   |   |   |   |--- feature_12 <= -0.33\n",
      "|   |   |   |   |   |   |   |   |--- feature_13 <= -0.56\n",
      "|   |   |   |   |   |   |   |   |   |--- class: 0.0\n",
      "|   |   |   |   |   |   |   |   |--- feature_13 >  -0.56\n",
      "|   |   |   |   |   |   |   |   |   |--- class: 1.0\n",
      "|   |   |   |   |   |   |   |--- feature_12 >  -0.33\n",
      "|   |   |   |   |   |   |   |   |--- feature_24 <= 0.41\n",
      "|   |   |   |   |   |   |   |   |   |--- class: 0.0\n",
      "|   |   |   |   |   |   |   |   |--- feature_24 >  0.41\n",
      "|   |   |   |   |   |   |   |   |   |--- feature_5 <= -0.01\n",
      "|   |   |   |   |   |   |   |   |   |   |--- feature_10 <= 1.36\n",
      "|   |   |   |   |   |   |   |   |   |   |   |--- truncated branch of depth 5\n",
      "|   |   |   |   |   |   |   |   |   |   |--- feature_10 >  1.36\n",
      "|   |   |   |   |   |   |   |   |   |   |   |--- class: 1.0\n",
      "|   |   |   |   |   |   |   |   |   |--- feature_5 >  -0.01\n",
      "|   |   |   |   |   |   |   |   |   |   |--- feature_14 <= 0.44\n",
      "|   |   |   |   |   |   |   |   |   |   |   |--- class: 1.0\n",
      "|   |   |   |   |   |   |   |   |   |   |--- feature_14 >  0.44\n",
      "|   |   |   |   |   |   |   |   |   |   |   |--- class: 0.0\n",
      "|   |   |   |   |   |   |--- feature_14 >  1.12\n",
      "|   |   |   |   |   |   |   |--- feature_4 <= -0.22\n",
      "|   |   |   |   |   |   |   |   |--- feature_18 <= 0.79\n",
      "|   |   |   |   |   |   |   |   |   |--- class: 0.0\n",
      "|   |   |   |   |   |   |   |   |--- feature_18 >  0.79\n",
      "|   |   |   |   |   |   |   |   |   |--- feature_16 <= 2.52\n",
      "|   |   |   |   |   |   |   |   |   |   |--- class: 1.0\n",
      "|   |   |   |   |   |   |   |   |   |--- feature_16 >  2.52\n",
      "|   |   |   |   |   |   |   |   |   |   |--- class: 0.0\n",
      "|   |   |   |   |   |   |   |--- feature_4 >  -0.22\n",
      "|   |   |   |   |   |   |   |   |--- class: 0.0\n",
      "|   |   |   |   |--- feature_27 >  0.51\n",
      "|   |   |   |   |   |--- feature_27 <= 1.06\n",
      "|   |   |   |   |   |   |--- feature_17 <= 1.48\n",
      "|   |   |   |   |   |   |   |--- feature_13 <= 0.47\n",
      "|   |   |   |   |   |   |   |   |--- feature_14 <= -0.23\n",
      "|   |   |   |   |   |   |   |   |   |--- feature_13 <= -0.76\n",
      "|   |   |   |   |   |   |   |   |   |   |--- class: 0.0\n",
      "|   |   |   |   |   |   |   |   |   |--- feature_13 >  -0.76\n",
      "|   |   |   |   |   |   |   |   |   |   |--- class: 1.0\n",
      "|   |   |   |   |   |   |   |   |--- feature_14 >  -0.23\n",
      "|   |   |   |   |   |   |   |   |   |--- feature_20 <= 1.19\n",
      "|   |   |   |   |   |   |   |   |   |   |--- class: 0.0\n",
      "|   |   |   |   |   |   |   |   |   |--- feature_20 >  1.19\n",
      "|   |   |   |   |   |   |   |   |   |   |--- class: 1.0\n",
      "|   |   |   |   |   |   |   |--- feature_13 >  0.47\n",
      "|   |   |   |   |   |   |   |   |--- class: 1.0\n",
      "|   |   |   |   |   |   |--- feature_17 >  1.48\n",
      "|   |   |   |   |   |   |   |--- class: 1.0\n",
      "|   |   |   |   |   |--- feature_27 >  1.06\n",
      "|   |   |   |   |   |   |--- feature_0 <= 1.82\n",
      "|   |   |   |   |   |   |   |--- class: 0.0\n",
      "|   |   |   |   |   |   |--- feature_0 >  1.82\n",
      "|   |   |   |   |   |   |   |--- class: 1.0\n",
      "\n"
     ]
    }
   ],
   "source": [
    "# Decision Tree plotted\n",
    "text_representation = tree.export_text(clf_ol)\n",
    "print(text_representation)"
   ]
  },
  {
   "cell_type": "code",
   "execution_count": 85,
   "metadata": {},
   "outputs": [
    {
     "name": "stdout",
     "output_type": "stream",
     "text": [
      "[[462  36]\n",
      " [ 70  32]]\n"
     ]
    }
   ],
   "source": [
    "print(confusion_matrix(y_test_ol,y_pred_ol_DT))"
   ]
  },
  {
   "cell_type": "code",
   "execution_count": 86,
   "metadata": {},
   "outputs": [
    {
     "name": "stdout",
     "output_type": "stream",
     "text": [
      "0.8233333333333334\n"
     ]
    }
   ],
   "source": [
    "print(accuracy_score(y_test_ol, y_pred_ol_DT))"
   ]
  },
  {
   "cell_type": "markdown",
   "metadata": {},
   "source": [
    "### <font color='yellow'>Risk Model building Using RandomForestClassifier"
   ]
  },
  {
   "cell_type": "code",
   "execution_count": 87,
   "metadata": {},
   "outputs": [
    {
     "data": {
      "text/html": [
       "<style>#sk-container-id-7 {color: black;background-color: white;}#sk-container-id-7 pre{padding: 0;}#sk-container-id-7 div.sk-toggleable {background-color: white;}#sk-container-id-7 label.sk-toggleable__label {cursor: pointer;display: block;width: 100%;margin-bottom: 0;padding: 0.3em;box-sizing: border-box;text-align: center;}#sk-container-id-7 label.sk-toggleable__label-arrow:before {content: \"▸\";float: left;margin-right: 0.25em;color: #696969;}#sk-container-id-7 label.sk-toggleable__label-arrow:hover:before {color: black;}#sk-container-id-7 div.sk-estimator:hover label.sk-toggleable__label-arrow:before {color: black;}#sk-container-id-7 div.sk-toggleable__content {max-height: 0;max-width: 0;overflow: hidden;text-align: left;background-color: #f0f8ff;}#sk-container-id-7 div.sk-toggleable__content pre {margin: 0.2em;color: black;border-radius: 0.25em;background-color: #f0f8ff;}#sk-container-id-7 input.sk-toggleable__control:checked~div.sk-toggleable__content {max-height: 200px;max-width: 100%;overflow: auto;}#sk-container-id-7 input.sk-toggleable__control:checked~label.sk-toggleable__label-arrow:before {content: \"▾\";}#sk-container-id-7 div.sk-estimator input.sk-toggleable__control:checked~label.sk-toggleable__label {background-color: #d4ebff;}#sk-container-id-7 div.sk-label input.sk-toggleable__control:checked~label.sk-toggleable__label {background-color: #d4ebff;}#sk-container-id-7 input.sk-hidden--visually {border: 0;clip: rect(1px 1px 1px 1px);clip: rect(1px, 1px, 1px, 1px);height: 1px;margin: -1px;overflow: hidden;padding: 0;position: absolute;width: 1px;}#sk-container-id-7 div.sk-estimator {font-family: monospace;background-color: #f0f8ff;border: 1px dotted black;border-radius: 0.25em;box-sizing: border-box;margin-bottom: 0.5em;}#sk-container-id-7 div.sk-estimator:hover {background-color: #d4ebff;}#sk-container-id-7 div.sk-parallel-item::after {content: \"\";width: 100%;border-bottom: 1px solid gray;flex-grow: 1;}#sk-container-id-7 div.sk-label:hover label.sk-toggleable__label {background-color: #d4ebff;}#sk-container-id-7 div.sk-serial::before {content: \"\";position: absolute;border-left: 1px solid gray;box-sizing: border-box;top: 0;bottom: 0;left: 50%;z-index: 0;}#sk-container-id-7 div.sk-serial {display: flex;flex-direction: column;align-items: center;background-color: white;padding-right: 0.2em;padding-left: 0.2em;position: relative;}#sk-container-id-7 div.sk-item {position: relative;z-index: 1;}#sk-container-id-7 div.sk-parallel {display: flex;align-items: stretch;justify-content: center;background-color: white;position: relative;}#sk-container-id-7 div.sk-item::before, #sk-container-id-7 div.sk-parallel-item::before {content: \"\";position: absolute;border-left: 1px solid gray;box-sizing: border-box;top: 0;bottom: 0;left: 50%;z-index: -1;}#sk-container-id-7 div.sk-parallel-item {display: flex;flex-direction: column;z-index: 1;position: relative;background-color: white;}#sk-container-id-7 div.sk-parallel-item:first-child::after {align-self: flex-end;width: 50%;}#sk-container-id-7 div.sk-parallel-item:last-child::after {align-self: flex-start;width: 50%;}#sk-container-id-7 div.sk-parallel-item:only-child::after {width: 0;}#sk-container-id-7 div.sk-dashed-wrapped {border: 1px dashed gray;margin: 0 0.4em 0.5em 0.4em;box-sizing: border-box;padding-bottom: 0.4em;background-color: white;}#sk-container-id-7 div.sk-label label {font-family: monospace;font-weight: bold;display: inline-block;line-height: 1.2em;}#sk-container-id-7 div.sk-label-container {text-align: center;}#sk-container-id-7 div.sk-container {/* jupyter's `normalize.less` sets `[hidden] { display: none; }` but bootstrap.min.css set `[hidden] { display: none !important; }` so we also need the `!important` here to be able to override the default hidden behavior on the sphinx rendered scikit-learn.org. See: https://github.com/scikit-learn/scikit-learn/issues/21755 */display: inline-block !important;position: relative;}#sk-container-id-7 div.sk-text-repr-fallback {display: none;}</style><div id=\"sk-container-id-7\" class=\"sk-top-container\"><div class=\"sk-text-repr-fallback\"><pre>RandomForestClassifier(min_samples_split=5, n_estimators=20, random_state=0)</pre><b>In a Jupyter environment, please rerun this cell to show the HTML representation or trust the notebook. <br />On GitHub, the HTML representation is unable to render, please try loading this page with nbviewer.org.</b></div><div class=\"sk-container\" hidden><div class=\"sk-item\"><div class=\"sk-estimator sk-toggleable\"><input class=\"sk-toggleable__control sk-hidden--visually\" id=\"sk-estimator-id-7\" type=\"checkbox\" checked><label for=\"sk-estimator-id-7\" class=\"sk-toggleable__label sk-toggleable__label-arrow\">RandomForestClassifier</label><div class=\"sk-toggleable__content\"><pre>RandomForestClassifier(min_samples_split=5, n_estimators=20, random_state=0)</pre></div></div></div></div></div>"
      ],
      "text/plain": [
       "RandomForestClassifier(min_samples_split=5, n_estimators=20, random_state=0)"
      ]
     },
     "execution_count": 87,
     "metadata": {},
     "output_type": "execute_result"
    }
   ],
   "source": [
    "clf_random_ol = RandomForestClassifier(n_estimators=20, max_depth=None, min_samples_split=5, random_state=0)\n",
    "clf_random_ol.fit(X_train_ol, y_train_ol)"
   ]
  },
  {
   "cell_type": "code",
   "execution_count": 88,
   "metadata": {},
   "outputs": [],
   "source": [
    "y_pred_ol_RFC = clf_random_ol.predict(X_test_ol)"
   ]
  },
  {
   "cell_type": "code",
   "execution_count": 89,
   "metadata": {},
   "outputs": [
    {
     "name": "stdout",
     "output_type": "stream",
     "text": [
      "[[488  10]\n",
      " [ 87  15]]\n"
     ]
    }
   ],
   "source": [
    "print(confusion_matrix(y_test_ol,y_pred_ol_RFC))"
   ]
  },
  {
   "cell_type": "code",
   "execution_count": 90,
   "metadata": {},
   "outputs": [
    {
     "name": "stdout",
     "output_type": "stream",
     "text": [
      "0.8383333333333334\n"
     ]
    }
   ],
   "source": [
    "print(accuracy_score(y_test_ol, y_pred_ol_RFC))"
   ]
  },
  {
   "cell_type": "markdown",
   "metadata": {},
   "source": [
    "### <font color='yellow'>Risk Model building Using Neural Networks"
   ]
  },
  {
   "cell_type": "code",
   "execution_count": 91,
   "metadata": {},
   "outputs": [
    {
     "data": {
      "text/plain": [
       "(2400, 28)"
      ]
     },
     "execution_count": 91,
     "metadata": {},
     "output_type": "execute_result"
    }
   ],
   "source": [
    "X_train_ol.shape"
   ]
  },
  {
   "cell_type": "code",
   "execution_count": 92,
   "metadata": {},
   "outputs": [
    {
     "name": "stdout",
     "output_type": "stream",
     "text": [
      "Epoch 1/25\n",
      "75/75 [==============================] - 0s 361us/step - loss: 0.8814 - accuracy: 0.3856\n",
      "Epoch 2/25\n",
      "75/75 [==============================] - 0s 291us/step - loss: 0.4912 - accuracy: 0.7986\n",
      "Epoch 3/25\n",
      "75/75 [==============================] - 0s 284us/step - loss: 0.4160 - accuracy: 0.8299\n",
      "Epoch 4/25\n",
      "75/75 [==============================] - 0s 284us/step - loss: 0.3989 - accuracy: 0.8328\n",
      "Epoch 5/25\n",
      "75/75 [==============================] - 0s 282us/step - loss: 0.3770 - accuracy: 0.8389\n",
      "Epoch 6/25\n",
      "75/75 [==============================] - 0s 280us/step - loss: 0.3696 - accuracy: 0.8369\n",
      "Epoch 7/25\n",
      "75/75 [==============================] - 0s 673us/step - loss: 0.3801 - accuracy: 0.8318\n",
      "Epoch 8/25\n",
      "75/75 [==============================] - 0s 284us/step - loss: 0.3744 - accuracy: 0.8385\n",
      "Epoch 9/25\n",
      "75/75 [==============================] - 0s 284us/step - loss: 0.3632 - accuracy: 0.8412\n",
      "Epoch 10/25\n",
      "75/75 [==============================] - 0s 288us/step - loss: 0.3704 - accuracy: 0.8364\n",
      "Epoch 11/25\n",
      "75/75 [==============================] - 0s 283us/step - loss: 0.3677 - accuracy: 0.8398\n",
      "Epoch 12/25\n",
      "75/75 [==============================] - 0s 281us/step - loss: 0.3676 - accuracy: 0.8353\n",
      "Epoch 13/25\n",
      "75/75 [==============================] - 0s 285us/step - loss: 0.3661 - accuracy: 0.8431\n",
      "Epoch 14/25\n",
      "75/75 [==============================] - 0s 285us/step - loss: 0.3519 - accuracy: 0.8447\n",
      "Epoch 15/25\n",
      "75/75 [==============================] - 0s 277us/step - loss: 0.3341 - accuracy: 0.8590\n",
      "Epoch 16/25\n",
      "75/75 [==============================] - 0s 290us/step - loss: 0.3585 - accuracy: 0.8438\n",
      "Epoch 17/25\n",
      "75/75 [==============================] - 0s 287us/step - loss: 0.3375 - accuracy: 0.8605\n",
      "Epoch 18/25\n",
      "75/75 [==============================] - 0s 282us/step - loss: 0.3524 - accuracy: 0.8451\n",
      "Epoch 19/25\n",
      "75/75 [==============================] - 0s 288us/step - loss: 0.3404 - accuracy: 0.8578\n",
      "Epoch 20/25\n",
      "75/75 [==============================] - 0s 281us/step - loss: 0.3376 - accuracy: 0.8550\n",
      "Epoch 21/25\n",
      "75/75 [==============================] - 0s 282us/step - loss: 0.3408 - accuracy: 0.8555\n",
      "Epoch 22/25\n",
      "75/75 [==============================] - 0s 283us/step - loss: 0.3271 - accuracy: 0.8555\n",
      "Epoch 23/25\n",
      "75/75 [==============================] - 0s 287us/step - loss: 0.3205 - accuracy: 0.8636\n",
      "Epoch 24/25\n",
      "75/75 [==============================] - 0s 282us/step - loss: 0.3468 - accuracy: 0.8473\n",
      "Epoch 25/25\n",
      "75/75 [==============================] - 0s 283us/step - loss: 0.3270 - accuracy: 0.8679\n"
     ]
    },
    {
     "data": {
      "text/plain": [
       "<tensorflow.python.keras.callbacks.History at 0x2b4fc4d90>"
      ]
     },
     "execution_count": 92,
     "metadata": {},
     "output_type": "execute_result"
    }
   ],
   "source": [
    "model_ol = keras.Sequential([\n",
    "        keras.layers.Dense(15, activation='relu'),\n",
    "        keras.layers.Dense(2, activation='sigmoid')\n",
    "    ])\n",
    "model_ol.compile(\n",
    "    optimizer='adam',\n",
    "    loss='sparse_categorical_crossentropy',\n",
    "    metrics=['accuracy']\n",
    ")\n",
    "model_ol.fit(X_train_ol,y_train_ol,epochs=25)"
   ]
  },
  {
   "cell_type": "code",
   "execution_count": 93,
   "metadata": {},
   "outputs": [
    {
     "name": "stdout",
     "output_type": "stream",
     "text": [
      "0.8316666666666667\n"
     ]
    }
   ],
   "source": [
    "y_pred_ol_NN = model_ol.predict(X_test_ol)\n",
    "ls_ol_NN = []\n",
    "for i in range(len(y_pred_ol_NN)):\n",
    "    if y_pred_ol_NN[i][0] < y_pred_ol_NN[i][1]:\n",
    "        ls_ol_NN.append(1)\n",
    "    else:\n",
    "        ls_ol_NN.append(0)\n",
    "z_ol_NN = accuracy_score(y_test_ol, ls_ol_NN)\n",
    "print(z_ol_NN)"
   ]
  },
  {
   "cell_type": "markdown",
   "metadata": {},
   "source": [
    "## <font color='lightgreen'>Effect of Outlier Removal "
   ]
  },
  {
   "cell_type": "markdown",
   "metadata": {},
   "source": [
    "### <font color='yellow'>Logistic Regression"
   ]
  },
  {
   "cell_type": "code",
   "execution_count": 94,
   "metadata": {},
   "outputs": [
    {
     "name": "stdout",
     "output_type": "stream",
     "text": [
      "When Outliers are Removed\n",
      "[[379   1]\n",
      " [ 35   3]]\n",
      "When Outliers are not Removed\n",
      "[[484  14]\n",
      " [ 87  15]]\n"
     ]
    }
   ],
   "source": [
    "# Confusion Matrix Comparison\n",
    "# Outliers Removed Vs. Outliers Kept\n",
    "print(\"When Outliers are Removed\")\n",
    "print(confusion_matrix(y_test, y_pred_LR))\n",
    "print(\"When Outliers are not Removed\")\n",
    "print(confusion_matrix(y_test_ol, y_pred_ol_LR))"
   ]
  },
  {
   "cell_type": "code",
   "execution_count": 95,
   "metadata": {},
   "outputs": [
    {
     "name": "stdout",
     "output_type": "stream",
     "text": [
      "When Outliers are Removed\n",
      "0.9138755980861244\n",
      "When Outliers are not Removed\n",
      "0.8316666666666667\n"
     ]
    }
   ],
   "source": [
    "# Accuracy Comparision\n",
    "# Outliers Removed Vs. Outliers Kept\n",
    "print(\"When Outliers are Removed\")\n",
    "print(accuracy_score(y_test, y_pred_LR))\n",
    "print(\"When Outliers are not Removed\")\n",
    "print(accuracy_score(y_test_ol, y_pred_ol_LR))"
   ]
  },
  {
   "cell_type": "markdown",
   "metadata": {},
   "source": [
    "### <font color='yellow'> k Nearest Neighbours"
   ]
  },
  {
   "cell_type": "code",
   "execution_count": 96,
   "metadata": {},
   "outputs": [
    {
     "name": "stdout",
     "output_type": "stream",
     "text": [
      "When Outliers are Removed\n",
      "[[369  11]\n",
      " [ 36   2]]\n",
      "When Outliers are not Removed\n",
      "[[469  29]\n",
      " [ 91  11]]\n"
     ]
    }
   ],
   "source": [
    "# Confusion Matrix Comparison\n",
    "# Outliers Removed Vs. Outliers Kept\n",
    "print(\"When Outliers are Removed\")\n",
    "print(confusion_matrix(y_test, y_pred_kNN))\n",
    "print(\"When Outliers are not Removed\")\n",
    "print(confusion_matrix(y_test_ol, y_pred_ol_kNN))"
   ]
  },
  {
   "cell_type": "code",
   "execution_count": 97,
   "metadata": {},
   "outputs": [
    {
     "name": "stdout",
     "output_type": "stream",
     "text": [
      "When Outliers are Removed\n",
      "0.8875598086124402\n",
      "When Outliers are not Removed\n",
      "0.8\n"
     ]
    }
   ],
   "source": [
    "# Accuracy Comparision\n",
    "# Outliers Removed Vs. Outliers Kept\n",
    "print(\"When Outliers are Removed\")\n",
    "print(accuracy_score(y_test, y_pred_kNN))\n",
    "print(\"When Outliers are not Removed\")\n",
    "print(accuracy_score(y_test_ol, y_pred_ol_kNN))"
   ]
  },
  {
   "cell_type": "markdown",
   "metadata": {},
   "source": [
    "### <font color='yellow'>Decision Trees"
   ]
  },
  {
   "cell_type": "code",
   "execution_count": 98,
   "metadata": {},
   "outputs": [
    {
     "name": "stdout",
     "output_type": "stream",
     "text": [
      "When Outliers are Removed\n",
      "[[331  49]\n",
      " [ 34   4]]\n",
      "When Outliers are not Removed\n",
      "[[462  36]\n",
      " [ 70  32]]\n"
     ]
    }
   ],
   "source": [
    "# Confusion Matrix Comparison\n",
    "# Outliers Removed Vs. Outliers Kept\n",
    "print(\"When Outliers are Removed\")\n",
    "print(confusion_matrix(y_test, y_pred_DT))\n",
    "print(\"When Outliers are not Removed\")\n",
    "print(confusion_matrix(y_test_ol, y_pred_ol_DT))"
   ]
  },
  {
   "cell_type": "code",
   "execution_count": 99,
   "metadata": {},
   "outputs": [
    {
     "name": "stdout",
     "output_type": "stream",
     "text": [
      "When Outliers are Removed\n",
      "0.8014354066985646\n",
      "When Outliers are not Removed\n",
      "0.8233333333333334\n"
     ]
    }
   ],
   "source": [
    "# Accuracy Comparision\n",
    "# Outliers Removed Vs. Outliers Kept\n",
    "print(\"When Outliers are Removed\")\n",
    "print(accuracy_score(y_test, y_pred_DT))\n",
    "print(\"When Outliers are not Removed\")\n",
    "print(accuracy_score(y_test_ol, y_pred_ol_DT))"
   ]
  },
  {
   "cell_type": "markdown",
   "metadata": {},
   "source": [
    "### <font color='yellow'>Random Forest Classifier"
   ]
  },
  {
   "cell_type": "code",
   "execution_count": 100,
   "metadata": {},
   "outputs": [
    {
     "name": "stdout",
     "output_type": "stream",
     "text": [
      "When Outliers are Removed\n",
      "[[379   1]\n",
      " [ 36   2]]\n",
      "When Outliers are not Removed\n",
      "[[488  10]\n",
      " [ 87  15]]\n"
     ]
    }
   ],
   "source": [
    "# Confusion Matrix Comparison\n",
    "# Outliers Removed Vs. Outliers Kept\n",
    "print(\"When Outliers are Removed\")\n",
    "print(confusion_matrix(y_test, y_pred_RFC))\n",
    "print(\"When Outliers are not Removed\")\n",
    "print(confusion_matrix(y_test_ol, y_pred_ol_RFC))"
   ]
  },
  {
   "cell_type": "code",
   "execution_count": 101,
   "metadata": {},
   "outputs": [
    {
     "name": "stdout",
     "output_type": "stream",
     "text": [
      "When Outliers are Removed\n",
      "0.9114832535885168\n",
      "When Outliers are not Removed\n",
      "0.8383333333333334\n"
     ]
    }
   ],
   "source": [
    "# Accuracy Comparision\n",
    "# Outliers Removed Vs. Outliers Kept\n",
    "print(\"When Outliers are Removed\")\n",
    "print(accuracy_score(y_test, y_pred_RFC))\n",
    "print(\"When Outliers are not Removed\")\n",
    "print(accuracy_score(y_test_ol, y_pred_ol_RFC))"
   ]
  },
  {
   "cell_type": "markdown",
   "metadata": {},
   "source": [
    "### <font color='yellow'>Neural Networks"
   ]
  },
  {
   "cell_type": "code",
   "execution_count": 102,
   "metadata": {},
   "outputs": [
    {
     "name": "stdout",
     "output_type": "stream",
     "text": [
      "When Outliers are Removed\n",
      "0.9090909090909091\n",
      "When Outliers are not Removed\n",
      "0.8316666666666667\n"
     ]
    }
   ],
   "source": [
    "# Accuracy Comparision\n",
    "# Outliers Removed Vs. Outliers Kept\n",
    "print(\"When Outliers are Removed\")\n",
    "print(accuracy_score(y_test, ls))\n",
    "print(\"When Outliers are not Removed\")\n",
    "print(accuracy_score(y_test_ol, ls_ol_NN))"
   ]
  },
  {
   "cell_type": "markdown",
   "metadata": {},
   "source": [
    "## <font color='lightgreen'> Interpretation Of Results"
   ]
  },
  {
   "cell_type": "code",
   "execution_count": 103,
   "metadata": {},
   "outputs": [
    {
     "data": {
      "text/plain": [
       "array([[0.87006693, 0.12993307],\n",
       "       [0.97046989, 0.02953011],\n",
       "       [0.81208558, 0.18791442],\n",
       "       [0.93821524, 0.06178476],\n",
       "       [0.87607532, 0.12392468],\n",
       "       [0.93039115, 0.06960885],\n",
       "       [0.82208999, 0.17791001],\n",
       "       [0.89385246, 0.10614754],\n",
       "       [0.93992188, 0.06007812],\n",
       "       [0.94206873, 0.05793127],\n",
       "       [0.61640243, 0.38359757],\n",
       "       [0.97458319, 0.02541681],\n",
       "       [0.95949789, 0.04050211],\n",
       "       [0.9647375 , 0.0352625 ],\n",
       "       [0.90109732, 0.09890268],\n",
       "       [0.85011706, 0.14988294],\n",
       "       [0.97376843, 0.02623157],\n",
       "       [0.96666407, 0.03333593],\n",
       "       [0.77981473, 0.22018527],\n",
       "       [0.84230682, 0.15769318],\n",
       "       [0.83717835, 0.16282165],\n",
       "       [0.93353511, 0.06646489],\n",
       "       [0.94049036, 0.05950964],\n",
       "       [0.88501333, 0.11498667],\n",
       "       [0.89287675, 0.10712325],\n",
       "       [0.98731239, 0.01268761],\n",
       "       [0.95113905, 0.04886095],\n",
       "       [0.94974256, 0.05025744],\n",
       "       [0.96009256, 0.03990744],\n",
       "       [0.74385445, 0.25614555],\n",
       "       [0.98393265, 0.01606735],\n",
       "       [0.95467677, 0.04532323],\n",
       "       [0.94387839, 0.05612161],\n",
       "       [0.96576816, 0.03423184],\n",
       "       [0.8107525 , 0.1892475 ],\n",
       "       [0.97856956, 0.02143044],\n",
       "       [0.81059232, 0.18940768],\n",
       "       [0.98000158, 0.01999842],\n",
       "       [0.75990208, 0.24009792],\n",
       "       [0.82290745, 0.17709255],\n",
       "       [0.9808306 , 0.0191694 ],\n",
       "       [0.82372442, 0.17627558],\n",
       "       [0.95056358, 0.04943642],\n",
       "       [0.94858324, 0.05141676],\n",
       "       [0.98683598, 0.01316402],\n",
       "       [0.79189966, 0.20810034],\n",
       "       [0.99091047, 0.00908953],\n",
       "       [0.89594444, 0.10405556],\n",
       "       [0.96032978, 0.03967022],\n",
       "       [0.92845158, 0.07154842],\n",
       "       [0.9905234 , 0.0094766 ],\n",
       "       [0.88782801, 0.11217199],\n",
       "       [0.90900722, 0.09099278],\n",
       "       [0.97725802, 0.02274198],\n",
       "       [0.9808725 , 0.0191275 ],\n",
       "       [0.98404022, 0.01595978],\n",
       "       [0.90695483, 0.09304517],\n",
       "       [0.83970107, 0.16029893],\n",
       "       [0.96768528, 0.03231472],\n",
       "       [0.94390676, 0.05609324],\n",
       "       [0.77219539, 0.22780461],\n",
       "       [0.93209152, 0.06790848],\n",
       "       [0.9372144 , 0.0627856 ],\n",
       "       [0.90375621, 0.09624379],\n",
       "       [0.98712249, 0.01287751],\n",
       "       [0.9657834 , 0.0342166 ],\n",
       "       [0.97165817, 0.02834183],\n",
       "       [0.919163  , 0.080837  ],\n",
       "       [0.95101129, 0.04898871],\n",
       "       [0.93038006, 0.06961994],\n",
       "       [0.88995046, 0.11004954],\n",
       "       [0.95100727, 0.04899273],\n",
       "       [0.95429593, 0.04570407],\n",
       "       [0.9355761 , 0.0644239 ],\n",
       "       [0.97217302, 0.02782698],\n",
       "       [0.8735758 , 0.1264242 ],\n",
       "       [0.98447518, 0.01552482],\n",
       "       [0.94116052, 0.05883948],\n",
       "       [0.98000949, 0.01999051],\n",
       "       [0.95956183, 0.04043817],\n",
       "       [0.95179406, 0.04820594],\n",
       "       [0.86688454, 0.13311546],\n",
       "       [0.94133498, 0.05866502],\n",
       "       [0.93662898, 0.06337102],\n",
       "       [0.92030833, 0.07969167],\n",
       "       [0.96807711, 0.03192289],\n",
       "       [0.86795775, 0.13204225],\n",
       "       [0.58770363, 0.41229637],\n",
       "       [0.91315177, 0.08684823],\n",
       "       [0.97578427, 0.02421573],\n",
       "       [0.77029193, 0.22970807],\n",
       "       [0.95870271, 0.04129729],\n",
       "       [0.96485758, 0.03514242],\n",
       "       [0.83346514, 0.16653486],\n",
       "       [0.94553453, 0.05446547],\n",
       "       [0.97037151, 0.02962849],\n",
       "       [0.97992418, 0.02007582],\n",
       "       [0.98245044, 0.01754956],\n",
       "       [0.91723597, 0.08276403],\n",
       "       [0.80882507, 0.19117493],\n",
       "       [0.92575666, 0.07424334],\n",
       "       [0.95892711, 0.04107289],\n",
       "       [0.88000805, 0.11999195],\n",
       "       [0.9187578 , 0.0812422 ],\n",
       "       [0.9357483 , 0.0642517 ],\n",
       "       [0.80615182, 0.19384818],\n",
       "       [0.79307871, 0.20692129],\n",
       "       [0.87164846, 0.12835154],\n",
       "       [0.87607424, 0.12392576],\n",
       "       [0.95660217, 0.04339783],\n",
       "       [0.92427195, 0.07572805],\n",
       "       [0.81817577, 0.18182423],\n",
       "       [0.56718993, 0.43281007],\n",
       "       [0.94817042, 0.05182958],\n",
       "       [0.78403412, 0.21596588],\n",
       "       [0.88025198, 0.11974802],\n",
       "       [0.93955793, 0.06044207],\n",
       "       [0.90748183, 0.09251817],\n",
       "       [0.96570495, 0.03429505],\n",
       "       [0.97669504, 0.02330496],\n",
       "       [0.77403426, 0.22596574],\n",
       "       [0.96799447, 0.03200553],\n",
       "       [0.97905242, 0.02094758],\n",
       "       [0.94909972, 0.05090028],\n",
       "       [0.97070324, 0.02929676],\n",
       "       [0.95686642, 0.04313358],\n",
       "       [0.92680904, 0.07319096],\n",
       "       [0.96612667, 0.03387333],\n",
       "       [0.39610863, 0.60389137],\n",
       "       [0.9406311 , 0.0593689 ],\n",
       "       [0.96574475, 0.03425525],\n",
       "       [0.68667238, 0.31332762],\n",
       "       [0.9559287 , 0.0440713 ],\n",
       "       [0.81632535, 0.18367465],\n",
       "       [0.93315285, 0.06684715],\n",
       "       [0.96683708, 0.03316292],\n",
       "       [0.8748483 , 0.1251517 ],\n",
       "       [0.98011965, 0.01988035],\n",
       "       [0.8419697 , 0.1580303 ],\n",
       "       [0.93621284, 0.06378716],\n",
       "       [0.93304445, 0.06695555],\n",
       "       [0.99259047, 0.00740953],\n",
       "       [0.87749319, 0.12250681],\n",
       "       [0.92346858, 0.07653142],\n",
       "       [0.96071728, 0.03928272],\n",
       "       [0.93807084, 0.06192916],\n",
       "       [0.94467727, 0.05532273],\n",
       "       [0.88271008, 0.11728992],\n",
       "       [0.91352657, 0.08647343],\n",
       "       [0.94715784, 0.05284216],\n",
       "       [0.6050946 , 0.3949054 ],\n",
       "       [0.95491752, 0.04508248],\n",
       "       [0.97659357, 0.02340643],\n",
       "       [0.96698033, 0.03301967],\n",
       "       [0.94625725, 0.05374275],\n",
       "       [0.93356679, 0.06643321],\n",
       "       [0.96235434, 0.03764566],\n",
       "       [0.69154913, 0.30845087],\n",
       "       [0.8907374 , 0.1092626 ],\n",
       "       [0.8723134 , 0.1276866 ],\n",
       "       [0.69753956, 0.30246044],\n",
       "       [0.92385763, 0.07614237],\n",
       "       [0.94981589, 0.05018411],\n",
       "       [0.92630999, 0.07369001],\n",
       "       [0.94090944, 0.05909056],\n",
       "       [0.95942238, 0.04057762],\n",
       "       [0.94556628, 0.05443372],\n",
       "       [0.86589024, 0.13410976],\n",
       "       [0.78093908, 0.21906092],\n",
       "       [0.91625983, 0.08374017],\n",
       "       [0.96212419, 0.03787581],\n",
       "       [0.90930432, 0.09069568],\n",
       "       [0.95234276, 0.04765724],\n",
       "       [0.91468607, 0.08531393],\n",
       "       [0.91645688, 0.08354312],\n",
       "       [0.79667573, 0.20332427],\n",
       "       [0.98596091, 0.01403909],\n",
       "       [0.95523044, 0.04476956],\n",
       "       [0.95104458, 0.04895542],\n",
       "       [0.8697072 , 0.1302928 ],\n",
       "       [0.9703876 , 0.0296124 ],\n",
       "       [0.92975118, 0.07024882],\n",
       "       [0.98023015, 0.01976985],\n",
       "       [0.96196376, 0.03803624],\n",
       "       [0.95759227, 0.04240773],\n",
       "       [0.8984837 , 0.1015163 ],\n",
       "       [0.85416179, 0.14583821],\n",
       "       [0.92591071, 0.07408929],\n",
       "       [0.9625618 , 0.0374382 ],\n",
       "       [0.85286911, 0.14713089],\n",
       "       [0.9880003 , 0.0119997 ],\n",
       "       [0.97637428, 0.02362572],\n",
       "       [0.98108521, 0.01891479],\n",
       "       [0.98485959, 0.01514041],\n",
       "       [0.97175685, 0.02824315],\n",
       "       [0.90767589, 0.09232411],\n",
       "       [0.96675518, 0.03324482],\n",
       "       [0.80186834, 0.19813166],\n",
       "       [0.97382524, 0.02617476],\n",
       "       [0.32264209, 0.67735791],\n",
       "       [0.87507288, 0.12492712],\n",
       "       [0.95995039, 0.04004961],\n",
       "       [0.81667494, 0.18332506],\n",
       "       [0.96285162, 0.03714838],\n",
       "       [0.97851207, 0.02148793],\n",
       "       [0.67346708, 0.32653292],\n",
       "       [0.79021907, 0.20978093],\n",
       "       [0.99602133, 0.00397867],\n",
       "       [0.95374054, 0.04625946],\n",
       "       [0.86435091, 0.13564909],\n",
       "       [0.90572972, 0.09427028],\n",
       "       [0.97240846, 0.02759154],\n",
       "       [0.9555214 , 0.0444786 ],\n",
       "       [0.98875359, 0.01124641],\n",
       "       [0.98067456, 0.01932544],\n",
       "       [0.92395455, 0.07604545],\n",
       "       [0.97840983, 0.02159017],\n",
       "       [0.93318723, 0.06681277],\n",
       "       [0.96426558, 0.03573442],\n",
       "       [0.97327117, 0.02672883],\n",
       "       [0.98187386, 0.01812614],\n",
       "       [0.96835598, 0.03164402],\n",
       "       [0.70805379, 0.29194621],\n",
       "       [0.96838223, 0.03161777],\n",
       "       [0.92908606, 0.07091394],\n",
       "       [0.85657714, 0.14342286],\n",
       "       [0.97653485, 0.02346515],\n",
       "       [0.98033678, 0.01966322],\n",
       "       [0.93574418, 0.06425582],\n",
       "       [0.98262994, 0.01737006],\n",
       "       [0.75149751, 0.24850249],\n",
       "       [0.81498984, 0.18501016],\n",
       "       [0.9716761 , 0.0283239 ],\n",
       "       [0.92911638, 0.07088362],\n",
       "       [0.9597496 , 0.0402504 ],\n",
       "       [0.97820301, 0.02179699],\n",
       "       [0.94801768, 0.05198232],\n",
       "       [0.54739051, 0.45260949],\n",
       "       [0.93399487, 0.06600513],\n",
       "       [0.92380701, 0.07619299],\n",
       "       [0.97031847, 0.02968153],\n",
       "       [0.87442577, 0.12557423],\n",
       "       [0.96660762, 0.03339238],\n",
       "       [0.96930532, 0.03069468],\n",
       "       [0.95213937, 0.04786063],\n",
       "       [0.9289107 , 0.0710893 ],\n",
       "       [0.93853102, 0.06146898],\n",
       "       [0.92254923, 0.07745077],\n",
       "       [0.94669236, 0.05330764],\n",
       "       [0.97124505, 0.02875495],\n",
       "       [0.98402519, 0.01597481],\n",
       "       [0.97144597, 0.02855403],\n",
       "       [0.93982027, 0.06017973],\n",
       "       [0.94281804, 0.05718196],\n",
       "       [0.96142524, 0.03857476],\n",
       "       [0.62691887, 0.37308113],\n",
       "       [0.98476077, 0.01523923],\n",
       "       [0.9271215 , 0.0728785 ],\n",
       "       [0.9671531 , 0.0328469 ],\n",
       "       [0.94250288, 0.05749712],\n",
       "       [0.92716838, 0.07283162],\n",
       "       [0.91989851, 0.08010149],\n",
       "       [0.91192779, 0.08807221],\n",
       "       [0.89665587, 0.10334413],\n",
       "       [0.98307762, 0.01692238],\n",
       "       [0.94273492, 0.05726508],\n",
       "       [0.94668754, 0.05331246],\n",
       "       [0.98212286, 0.01787714],\n",
       "       [0.95177408, 0.04822592],\n",
       "       [0.9888088 , 0.0111912 ],\n",
       "       [0.96367199, 0.03632801],\n",
       "       [0.96475054, 0.03524946],\n",
       "       [0.78872474, 0.21127526],\n",
       "       [0.88136088, 0.11863912],\n",
       "       [0.99161181, 0.00838819],\n",
       "       [0.50642109, 0.49357891],\n",
       "       [0.95483437, 0.04516563],\n",
       "       [0.97803733, 0.02196267],\n",
       "       [0.88195788, 0.11804212],\n",
       "       [0.94839691, 0.05160309],\n",
       "       [0.93992868, 0.06007132],\n",
       "       [0.73219565, 0.26780435],\n",
       "       [0.5185167 , 0.4814833 ],\n",
       "       [0.93913178, 0.06086822],\n",
       "       [0.96816633, 0.03183367],\n",
       "       [0.89597179, 0.10402821],\n",
       "       [0.6976973 , 0.3023027 ],\n",
       "       [0.97375029, 0.02624971],\n",
       "       [0.99037544, 0.00962456],\n",
       "       [0.94729028, 0.05270972],\n",
       "       [0.9362639 , 0.0637361 ],\n",
       "       [0.94689463, 0.05310537],\n",
       "       [0.90591591, 0.09408409],\n",
       "       [0.96693816, 0.03306184],\n",
       "       [0.98595548, 0.01404452],\n",
       "       [0.96738923, 0.03261077],\n",
       "       [0.88777336, 0.11222664],\n",
       "       [0.97279249, 0.02720751],\n",
       "       [0.9738743 , 0.0261257 ],\n",
       "       [0.8464877 , 0.1535123 ],\n",
       "       [0.97375211, 0.02624789],\n",
       "       [0.96369366, 0.03630634],\n",
       "       [0.93666457, 0.06333543],\n",
       "       [0.92722492, 0.07277508],\n",
       "       [0.80866525, 0.19133475],\n",
       "       [0.97449632, 0.02550368],\n",
       "       [0.92034627, 0.07965373],\n",
       "       [0.93409287, 0.06590713],\n",
       "       [0.93999988, 0.06000012],\n",
       "       [0.97441296, 0.02558704],\n",
       "       [0.99415635, 0.00584365],\n",
       "       [0.96270017, 0.03729983],\n",
       "       [0.98197648, 0.01802352],\n",
       "       [0.97345669, 0.02654331],\n",
       "       [0.93332125, 0.06667875],\n",
       "       [0.87091668, 0.12908332],\n",
       "       [0.88969759, 0.11030241],\n",
       "       [0.94147564, 0.05852436],\n",
       "       [0.97961339, 0.02038661],\n",
       "       [0.85866011, 0.14133989],\n",
       "       [0.84703175, 0.15296825],\n",
       "       [0.97782092, 0.02217908],\n",
       "       [0.71609528, 0.28390472],\n",
       "       [0.96454187, 0.03545813],\n",
       "       [0.96888403, 0.03111597],\n",
       "       [0.88906087, 0.11093913],\n",
       "       [0.96989186, 0.03010814],\n",
       "       [0.89843699, 0.10156301],\n",
       "       [0.85985111, 0.14014889],\n",
       "       [0.59960615, 0.40039385],\n",
       "       [0.96597618, 0.03402382],\n",
       "       [0.83158735, 0.16841265],\n",
       "       [0.73650322, 0.26349678],\n",
       "       [0.97627895, 0.02372105],\n",
       "       [0.98323177, 0.01676823],\n",
       "       [0.97340367, 0.02659633],\n",
       "       [0.94581687, 0.05418313],\n",
       "       [0.86376961, 0.13623039],\n",
       "       [0.97001693, 0.02998307],\n",
       "       [0.96422722, 0.03577278],\n",
       "       [0.90315582, 0.09684418],\n",
       "       [0.89353546, 0.10646454],\n",
       "       [0.90975999, 0.09024001],\n",
       "       [0.95721425, 0.04278575],\n",
       "       [0.96161515, 0.03838485],\n",
       "       [0.94466644, 0.05533356],\n",
       "       [0.89492238, 0.10507762],\n",
       "       [0.88098661, 0.11901339],\n",
       "       [0.99442784, 0.00557216],\n",
       "       [0.98267884, 0.01732116],\n",
       "       [0.79448417, 0.20551583],\n",
       "       [0.97523739, 0.02476261],\n",
       "       [0.87209666, 0.12790334],\n",
       "       [0.90296798, 0.09703202],\n",
       "       [0.89850416, 0.10149584],\n",
       "       [0.94023322, 0.05976678],\n",
       "       [0.91854883, 0.08145117],\n",
       "       [0.94123128, 0.05876872],\n",
       "       [0.84394395, 0.15605605],\n",
       "       [0.98812201, 0.01187799],\n",
       "       [0.89167916, 0.10832084],\n",
       "       [0.92683982, 0.07316018],\n",
       "       [0.97887163, 0.02112837],\n",
       "       [0.98936086, 0.01063914],\n",
       "       [0.9209497 , 0.0790503 ],\n",
       "       [0.74706706, 0.25293294],\n",
       "       [0.95231971, 0.04768029],\n",
       "       [0.92145991, 0.07854009],\n",
       "       [0.97298649, 0.02701351],\n",
       "       [0.96351499, 0.03648501],\n",
       "       [0.81597066, 0.18402934],\n",
       "       [0.91804001, 0.08195999],\n",
       "       [0.98206949, 0.01793051],\n",
       "       [0.9861011 , 0.0138989 ],\n",
       "       [0.97881267, 0.02118733],\n",
       "       [0.84961425, 0.15038575],\n",
       "       [0.94875933, 0.05124067],\n",
       "       [0.98702384, 0.01297616],\n",
       "       [0.95933059, 0.04066941],\n",
       "       [0.98818212, 0.01181788],\n",
       "       [0.69977629, 0.30022371],\n",
       "       [0.95736759, 0.04263241],\n",
       "       [0.9881257 , 0.0118743 ],\n",
       "       [0.96843106, 0.03156894],\n",
       "       [0.94308687, 0.05691313],\n",
       "       [0.94888094, 0.05111906],\n",
       "       [0.91231148, 0.08768852],\n",
       "       [0.90053105, 0.09946895],\n",
       "       [0.96876107, 0.03123893],\n",
       "       [0.95524437, 0.04475563],\n",
       "       [0.90885532, 0.09114468],\n",
       "       [0.91525103, 0.08474897],\n",
       "       [0.97540858, 0.02459142],\n",
       "       [0.83348139, 0.16651861],\n",
       "       [0.93619126, 0.06380874],\n",
       "       [0.88370605, 0.11629395],\n",
       "       [0.8107435 , 0.1892565 ],\n",
       "       [0.94502747, 0.05497253],\n",
       "       [0.98311458, 0.01688542],\n",
       "       [0.98893066, 0.01106934],\n",
       "       [0.97952736, 0.02047264],\n",
       "       [0.45512233, 0.54487767],\n",
       "       [0.45917495, 0.54082505],\n",
       "       [0.92415561, 0.07584439],\n",
       "       [0.93218149, 0.06781851],\n",
       "       [0.92212789, 0.07787211],\n",
       "       [0.89913235, 0.10086765],\n",
       "       [0.81467955, 0.18532045],\n",
       "       [0.95861548, 0.04138452],\n",
       "       [0.97972915, 0.02027085],\n",
       "       [0.96141707, 0.03858293],\n",
       "       [0.86793593, 0.13206407],\n",
       "       [0.83498106, 0.16501894],\n",
       "       [0.97228036, 0.02771964],\n",
       "       [0.95667751, 0.04332249],\n",
       "       [0.98776978, 0.01223022],\n",
       "       [0.70356315, 0.29643685],\n",
       "       [0.92393031, 0.07606969]])"
      ]
     },
     "execution_count": 103,
     "metadata": {},
     "output_type": "execute_result"
    }
   ],
   "source": [
    "# Moving ahead with Logistic Regression performed on data with outliers removed from heavily weighted feature variables\n",
    "predictions = classifier.predict_proba(X_test)\n",
    "predictions"
   ]
  },
  {
   "cell_type": "code",
   "execution_count": 104,
   "metadata": {},
   "outputs": [
    {
     "data": {
      "text/plain": [
       "(418, 2)"
      ]
     },
     "execution_count": 104,
     "metadata": {},
     "output_type": "execute_result"
    }
   ],
   "source": [
    "predictions.shape"
   ]
  },
  {
   "cell_type": "code",
   "execution_count": 105,
   "metadata": {},
   "outputs": [],
   "source": [
    "df_final = pd.read_excel(\"a_Dataset_CreditScoring.xlsx\")"
   ]
  },
  {
   "cell_type": "code",
   "execution_count": 106,
   "metadata": {},
   "outputs": [],
   "source": [
    "# Data set consisting probabilities of dafaulter or good loan\n",
    "df_prediction_prob = pd.DataFrame(predictions, columns = ['prob_0', 'prob_1']) \n",
    "# Data set consisting test data \n",
    "df_test_dataset = pd.DataFrame(X_test, columns = df_final.drop([\"TARGET\", \"ID\"], axis = 1).columns)\n",
    "# Data set consisting predicted outcome of borrower from test data\n",
    "df_prediction_target = pd.DataFrame(y_pred_LR,columns= ['Predicted Outcome'])\n",
    "# Data set consisting known outcome of borrower from test data\n",
    "df_target = pd.DataFrame(y_test,columns= ['Original Outcome'])"
   ]
  },
  {
   "cell_type": "code",
   "execution_count": 107,
   "metadata": {},
   "outputs": [],
   "source": [
    "dfx=pd.concat([df_target, df_prediction_target, df_prediction_prob, df_test_dataset], axis=1)"
   ]
  },
  {
   "cell_type": "code",
   "execution_count": 108,
   "metadata": {},
   "outputs": [],
   "source": [
    "# Scaling probability of being a punctual borrower between 300 to 900\n",
    "dfx[\"Score\"] = 300 + dfx[\"prob_0\"]*600"
   ]
  },
  {
   "cell_type": "code",
   "execution_count": 109,
   "metadata": {},
   "outputs": [
    {
     "name": "stdout",
     "output_type": "stream",
     "text": [
      "0.9138755980861244\n"
     ]
    }
   ],
   "source": [
    "print(accuracy_score(y_test, y_pred_LR))"
   ]
  },
  {
   "cell_type": "code",
   "execution_count": 110,
   "metadata": {},
   "outputs": [
    {
     "data": {
      "text/html": [
       "<div>\n",
       "<style scoped>\n",
       "    .dataframe tbody tr th:only-of-type {\n",
       "        vertical-align: middle;\n",
       "    }\n",
       "\n",
       "    .dataframe tbody tr th {\n",
       "        vertical-align: top;\n",
       "    }\n",
       "\n",
       "    .dataframe thead th {\n",
       "        text-align: right;\n",
       "    }\n",
       "</style>\n",
       "<table border=\"1\" class=\"dataframe\">\n",
       "  <thead>\n",
       "    <tr style=\"text-align: right;\">\n",
       "      <th></th>\n",
       "      <th>Original Outcome</th>\n",
       "      <th>Predicted Outcome</th>\n",
       "      <th>prob_0</th>\n",
       "      <th>prob_1</th>\n",
       "      <th>DerogCnt</th>\n",
       "      <th>CollectCnt</th>\n",
       "      <th>BanruptcyInd</th>\n",
       "      <th>InqCnt06</th>\n",
       "      <th>InqTimeLast</th>\n",
       "      <th>InqFinanceCnt24</th>\n",
       "      <th>...</th>\n",
       "      <th>TLBalHCPct</th>\n",
       "      <th>TLSatPct</th>\n",
       "      <th>TLDel3060Cnt24</th>\n",
       "      <th>TLDel90Cnt24</th>\n",
       "      <th>TLDel60CntAll</th>\n",
       "      <th>TLOpenPct</th>\n",
       "      <th>TLBadDerogCnt</th>\n",
       "      <th>TLDel60Cnt24</th>\n",
       "      <th>TLOpen24Pct</th>\n",
       "      <th>Score</th>\n",
       "    </tr>\n",
       "  </thead>\n",
       "  <tbody>\n",
       "    <tr>\n",
       "      <th>0</th>\n",
       "      <td>0.0</td>\n",
       "      <td>0.0</td>\n",
       "      <td>0.870067</td>\n",
       "      <td>0.129933</td>\n",
       "      <td>0.072806</td>\n",
       "      <td>-0.448575</td>\n",
       "      <td>2.481693</td>\n",
       "      <td>-0.594961</td>\n",
       "      <td>0.384123</td>\n",
       "      <td>-0.313484</td>\n",
       "      <td>...</td>\n",
       "      <td>0.342128</td>\n",
       "      <td>-1.054254</td>\n",
       "      <td>-0.45662</td>\n",
       "      <td>1.249193</td>\n",
       "      <td>4.854093</td>\n",
       "      <td>-1.426161</td>\n",
       "      <td>0.679337</td>\n",
       "      <td>0.927635</td>\n",
       "      <td>-0.831562</td>\n",
       "      <td>822.040157</td>\n",
       "    </tr>\n",
       "    <tr>\n",
       "      <th>1</th>\n",
       "      <td>0.0</td>\n",
       "      <td>0.0</td>\n",
       "      <td>0.970470</td>\n",
       "      <td>0.029530</td>\n",
       "      <td>0.072806</td>\n",
       "      <td>-0.448575</td>\n",
       "      <td>-0.402951</td>\n",
       "      <td>-0.594961</td>\n",
       "      <td>-0.039492</td>\n",
       "      <td>-0.313484</td>\n",
       "      <td>...</td>\n",
       "      <td>-1.883608</td>\n",
       "      <td>-0.083894</td>\n",
       "      <td>-0.45662</td>\n",
       "      <td>1.249193</td>\n",
       "      <td>0.179121</td>\n",
       "      <td>-1.828384</td>\n",
       "      <td>0.679337</td>\n",
       "      <td>0.927635</td>\n",
       "      <td>0.914986</td>\n",
       "      <td>882.281937</td>\n",
       "    </tr>\n",
       "    <tr>\n",
       "      <th>2</th>\n",
       "      <td>0.0</td>\n",
       "      <td>0.0</td>\n",
       "      <td>0.812086</td>\n",
       "      <td>0.187914</td>\n",
       "      <td>0.072806</td>\n",
       "      <td>0.608238</td>\n",
       "      <td>-0.402951</td>\n",
       "      <td>-0.014613</td>\n",
       "      <td>-0.463107</td>\n",
       "      <td>-0.547859</td>\n",
       "      <td>...</td>\n",
       "      <td>1.504809</td>\n",
       "      <td>-0.417309</td>\n",
       "      <td>-0.45662</td>\n",
       "      <td>1.249193</td>\n",
       "      <td>-0.245877</td>\n",
       "      <td>-0.126562</td>\n",
       "      <td>0.679337</td>\n",
       "      <td>0.927635</td>\n",
       "      <td>0.914986</td>\n",
       "      <td>787.251350</td>\n",
       "    </tr>\n",
       "    <tr>\n",
       "      <th>3</th>\n",
       "      <td>0.0</td>\n",
       "      <td>0.0</td>\n",
       "      <td>0.938215</td>\n",
       "      <td>0.061785</td>\n",
       "      <td>0.072806</td>\n",
       "      <td>-0.448575</td>\n",
       "      <td>2.481693</td>\n",
       "      <td>-0.014613</td>\n",
       "      <td>-0.463107</td>\n",
       "      <td>1.092767</td>\n",
       "      <td>...</td>\n",
       "      <td>0.763274</td>\n",
       "      <td>0.805682</td>\n",
       "      <td>-0.45662</td>\n",
       "      <td>-0.534757</td>\n",
       "      <td>-0.670874</td>\n",
       "      <td>0.440554</td>\n",
       "      <td>-0.712720</td>\n",
       "      <td>-0.633712</td>\n",
       "      <td>0.579212</td>\n",
       "      <td>862.929142</td>\n",
       "    </tr>\n",
       "    <tr>\n",
       "      <th>4</th>\n",
       "      <td>0.0</td>\n",
       "      <td>0.0</td>\n",
       "      <td>0.876075</td>\n",
       "      <td>0.123925</td>\n",
       "      <td>-0.546785</td>\n",
       "      <td>-0.448575</td>\n",
       "      <td>-0.402951</td>\n",
       "      <td>-0.014613</td>\n",
       "      <td>-0.463107</td>\n",
       "      <td>-0.782234</td>\n",
       "      <td>...</td>\n",
       "      <td>1.107814</td>\n",
       "      <td>1.398732</td>\n",
       "      <td>-0.45662</td>\n",
       "      <td>-0.534757</td>\n",
       "      <td>-0.670874</td>\n",
       "      <td>2.256276</td>\n",
       "      <td>-0.712720</td>\n",
       "      <td>-0.633712</td>\n",
       "      <td>0.187330</td>\n",
       "      <td>825.645194</td>\n",
       "    </tr>\n",
       "  </tbody>\n",
       "</table>\n",
       "<p>5 rows × 33 columns</p>\n",
       "</div>"
      ],
      "text/plain": [
       "   Original Outcome  Predicted Outcome    prob_0    prob_1  DerogCnt  \\\n",
       "0               0.0                0.0  0.870067  0.129933  0.072806   \n",
       "1               0.0                0.0  0.970470  0.029530  0.072806   \n",
       "2               0.0                0.0  0.812086  0.187914  0.072806   \n",
       "3               0.0                0.0  0.938215  0.061785  0.072806   \n",
       "4               0.0                0.0  0.876075  0.123925 -0.546785   \n",
       "\n",
       "   CollectCnt  BanruptcyInd  InqCnt06  InqTimeLast  InqFinanceCnt24  ...  \\\n",
       "0   -0.448575      2.481693 -0.594961     0.384123        -0.313484  ...   \n",
       "1   -0.448575     -0.402951 -0.594961    -0.039492        -0.313484  ...   \n",
       "2    0.608238     -0.402951 -0.014613    -0.463107        -0.547859  ...   \n",
       "3   -0.448575      2.481693 -0.014613    -0.463107         1.092767  ...   \n",
       "4   -0.448575     -0.402951 -0.014613    -0.463107        -0.782234  ...   \n",
       "\n",
       "   TLBalHCPct  TLSatPct  TLDel3060Cnt24  TLDel90Cnt24  TLDel60CntAll  \\\n",
       "0    0.342128 -1.054254        -0.45662      1.249193       4.854093   \n",
       "1   -1.883608 -0.083894        -0.45662      1.249193       0.179121   \n",
       "2    1.504809 -0.417309        -0.45662      1.249193      -0.245877   \n",
       "3    0.763274  0.805682        -0.45662     -0.534757      -0.670874   \n",
       "4    1.107814  1.398732        -0.45662     -0.534757      -0.670874   \n",
       "\n",
       "   TLOpenPct  TLBadDerogCnt  TLDel60Cnt24  TLOpen24Pct       Score  \n",
       "0  -1.426161       0.679337      0.927635    -0.831562  822.040157  \n",
       "1  -1.828384       0.679337      0.927635     0.914986  882.281937  \n",
       "2  -0.126562       0.679337      0.927635     0.914986  787.251350  \n",
       "3   0.440554      -0.712720     -0.633712     0.579212  862.929142  \n",
       "4   2.256276      -0.712720     -0.633712     0.187330  825.645194  \n",
       "\n",
       "[5 rows x 33 columns]"
      ]
     },
     "execution_count": 110,
     "metadata": {},
     "output_type": "execute_result"
    }
   ],
   "source": [
    "dfx.head()"
   ]
  },
  {
   "cell_type": "code",
   "execution_count": 111,
   "metadata": {},
   "outputs": [
    {
     "data": {
      "text/plain": [
       "845.9116616649467"
      ]
     },
     "execution_count": 111,
     "metadata": {},
     "output_type": "execute_result"
    }
   ],
   "source": [
    "dfx_final_scores = dfx[[\"Original Outcome\", \"Score\"]]\n",
    "dfx_final_scores[\"Score\"].mean()"
   ]
  },
  {
   "cell_type": "code",
   "execution_count": 112,
   "metadata": {},
   "outputs": [
    {
     "data": {
      "text/plain": [
       "199    493.585254\n",
       "282    611.110019\n",
       "237    628.434306\n",
       "87     652.622179\n",
       "329    659.763693\n",
       "          ...    \n",
       "274    894.967088\n",
       "141    895.554279\n",
       "310    896.493811\n",
       "348    896.656707\n",
       "207    897.612799\n",
       "Name: Score, Length: 380, dtype: float64"
      ]
     },
     "execution_count": 112,
     "metadata": {},
     "output_type": "execute_result"
    }
   ],
   "source": [
    "dfx_final_scores[dfx_final_scores[\"Original Outcome\"]==0][\"Score\"].sort_values(ascending = True)\n",
    "# Good Borrowers with their Predicted Credit Score"
   ]
  },
  {
   "cell_type": "code",
   "execution_count": 113,
   "metadata": {},
   "outputs": [
    {
     "data": {
      "text/plain": [
       "256    890.856459\n",
       "351    885.142436\n",
       "11     884.749914\n",
       "251    882.867583\n",
       "271    878.850322\n",
       "79     875.737097\n",
       "91     875.221625\n",
       "291    868.136776\n",
       "336    867.490121\n",
       "397    867.016480\n",
       "73     861.345658\n",
       "224    857.451635\n",
       "49     857.070949\n",
       "187    855.546425\n",
       "103    851.254679\n",
       "148    848.115944\n",
       "292    843.549544\n",
       "387    840.318629\n",
       "75     824.145479\n",
       "159    823.388041\n",
       "352    823.257994\n",
       "107    822.989075\n",
       "15     810.070234\n",
       "358    806.366372\n",
       "231    788.993904\n",
       "34     786.451500\n",
       "396    786.446103\n",
       "36     786.355391\n",
       "105    783.691093\n",
       "197    781.121005\n",
       "175    778.005441\n",
       "206    774.131444\n",
       "10     669.841458\n",
       "112    640.313960\n",
       "275    603.852652\n",
       "402    575.504972\n",
       "401    573.073396\n",
       "128    537.665177\n",
       "Name: Score, dtype: float64"
      ]
     },
     "execution_count": 113,
     "metadata": {},
     "output_type": "execute_result"
    }
   ],
   "source": [
    "dfx_final_scores[dfx_final_scores[\"Original Outcome\"]==1][\"Score\"].sort_values(ascending = False)\n",
    "# Bad Borrowers with their Predicted Credit Score"
   ]
  },
  {
   "cell_type": "markdown",
   "metadata": {},
   "source": [
    "### <font color='lightgreen'>Sustainbility "
   ]
  },
  {
   "cell_type": "code",
   "execution_count": null,
   "metadata": {},
   "outputs": [
    {
     "data": {
      "text/plain": [
       "300    19000\n",
       "301    19000\n",
       "302    19000\n",
       "303    19000\n",
       "304    19000\n",
       "       ...  \n",
       "896      300\n",
       "897      100\n",
       "898        0\n",
       "899        0\n",
       "900        0\n",
       "Length: 601, dtype: int64"
      ]
     },
     "metadata": {},
     "output_type": "display_data"
    }
   ],
   "source": [
    "# Assuming bank gains 100$ from a good loan & loses 500$ from a bad loan\n",
    "# With beta as threshold value decided by the bank\n",
    "# Finding the ideal beta value for profit maximisation\n",
    "pf_plot = {}\n",
    "for beta in range(300,901):\n",
    "    Good_loans_Cp = np.sum((dfx_final_scores[dfx_final_scores[\"Original Outcome\"]==0][\"Score\"]>beta))\n",
    "    Bad_loans_Cp = np.sum((dfx_final_scores[dfx_final_scores[\"Original Outcome\"]==1][\"Score\"]>beta))\n",
    "    Profit = Good_loans_Cp*100-Bad_loans_Cp*500\n",
    "    pf_plot[beta] = Profit\n",
    "pf = pd.Series(pf_plot)\n",
    "pf"
   ]
  },
  {
   "cell_type": "code",
   "execution_count": null,
   "metadata": {},
   "outputs": [
    {
     "data": {
      "text/plain": [
       "<matplotlib.legend.Legend at 0x2b85bb490>"
      ]
     },
     "metadata": {},
     "output_type": "display_data"
    },
    {
     "data": {
      "image/png": "[encoded data removed]",
      "text/plain": [
       "<Figure size 720x576 with 1 Axes>"
      ]
     },
     "metadata": {},
     "output_type": "display_data"
    }
   ],
   "source": [
    "plt.figure(figsize=(10,8))\n",
    "plt.plot(pf,'g')\n",
    "plt.plot([789,789],[0,28000],'r-.', label = \"beta_ideal = 789\")\n",
    "plt.plot([300,900],[22400,22400],'b-.', label = \"Max Profit = $ 22,400 \")\n",
    "plt.xlabel(\"Threshold Credit Score\")\n",
    "plt.ylabel(\"Profit\")\n",
    "plt.title(\"Profit Maximzation\")\n",
    "plt.legend()"
   ]
  },
  {
   "cell_type": "code",
   "execution_count": 114,
   "metadata": {},
   "outputs": [],
   "source": [
    "# Threshold value decided by the bank\n",
    "beta = 789 # Let\n",
    "Good_loans_Cp = np.sum((dfx_final_scores[dfx_final_scores[\"Original Outcome\"]==0][\"Score\"]>beta))\n",
    "Bad_loans_Cp = np.sum((dfx_final_scores[dfx_final_scores[\"Original Outcome\"]==1][\"Score\"]>beta))\n"
   ]
  },
  {
   "cell_type": "code",
   "execution_count": 115,
   "metadata": {},
   "outputs": [],
   "source": [
    "Good_loans = np.sum(dfx_final_scores[\"Original Outcome\"]==0)\n",
    "Bad_loans = np.sum(dfx_final_scores[\"Original Outcome\"]==1)\n",
    "                "
   ]
  },
  {
   "cell_type": "code",
   "execution_count": 116,
   "metadata": {},
   "outputs": [
    {
     "name": "stdout",
     "output_type": "stream",
     "text": [
      "Number of Good Loans given with threshold limit at 789 : 344 Out Of 380\n",
      "Number of Bad Loans given with threshold limit at 789 :24 Out Of 38\n"
     ]
    }
   ],
   "source": [
    "print(\"Number of Good Loans given with threshold limit at %s \"% (beta), end = \": \")\n",
    "print(Good_loans_Cp, end=\" Out Of \")\n",
    "print(Good_loans)\n",
    "print(\"Number of Bad Loans given with threshold limit at %s \"% (beta), end = \":\")\n",
    "print(Bad_loans_Cp, end=\" Out Of \")\n",
    "print(Bad_loans)"
   ]
  },
  {
   "cell_type": "code",
   "execution_count": 119,
   "metadata": {},
   "outputs": [],
   "source": [
    "\n",
    "Profit_max = 19000\n",
    "for beta in range(300,901):\n",
    "    Good_loans_Cp = np.sum((dfx_final_scores[dfx_final_scores[\"Original Outcome\"]==0][\"Score\"]>beta))\n",
    "    Bad_loans_Cp = np.sum((dfx_final_scores[dfx_final_scores[\"Original Outcome\"]==1][\"Score\"]>beta))\n",
    "    Profit = Good_loans_Cp*100-Bad_loans_Cp*500\n",
    "    if Profit > Profit_max:\n",
    "        Profit_max = Profit\n",
    "        beta_ideal = beta\n",
    "        \n",
    "        "
   ]
  },
  {
   "cell_type": "code",
   "execution_count": 120,
   "metadata": {},
   "outputs": [
    {
     "data": {
      "text/plain": [
       "22400"
      ]
     },
     "execution_count": 120,
     "metadata": {},
     "output_type": "execute_result"
    }
   ],
   "source": [
    "Profit_max # Max profit possible for a given threshold credit score"
   ]
  },
  {
   "cell_type": "code",
   "execution_count": 121,
   "metadata": {},
   "outputs": [
    {
     "data": {
      "text/plain": [
       "789"
      ]
     },
     "execution_count": 121,
     "metadata": {},
     "output_type": "execute_result"
    }
   ],
   "source": [
    "beta_ideal # Ideal Threshold Credit Score"
   ]
  },
  {
   "cell_type": "markdown",
   "metadata": {},
   "source": [
    "---\n",
    "# <font color='red'>Thanks"
   ]
  }
 ],
 "metadata": {
  "kernelspec": {
   "display_name": "Python 3.8.13",
   "language": "python",
   "name": "python3"
  },
  "language_info": {
   "codemirror_mode": {
    "name": "ipython",
    "version": 3
   },
   "file_extension": ".py",
   "mimetype": "text/x-python",
   "name": "python",
   "nbconvert_exporter": "python",
   "pygments_lexer": "ipython3",
   "version": "3.8.13"
  },
  "orig_nbformat": 4,
  "vscode": {
   "interpreter": {
    "hash": "43edbf23a98aa37d21cb3a329bb5ba4ca75483ed7d5b8f240834e87cd3c93457"
   }
  }
 },
 "nbformat": 4,
 "nbformat_minor": 2
}
